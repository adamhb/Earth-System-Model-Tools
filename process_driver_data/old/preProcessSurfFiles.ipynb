{
 "cells": [
  {
   "cell_type": "markdown",
   "id": "fee882c6-ad89-4d18-9819-a8e3d7005340",
   "metadata": {},
   "source": [
    "### Pre-process surf data"
   ]
  },
  {
   "cell_type": "code",
   "execution_count": 1,
   "id": "718db5fe-7d9b-4b81-8dc4-a2100426720c",
   "metadata": {},
   "outputs": [],
   "source": [
    "import os\n",
    "import xarray as xr"
   ]
  },
  {
   "cell_type": "markdown",
   "id": "db635024-4dfe-4874-9dc1-cd3bf9bb091b",
   "metadata": {},
   "source": [
    "### User-defined parameters"
   ]
  },
  {
   "cell_type": "code",
   "execution_count": null,
   "id": "45d55226-46a7-4bc4-b5aa-c2af0e15003f",
   "metadata": {},
   "outputs": [],
   "source": [
    "surface_data_file_path_to_clean = ''\n",
    "site_name = ''"
   ]
  },
  {
   "cell_type": "markdown",
   "id": "4afdf616-8185-47a0-8585-c96a326adaf7",
   "metadata": {},
   "source": [
    "### Function to clean problematic surface data files"
   ]
  },
  {
   "cell_type": "code",
   "execution_count": 2,
   "id": "b7f5133a-bcee-4577-b9c8-f95e6b16f9a7",
   "metadata": {},
   "outputs": [],
   "source": [
    "def clean_surf(f,site):\n",
    "    ds = xr.open_dataset(f)\n",
    "    #save original version in case we need it again\n",
    "    new_file_name = '/glade/scratch/adamhb/my_subset_data/safetySave/' + site + \"_\" + os.path.basename(f)\n",
    "    print(new_file_name)\n",
    "    ds.to_netcdf(new_file_name, format = \"NETCDF3_64BIT\", mode = \"w\")\n",
    "    \n",
    "    #alterations\n",
    "    ds.update({'LANDFRAC_PFT':((\"lsmlat\",\"lsmlon\"),[[1.]])})\n",
    "    ds.update({'PFTDATA_MASK':((\"lsmlat\",\"lsmlon\"),[[1]])})\n",
    "    ds.update({'PCT_NATVEG':((\"lsmlat\",\"lsmlon\"),[[100.]])})\n",
    "    ds.update({'PCT_CROP':((\"lsmlat\",\"lsmlon\"),[[0.]])})\n",
    "    ds.to_netcdf(f, format = \"NETCDF3_64BIT\", mode = \"w\")"
   ]
  },
  {
   "cell_type": "markdown",
   "id": "1fe242d5-67b9-49ac-a525-296666c5304e",
   "metadata": {},
   "source": [
    "### Clean files"
   ]
  },
  {
   "cell_type": "code",
   "execution_count": null,
   "id": "c9eb8561-91e9-4386-8e19-a2292e3152eb",
   "metadata": {},
   "outputs": [],
   "source": [
    "clean_surf(surface_data_file_path_to_clean,site_name)"
   ]
  }
 ],
 "metadata": {
  "kernelspec": {
   "display_name": "env4_work",
   "language": "python",
   "name": "env4_work"
  },
  "language_info": {
   "codemirror_mode": {
    "name": "ipython",
    "version": 3
   },
   "file_extension": ".py",
   "mimetype": "text/x-python",
   "name": "python",
   "nbconvert_exporter": "python",
   "pygments_lexer": "ipython3",
   "version": "3.8.13"
  }
 },
 "nbformat": 4,
 "nbformat_minor": 5
}
