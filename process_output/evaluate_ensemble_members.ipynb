{
 "cells": [
  {
   "cell_type": "markdown",
   "id": "c3302eac-62cb-400a-ab91-e70a664bfb6d",
   "metadata": {},
   "source": [
    "# Evaluate land model output from perturbed parameter ensemble\n",
    "\n",
    "This script evaluates model output from a set of ensemble members in a perturbed parameter experiment. It identifies the best-performing ensemble members"
   ]
  },
  {
   "cell_type": "markdown",
   "id": "66f1106e-fa29-4c54-8875-27acd052b973",
   "metadata": {},
   "source": [
    "## Import modules"
   ]
  },
  {
   "cell_type": "code",
   "execution_count": 344,
   "id": "e13aeea6-caa4-4148-89fc-1ee3398f3672",
   "metadata": {},
   "outputs": [],
   "source": [
    "import os\n",
    "import xarray as xr\n",
    "import pandas as pd\n",
    "import numpy as np\n",
    "import matplotlib.pyplot as plt\n",
    "import functools\n",
    "import netCDF4 as nc4"
   ]
  },
  {
   "cell_type": "code",
   "execution_count": 30,
   "id": "47d3b92c-2549-49c2-9245-80cc0d7df6a4",
   "metadata": {},
   "outputs": [],
   "source": []
  },
  {
   "cell_type": "markdown",
   "id": "fd33c036-c080-4dac-95dd-831313c262e0",
   "metadata": {},
   "source": [
    "## Define paths and script parameters"
   ]
  },
  {
   "cell_type": "code",
   "execution_count": 447,
   "id": "63b5914f-86eb-4d3c-b1b5-44e7cd24a581",
   "metadata": {},
   "outputs": [],
   "source": [
    "# Case name(s) for the simulation to process\n",
    "cases = ['conifer-allom-082323a_-17e2acb6a_FATES-55794e61',\n",
    "        'conifer-allom-082323b_-17e2acb6a_FATES-55794e61',\n",
    "        'conifer-allom-082323c_-17e2acb6a_FATES-55794e61',\n",
    "        'conifer-allom-082323d_-17e2acb6a_FATES-55794e61'\n",
    "        ]\n",
    "conifer_only_case = 'conifer-allom-082323e_-17e2acb6a_FATES-55794e61'\n",
    "\n",
    "\n",
    "# Benchmarking metrics\n",
    "my_metrics = [\"BA\",\"AGB\",\"TreeStemD\",\"ShannonE\",\"NPP\",\"FailedPFTs\"]\n",
    "\n",
    "# Parameters perturbed (case-specific)\n",
    "perturbed_params = {'conifer-allom-082323a_-17e2acb6a_FATES-55794e61':[\"fates_allom_d2ca_coefficient_min\",\"fates_mort_scalar_cstarvation\"],\n",
    "                    'conifer-allom-082323b_-17e2acb6a_FATES-55794e61':[\"fates_allom_d2ca_coefficient_min\",\"fates_mort_scalar_cstarvation\"],\n",
    "                    'conifer-allom-082323c_-17e2acb6a_FATES-55794e61':[\"fates_allom_blca_expnt_diff\"],\n",
    "                    'conifer-allom-082323d_-17e2acb6a_FATES-55794e61':['fates_allom_d2h1','fates_allom_d2h2','fates_allom_dbh_maxheight']}\n",
    "\n",
    "perturbed_params_conifer = [\"fates_allom_d2ca_coefficient_min\",\"fates_mort_scalar_cstarvation\"]\n",
    "\n",
    "# Optional\n",
    "case_path = None\n",
    "\n",
    "# Path where case output lives\n",
    "case_output_root = '/glade/scratch/adamhb/archive'\n",
    "\n",
    "# Path to ensemble params\n",
    "params_root = '/glade/u/home/adamhb/ahb_params/fates_api_25/ensembles'\n",
    "\n",
    "# Path to put any processed output\n",
    "processed_output_root = '/glade/scratch/adamhb/processed_output'\n",
    "\n",
    "# Path to where the ensemble member parameter files are stored\n",
    "params_files_path = '/glade/u/home/adamhb/ahb_params/fates_api_25/ensembles/conifer_allom_082323a'\n",
    "\n",
    "# Last n years\n",
    "last_n_years = 1\n",
    "\n",
    "# Pfts\n",
    "pft_names = np.array([\"pine\",\"cedar\",\"fir\",\"shrub\",\"oak\"])\n",
    "n_pfts = len(pft_names)\n",
    "pft_colors = ['gold','darkorange','darkolivegreen','brown','springgreen']"
   ]
  },
  {
   "cell_type": "markdown",
   "id": "95d544df-ca1e-4557-bb1a-65f92ea096b6",
   "metadata": {},
   "source": [
    "## Variables to import"
   ]
  },
  {
   "cell_type": "code",
   "execution_count": 226,
   "id": "3d772d3f-227a-476f-a725-676fd16068b6",
   "metadata": {},
   "outputs": [],
   "source": [
    "# Keep first two no matter what. They are needed to unravel multi-plexed dimensions\n",
    "fields = ['FATES_SEED_PROD_USTORY_SZ','FATES_VEGC_AP','FATES_BURNFRAC',\n",
    "          'FATES_NPLANT_PF','FATES_FIRE_INTENSITY_BURNFRAC','FATES_IGNITIONS',\n",
    "          'FATES_MORTALITY_FIRE_SZPF','FATES_BASALAREA_SZPF','FATES_CANOPYCROWNAREA_APPF',\n",
    "          'FATES_CROWNAREA_APPF','FATES_FUEL_AMOUNT_APFC','FATES_NPLANT_SZPF',\n",
    "          'FATES_PATCHAREA_AP','FATES_CROWNAREA_PF','FATES_VEGC_ABOVEGROUND','FATES_NPP_PF']"
   ]
  },
  {
   "cell_type": "markdown",
   "id": "e4333c0e-e5fa-45cf-96eb-9dc637e10f2f",
   "metadata": {
    "tags": []
   },
   "source": [
    "## Functions"
   ]
  },
  {
   "cell_type": "code",
   "execution_count": 448,
   "id": "a5d62ebe-ee40-4b72-a31f-ba6cd311af05",
   "metadata": {},
   "outputs": [],
   "source": [
    "def setup_benchmarking_data_structure(metrics,parameters):\n",
    "    \n",
    "    metrics_out = metrics\n",
    "    \n",
    "    # add pft-specific vars\n",
    "    pft_specific_ba_metrics = [\"BA_\" + pft for pft in pft_names]  \n",
    "    metrics_out.extend(pft_specific_ba_metrics)\n",
    "    \n",
    "    # add inst tag\n",
    "    metrics_out.append(\"inst\")\n",
    "    \n",
    "    # add parameters for each pft\n",
    "    parameter_cols = []\n",
    "    new_param_col = []\n",
    "    for param in perturbed_params_conifer:\n",
    "        for p in pft_names:\n",
    "            new_param_col = param + \"_\" + p\n",
    "            parameter_cols.append(new_param_col)\n",
    "    \n",
    "    metrics_out.extend(parameter_cols)\n",
    "    \n",
    "    benchmarking_dict = {}\n",
    "    for i in metrics_out:\n",
    "        benchmarking_dict[i] = []\n",
    "    return benchmarking_dict"
   ]
  },
  {
   "cell_type": "code",
   "execution_count": 449,
   "id": "9d63d6d6-e14a-47d6-8087-7bbeccf1116c",
   "metadata": {},
   "outputs": [
    {
     "data": {
      "text/plain": [
       "{'BA': [],\n",
       " 'AGB': [],\n",
       " 'TreeStemD': [],\n",
       " 'ShannonE': [],\n",
       " 'NPP': [],\n",
       " 'FailedPFTs': [],\n",
       " 'BA_pine': [],\n",
       " 'BA_cedar': [],\n",
       " 'BA_fir': [],\n",
       " 'BA_shrub': [],\n",
       " 'BA_oak': [],\n",
       " 'inst': [],\n",
       " 'fates_allom_d2ca_coefficient_min_pine': [],\n",
       " 'fates_allom_d2ca_coefficient_min_cedar': [],\n",
       " 'fates_allom_d2ca_coefficient_min_fir': [],\n",
       " 'fates_allom_d2ca_coefficient_min_shrub': [],\n",
       " 'fates_allom_d2ca_coefficient_min_oak': [],\n",
       " 'fates_mort_scalar_cstarvation_pine': [],\n",
       " 'fates_mort_scalar_cstarvation_cedar': [],\n",
       " 'fates_mort_scalar_cstarvation_fir': [],\n",
       " 'fates_mort_scalar_cstarvation_shrub': [],\n",
       " 'fates_mort_scalar_cstarvation_oak': []}"
      ]
     },
     "execution_count": 449,
     "metadata": {},
     "output_type": "execute_result"
    }
   ],
   "source": [
    "# pick up with integrating this into the script below\n",
    "setup_benchmarking_data_structure(my_metrics,perturbed_params_conifer)"
   ]
  },
  {
   "cell_type": "markdown",
   "id": "6dafdc5e-1189-4478-845a-993483a80182",
   "metadata": {},
   "source": [
    "## Get information about a case"
   ]
  },
  {
   "cell_type": "code",
   "execution_count": 223,
   "id": "fc61ea47-6610-4849-98ce-14f371924cce",
   "metadata": {},
   "outputs": [
    {
     "name": "stdout",
     "output_type": "stream",
     "text": [
      "ninst: 36\n"
     ]
    }
   ],
   "source": [
    "full_case_path = esm_tools.get_path_to_sim('conifer-allom-082323a_-17e2acb6a_FATES-55794e61',\n",
    "                                           case_output_root)\n",
    "\n",
    "inst_tags = esm_tools.get_unique_inst_tags(full_case_path)\n",
    "n_inst = len(inst_tags)\n",
    "print(\"ninst:\",n_inst)"
   ]
  },
  {
   "cell_type": "markdown",
   "id": "379bb7e3-53e2-4844-b664-64dfaefd2c5c",
   "metadata": {},
   "source": [
    "## Test inst data"
   ]
  },
  {
   "cell_type": "code",
   "execution_count": 195,
   "id": "8d86409b-17f7-4405-9a0c-e45c26507562",
   "metadata": {},
   "outputs": [],
   "source": [
    "inst_files = esm_tools.get_files_of_inst(full_case_path,inst_tags[0],last_n_years=last_n_years)\n",
    "ds = esm_tools.multiple_netcdf_to_xarray(inst_files,fields)"
   ]
  },
  {
   "cell_type": "code",
   "execution_count": 382,
   "id": "cf62f3d0-2b21-4f81-8ac4-102789323da8",
   "metadata": {},
   "outputs": [],
   "source": [
    "def extract_variable_from_netcdf(file_path, variable_name,pft_index):\n",
    "    \"\"\"\n",
    "    Extract a variable from a NetCDF file.\n",
    "\n",
    "    Parameters:\n",
    "    - file_path: The path to the NetCDF file.\n",
    "    - variable_name: The name of the variable to extract.\n",
    "\n",
    "    Returns:\n",
    "    - The extracted variable data.\n",
    "    \"\"\"\n",
    "    with nc4.Dataset(file_path, 'r') as dataset:\n",
    "        # Check if the variable exists in the dataset\n",
    "        if variable_name in dataset.variables:\n",
    "            variable_data = dataset.variables[variable_name][:]\n",
    "            return variable_data.data[pft_index]\n",
    "        else:\n",
    "            raise ValueError(f\"'{variable_name}' not found in the NetCDF file.\")"
   ]
  },
  {
   "cell_type": "code",
   "execution_count": 387,
   "id": "59d5a265-cf52-4afc-bf5b-b34595c7883a",
   "metadata": {},
   "outputs": [],
   "source": [
    "def get_parameter_file_of_inst(params_root,param_dir,inst):\n",
    "    \n",
    "    '''Inputs:\n",
    "    1) root directory where param perturbation params are stored\n",
    "    2) subdirectory for case of interest where instance-specific parameter files are stored\n",
    "    3) the instance tag (e.g. 0001)\n",
    "    \n",
    "    Returns: full path to parameter file'''\n",
    "    \n",
    "    path_to_param_files = os.path.join(params_root,param_dir)\n",
    "    \n",
    "    substring = \"_\" + inst + \".nc\"\n",
    "\n",
    "    # Get the instance files\n",
    "    file = esm_tools.find_files_with_substring(path_to_param_files, substring)\n",
    "    \n",
    "    full_file_path = os.path.join(path_to_param_files,file[0])\n",
    "    \n",
    "    return full_file_path"
   ]
  },
  {
   "cell_type": "code",
   "execution_count": 395,
   "id": "03ed9eec-9331-4788-80e5-6e3bffefa48d",
   "metadata": {},
   "outputs": [
    {
     "data": {
      "text/plain": [
       "<module 'esm_tools' from '/glade/u/home/adamhb/Earth-System-Model-Tools/process_output/esm_tools.py'>"
      ]
     },
     "execution_count": 395,
     "metadata": {},
     "output_type": "execute_result"
    }
   ],
   "source": [
    "import importlib\n",
    "importlib.reload(esm_tools)"
   ]
  },
  {
   "cell_type": "code",
   "execution_count": 396,
   "id": "359b9751-809e-4145-952b-63aabcd9001e",
   "metadata": {},
   "outputs": [
    {
     "data": {
      "text/plain": [
       "0.4899647576565016"
      ]
     },
     "execution_count": 396,
     "metadata": {},
     "output_type": "execute_result"
    }
   ],
   "source": [
    "file_path = esm_tools.get_parameter_file_of_inst(params_root,'conifer_allom_082323a',\"0001\")\n",
    "esm_tools.extract_variable_from_netcdf(file_path,\"fates_allom_d2ca_coefficient_min\",pft_index=1)"
   ]
  },
  {
   "cell_type": "markdown",
   "id": "43a931ca-c871-40ea-98e6-901d3f897a45",
   "metadata": {},
   "source": [
    "### Define which parameters were perturbed"
   ]
  },
  {
   "cell_type": "markdown",
   "id": "3911a4dd-d88a-41d0-ba89-e19aae9073cf",
   "metadata": {
    "tags": []
   },
   "source": [
    "## Benchmarking function"
   ]
  },
  {
   "cell_type": "code",
   "execution_count": 327,
   "id": "34267b85-8ada-49ce-a587-2870208d966d",
   "metadata": {},
   "outputs": [],
   "source": [
    "def get_benchmarks(case_name,metrics,last_n_years,parameters,test = False):\n",
    "      \n",
    "    print(\"Case:\",case_name)\n",
    "    \n",
    "    # Get info about the case\n",
    "    full_case_path = esm_tools.get_path_to_sim(case_name,case_output_root)\n",
    "    inst_tags = esm_tools.get_unique_inst_tags(full_case_path)\n",
    "    \n",
    "    if test == True:\n",
    "        inst_tags = inst_tags[:3]\n",
    "    \n",
    "    n_inst = len(inst_tags)\n",
    "    print(\"ninst:\",n_inst)\n",
    "    \n",
    "    # Set up the benchmarking data structure\n",
    "    bench_dict = setup_benchmarking_data_structure(metrics,parameters)\n",
    "    \n",
    "    for inst in inst_tags:\n",
    "        \n",
    "        print(\"Working on ensemble memeber\",inst,\"of\",len(inst_tags),\"members\")\n",
    "        \n",
    "        # Import the model output data for one ensemble member\n",
    "        inst_files = esm_tools.get_files_of_inst(full_case_path,\n",
    "                                                 inst,\n",
    "                                                 last_n_years)\n",
    "        \n",
    "        ds = esm_tools.multiple_netcdf_to_xarray(inst_files,fields)\n",
    "        \n",
    "        bench_dict['inst'].append(inst)\n",
    "        \n",
    "        ## Basal area [m2 ha-1] ##\n",
    "        if \"BA\" in bench_dict.keys():\n",
    "            \n",
    "            ## Pft-specific BA\n",
    "            pft_level_ba = esm_tools.get_pft_level_basal_area(ds)\n",
    "            \n",
    "            for i in range(len(pft_names)):\n",
    "                pft_name = pft_names[i]\n",
    "                bench_dict['BA_' + pft_name].append(pft_level_ba[i])\n",
    "            \n",
    "            ## Shannon equitability index (wrt BA) ##\n",
    "            bench_dict['ShannonE'].append(esm_tools.shannon_equitability(pft_level_ba))\n",
    "            \n",
    "            ## Number of failed pfts ##\n",
    "            bench_dict['FailedPFTs'].append(esm_tools.get_n_failed_pfts(pft_level_ba,ba_thresh=0.1))\n",
    "            \n",
    "            ## Total BA\n",
    "            bench_dict['BA'].append(pft_level_ba.sum())\n",
    "                  \n",
    "        ## Stem density [N ha-1] ##\n",
    "        if \"TreeStemD\" in bench_dict.keys():\n",
    "            \n",
    "            ## Total tree stem density\n",
    "            bench_dict[\"TreeStemD\"].append(esm_tools.get_total_stem_den(ds,trees_only=True))\n",
    "        \n",
    "        ## AGB [kg C m-2]\n",
    "        if \"AGB\" in bench_dict.keys():\n",
    "            bench_dict[\"AGB\"].append(esm_tools.get_AGB(ds))\n",
    "        \n",
    "        ## Total NPP [kg C m-2]\n",
    "        if \"NPP\" in bench_dict.keys():\n",
    "            bench_dict[\"NPP\"].append(esm_tools.get_total_npp(ds))        \n",
    "            \n",
    "        \n",
    "    return bench_dict"
   ]
  },
  {
   "cell_type": "code",
   "execution_count": 393,
   "id": "b855eacd-9cb7-4391-a98b-e4e2d1b7dd9c",
   "metadata": {},
   "outputs": [
    {
     "data": {
      "text/plain": [
       "<module 'esm_tools' from '/glade/u/home/adamhb/Earth-System-Model-Tools/process_output/esm_tools.py'>"
      ]
     },
     "execution_count": 393,
     "metadata": {},
     "output_type": "execute_result"
    }
   ],
   "source": [
    "import importlib\n",
    "importlib.reload(esm_tools)"
   ]
  },
  {
   "cell_type": "markdown",
   "id": "0f5e3542-debf-4a43-a670-f6bbbdb92d71",
   "metadata": {},
   "source": [
    "## Apply benchmarking function to one case"
   ]
  },
  {
   "cell_type": "code",
   "execution_count": 398,
   "id": "39761065-fcdc-40c0-ab57-57e57bd8d33b",
   "metadata": {},
   "outputs": [
    {
     "name": "stdout",
     "output_type": "stream",
     "text": [
      "Case: conifer-allom-082323a_-17e2acb6a_FATES-55794e61\n",
      "ninst: 3\n",
      "Working on ensemble memeber 0001 of 3 members\n",
      "Working on ensemble memeber 0002 of 3 members\n",
      "Working on ensemble memeber 0003 of 3 members\n"
     ]
    }
   ],
   "source": [
    "test_benchmarks_dict = get_benchmarks('conifer-allom-082323a_-17e2acb6a_FATES-55794e61',metrics = my_metrics, last_n_years=1,test=True)"
   ]
  },
  {
   "cell_type": "markdown",
   "id": "2fb2f4dd-e092-4156-88fb-e305cf999cf7",
   "metadata": {},
   "source": [
    "### Add the perturbed parameters to the dataframe"
   ]
  },
  {
   "cell_type": "code",
   "execution_count": 399,
   "id": "b5aedaa8-4a1c-4f36-91ab-11961e2fff0b",
   "metadata": {},
   "outputs": [],
   "source": [
    "test_benchmarks_df = pd.DataFrame(test_benchmarks_dict)\n",
    "\n",
    "fates_allom_d2ca_coefficient_min_pine = []\n",
    "\n",
    "full_case_path = esm_tools.get_path_to_sim('conifer-allom-082323a_-17e2acb6a_FATES-55794e61',case_output_root)\n",
    "inst_tags = esm_tools.get_unique_inst_tags(full_case_path)\n",
    "\n",
    "for inst in inst_tags:\n",
    "    file_path = esm_tools.get_parameter_file_of_inst(params_root,'conifer_allom_082323a',inst)\n",
    "    fates_allom_d2ca_coefficient_min_pine.append(esm_tools.extract_variable_from_netcdf(file_path,\"fates_allom_d2ca_coefficient_min\",pft_index=1))"
   ]
  },
  {
   "cell_type": "code",
   "execution_count": 400,
   "id": "d7821600-5b63-4267-b5df-ea470fba9237",
   "metadata": {},
   "outputs": [
    {
     "data": {
      "text/plain": [
       "[0.4899647576565016,\n",
       " 0.6591918798433293,\n",
       " 0.5591396913673465,\n",
       " 0.44387543429055387,\n",
       " 0.4669036704609957,\n",
       " 0.5378857997600446,\n",
       " 0.703276823991224,\n",
       " 0.5063956515778991,\n",
       " 0.5523904766795659,\n",
       " 0.5331186765507984,\n",
       " 0.445589932605435,\n",
       " 0.6040510370465719,\n",
       " 0.4148754940792792,\n",
       " 0.6158034102018053,\n",
       " 0.6923019152295269,\n",
       " 0.6682868080655677,\n",
       " 0.7297392477381135,\n",
       " 0.5727999652803268,\n",
       " 0.5140650055888949,\n",
       " 0.7155783184747277,\n",
       " 0.5974075654535408,\n",
       " 0.7953585351024293,\n",
       " 0.40052906094147095,\n",
       " 0.7447749617335179,\n",
       " 0.7641969451066422,\n",
       " 0.6861344558044802,\n",
       " 0.7885421302995264,\n",
       " 0.6471831583298981,\n",
       " 0.7374701578622666,\n",
       " 0.4596911083415758,\n",
       " 0.5813836285699507,\n",
       " 0.4795436369245589,\n",
       " 0.7731539405842693,\n",
       " 0.4257538697656328,\n",
       " 0.6375091631883201,\n",
       " 0.6224476527864025]"
      ]
     },
     "execution_count": 400,
     "metadata": {},
     "output_type": "execute_result"
    }
   ],
   "source": [
    "fates_allom_d2ca_coefficient_min_pine"
   ]
  },
  {
   "cell_type": "markdown",
   "id": "667c96bd-7dfe-48e5-ac67-19ae6bb7c5ae",
   "metadata": {},
   "source": [
    "## Apply benchmarking function to multiple cases"
   ]
  },
  {
   "cell_type": "code",
   "execution_count": 330,
   "id": "65ce680e-7f3d-477a-8198-0bc1045bbcf4",
   "metadata": {},
   "outputs": [
    {
     "name": "stdout",
     "output_type": "stream",
     "text": [
      "Case: conifer-allom-082323a_-17e2acb6a_FATES-55794e61\n",
      "ninst: 3\n",
      "Working on ensemble memeber 0001 of 3 members\n",
      "Working on ensemble memeber 0002 of 3 members\n",
      "Working on ensemble memeber 0003 of 3 members\n",
      "Case: conifer-allom-082323b_-17e2acb6a_FATES-55794e61\n",
      "ninst: 3\n",
      "Working on ensemble memeber 0001 of 3 members\n",
      "Working on ensemble memeber 0002 of 3 members\n",
      "Working on ensemble memeber 0003 of 3 members\n",
      "Case: conifer-allom-082323c_-17e2acb6a_FATES-55794e61\n",
      "ninst: 3\n",
      "Working on ensemble memeber 0001 of 3 members\n",
      "Working on ensemble memeber 0002 of 3 members\n",
      "Working on ensemble memeber 0003 of 3 members\n",
      "Case: conifer-allom-082323d_-17e2acb6a_FATES-55794e61\n",
      "ninst: 3\n",
      "Working on ensemble memeber 0001 of 3 members\n",
      "Working on ensemble memeber 0002 of 3 members\n",
      "Working on ensemble memeber 0003 of 3 members\n"
     ]
    },
    {
     "data": {
      "text/plain": [
       "[{'BA': [14.730284, 17.271265, 16.227358],\n",
       "  'AGB': [10.960171699523926, 13.609286308288574, 10.616921424865723],\n",
       "  'TreeStemD': [1023.1469571590424, 138.85902240872383, 989.0015423297882],\n",
       "  'ShannonE': [0.8762627428896109, 0.8333740374169594, 0.8441429882930233],\n",
       "  'NPP': [0.9784010217686046, 0.972694234917526, 1.0309568806974312],\n",
       "  'FailedPFTs': [0, 1, 0],\n",
       "  'BA_pine': [4.0757084, 5.8454432, 3.5551548],\n",
       "  'BA_cedar': [1.9897865, 4.028065, 3.0028014],\n",
       "  'BA_fir': [3.7301471, 5.048698, 3.0405746],\n",
       "  'BA_shrub': [0.26549125, 0.011507053, 0.10902222],\n",
       "  'BA_oak': [4.66915, 2.3375516, 6.5198045],\n",
       "  'inst': ['0001', '0002', '0003']},\n",
       " {'BA': [15.095007, 17.223886, 16.246082],\n",
       "  'AGB': [11.340022087097168, 13.750171661376953, 10.465803146362305],\n",
       "  'TreeStemD': [1042.1913117170334, 137.93516904115677, 766.0796493291855],\n",
       "  'ShannonE': [0.921175825362171, 0.8327862266573357, 0.8441771340541355],\n",
       "  'NPP': [0.9896557250499427, 0.9617487575610539, 1.0589526946205297],\n",
       "  'FailedPFTs': [0, 0, 0],\n",
       "  'BA_pine': [4.2067723, 6.0187798, 3.8275576],\n",
       "  'BA_cedar': [2.0315766, 4.0148487, 3.0020218],\n",
       "  'BA_fir': [3.8963625, 5.2442875, 2.5458224],\n",
       "  'BA_shrub': [0.7651133, 0.112868555, 0.18165708],\n",
       "  'BA_oak': [4.1951823, 1.833102, 6.689024],\n",
       "  'inst': ['0001', '0002', '0003']},\n",
       " {'BA': [14.178693, 14.153836, 13.791426],\n",
       "  'AGB': [5.761178493499756, 5.813096523284912, 5.8340277671813965],\n",
       "  'TreeStemD': [568.1581050157547, 550.3387749195099, 537.080243229866],\n",
       "  'ShannonE': [0.2967133501810346, 0.2744143349695819, 0.27043403914700553],\n",
       "  'NPP': [1.222952120372156, 1.2283765705092264, 1.1822411829029988],\n",
       "  'FailedPFTs': [3, 3, 3],\n",
       "  'BA_pine': [0.0010242502, 0.00011692893, 0.00148535],\n",
       "  'BA_cedar': [0.0009599201, 3.0126024e-05, 0.0015253079],\n",
       "  'BA_fir': [0.00023091522, 8.60557e-06, 0.00058633037],\n",
       "  'BA_shrub': [2.594573, 2.2803648, 2.1484716],\n",
       "  'BA_oak': [11.581904, 11.873316, 11.639357],\n",
       "  'inst': ['0001', '0002', '0003']},\n",
       " {'BA': [14.151351, 18.020039, 18.449297],\n",
       "  'AGB': [12.975746154785156, 13.70028018951416, 13.837165832519531],\n",
       "  'TreeStemD': [536.2306162714958, 376.30822509527206, 332.92796462774277],\n",
       "  'ShannonE': [0.6720950156920372, 0.6593198346956147, 0.659836909659442],\n",
       "  'NPP': [0.9787160736891565, 0.9962235268403674, 0.9960869520568849],\n",
       "  'FailedPFTs': [1, 1, 1],\n",
       "  'BA_pine': [7.428904, 10.093973, 10.21765],\n",
       "  'BA_cedar': [4.050769, 5.0178304, 5.2762594],\n",
       "  'BA_fir': [2.35649, 2.2832544, 2.3454223],\n",
       "  'BA_shrub': [0.0059406506, 0.007068972, 0.005802081],\n",
       "  'BA_oak': [0.30924657, 0.6179114, 0.6041614],\n",
       "  'inst': ['0001', '0002', '0003']}]"
      ]
     },
     "execution_count": 330,
     "metadata": {},
     "output_type": "execute_result"
    }
   ],
   "source": [
    "multi_case_benchmarks = []\n",
    "for c in cases:\n",
    "     multi_case_benchmarks.append(get_benchmarks(c,metrics = my_metrics, last_n_years=1,test=True))\n",
    "multi_case_benchmarks"
   ]
  },
  {
   "cell_type": "markdown",
   "id": "26735137-28f0-45c9-b50f-32f8d690011d",
   "metadata": {
    "tags": []
   },
   "source": [
    "### Functions"
   ]
  },
  {
   "cell_type": "code",
   "execution_count": 56,
   "id": "26c9c6ce-79b0-41a7-aafc-34ebe6ecab94",
   "metadata": {},
   "outputs": [],
   "source": [
    "def agefuel_to_age_by_fuel(agefuel_var, dataset):\n",
    "    n_age = len(dataset.fates_levage)\n",
    "    ds_out = (agefuel_var.rolling(fates_levagefuel = n_age, center=False).construct(\"fates_levage\")\n",
    "          .isel(fates_levagefuel=slice(n_age-1, None, n_age))\n",
    "          .rename({'fates_levagefuel':'fates_levfuel'})\n",
    "          .assign_coords({'fates_levage':dataset.fates_levage})\n",
    "          .assign_coords({'fates_levfuel':np.array([1,2,3,4,5,6])}))\n",
    "    return ds_out\n",
    "    #ds_out.attrs['long_name'] = agefuel_var['long_name']\n",
    "    #ds_out.attrs['units'] = agefuel_var['units']\n",
    "\n",
    "def scpf_to_scls_by_pft(scpf_var, dataset):\n",
    "    \"\"\"function to reshape a fates multiplexed size and pft-indexed variable to one indexed by size class and pft\n",
    "    first argument should be an xarray DataArray that has the FATES SCPF dimension\n",
    "    second argument should be an xarray Dataset that has the FATES SCLS dimension \n",
    "    (possibly the dataset encompassing the dataarray being transformed)\n",
    "    returns an Xarray DataArray with the size and pft dimensions disentangled\"\"\"\n",
    "    n_scls = len(dataset.fates_levscls)\n",
    "    ds_out = (scpf_var.rolling(fates_levscpf=n_scls, center=False)\n",
    "            .construct(\"fates_levscls\")\n",
    "            .isel(fates_levscpf=slice(n_scls-1, None, n_scls))\n",
    "            .rename({'fates_levscpf':'fates_levpft'})\n",
    "            .assign_coords({'fates_levscls':dataset.fates_levscls})\n",
    "            .assign_coords({'fates_levpft':dataset.fates_levpft}))\n",
    "    ds_out.attrs['long_name'] = scpf_var.attrs['long_name']\n",
    "    ds_out.attrs['units'] = scpf_var.attrs['units']\n",
    "    return(ds_out)\n",
    "\n",
    "\n",
    "\n",
    "def get_last_file_of_sim(sim_path):\n",
    "    files = sorted(os.listdir(sim_path))\n",
    "    full_files = [os.path.join(sim_path,f) for f in files]\n",
    "    last_file = full_files[-1]\n",
    "    return last_file\n",
    "\n",
    "\n",
    "\n",
    "def open_fates_hist_file(file):\n",
    "    ds = xr.open_dataset(file)\n",
    "    ds = ds.sel(lndgrid=0)\n",
    "    return ds\n",
    "\n",
    "def get_total_stem_den(file):\n",
    "    ds = open_fates_hist_file(file)\n",
    "    den_total = ds.FATES_NPLANT_PF.sum(dim=\"fates_levpft\")\n",
    "    den_shrub = ds.FATES_NPLANT_PF.isel(fates_levpft = 3)\n",
    "    den_trees = den_total - den_shrub\n",
    "    den_trees = den_trees.values * m2_per_ha\n",
    "    return den_trees\n",
    "\n",
    "def get_total_npp(file):\n",
    "    ds = open_fates_hist_file(file)\n",
    "    npp_total = ds.FATES_NPP_PF.sum(dim=\"fates_levpft\").values * s_per_yr\n",
    "    return npp_total\n",
    "\n",
    "def get_AGB(file):\n",
    "    ds = open_fates_hist_file(file)\n",
    "    agb_total = ds.FATES_VEGC_ABOVEGROUND.values \n",
    "    return agb_total\n",
    "\n",
    "def get_fuel(file):\n",
    "    ds = open_fates_hist_file(file)\n",
    "    age_by_fuel = agefuel_to_age_by_fuel(ds.FATES_FUEL_AMOUNT_APFC,ds)\n",
    "    fates_fuel_amount_by_class = age_by_fuel.sum(dim = \"fates_levage\") #sum over patches\n",
    "    trunk = fates_fuel_amount_by_class.isel(fates_levfuel = 3)\n",
    "    total = fates_fuel_amount_by_class.sum(dim = \"fates_levfuel\")\n",
    "    burnable = total - trunk\n",
    "    return burnable.values[0]\n",
    "\n",
    "def get_pft_level_basal_area(file,dbh_min):\n",
    "    ds = open_fates_hist_file(file)\n",
    "    basal_area = scpf_to_scls_by_pft(ds.FATES_BASALAREA_SZPF, ds)\n",
    "    basal_area = basal_area.sel(fates_levscls = slice(dbh_min,None))\n",
    "    basal_area_pf = basal_area.sum(axis=2).values * m2_per_ha\n",
    "    return basal_area_pf\n",
    "\n",
    "def get_total_tree_basal_area(file,dbh_min):\n",
    "    ds = open_fates_hist_file(file)\n",
    "    basal_area = scpf_to_scls_by_pft(ds.FATES_BASALAREA_SZPF, ds)\n",
    "    basal_area = basal_area.sel(fates_levscls = slice(dbh_min,None))\n",
    "    basal_area_pf = basal_area.sum(axis=2) * m2_per_ha\n",
    "    basal_area_total = basal_area_pf.sum(axis = 1)\n",
    "    basal_area_shrub = basal_area_pf.isel(fates_levpft = 3)\n",
    "    basal_area_tree = basal_area_total-basal_area_shrub\n",
    "    return basal_area_tree.values[0]\n",
    "\n",
    "def get_size_class_distribution(file,dbh_min):\n",
    "    ds = open_fates_hist_file(file)\n",
    "    basal_area = scpf_to_scls_by_pft(ds.FATES_BASALAREA_SZPF, ds)\n",
    "    basal_area = basal_area.sel(fates_levscls = slice(dbh_min,None))\n",
    "    basal_area_pf = basal_area.values * m2_per_ha\n",
    "    return basal_area_pf\n",
    "\n",
    "def get_shrub_crown_area(file):\n",
    "    ds = open_fates_hist_file(file)\n",
    "    shrub_canopy_cover = ds.FATES_CANOPYCROWNAREA_PF.isel(fates_levpft = 3).values[0]\n",
    "    return shrub_canopy_cover\n",
    "\n",
    "def get_diff_table(site,var,d):\n",
    "    d_site = d.loc[d[\"site\"].str.contains(site),:]\n",
    "    d_site['delta'] = d_site[var] - d_site.iloc[-1,1]\n",
    "    d_site['delta_pct'] = d_site['delta'] / d_site[var]\n",
    "    return d_site\n",
    "\n"
   ]
  },
  {
   "cell_type": "markdown",
   "id": "d784b25a-ac99-4cc8-a2cf-41b23df2a0d5",
   "metadata": {},
   "source": [
    "### Get pft-level basal area at end of simulation at many sites"
   ]
  },
  {
   "cell_type": "code",
   "execution_count": null,
   "id": "4b4d031c-fd79-4216-b55c-e63521a989b4",
   "metadata": {},
   "outputs": [],
   "source": [
    "n_inst = 36\n",
    "inst_tags = []\n",
    "for i in range(n_inst):\n",
    "    inst_tags.append(str(i+1).rjust(4, '0'))"
   ]
  },
  {
   "cell_type": "code",
   "execution_count": null,
   "id": "d9687e7a-1a82-4a37-a356-32ecda4d8a63",
   "metadata": {},
   "outputs": [],
   "source": [
    "get_last_file_of_inst(get_path_to_sim('QUKE-ensemble-081823_-17e2acb6a_FATES-55794e61'),\"0036\")"
   ]
  },
  {
   "cell_type": "code",
   "execution_count": null,
   "id": "ad6568b3-4527-430c-9463-3a669babfe8f",
   "metadata": {},
   "outputs": [],
   "source": [
    "get_last_file_of_inst(\"/glade/scratch/adamhb/archive/conifer-allom-082223_-17e2acb6a_FATES-55794e61/run\",t)"
   ]
  },
  {
   "cell_type": "code",
   "execution_count": null,
   "id": "124a5595-023e-4411-bc47-ef27eae88311",
   "metadata": {},
   "outputs": [],
   "source": [
    "#PFT-level basal area in final timestep for each pft\n",
    "inst = []\n",
    "pft = []\n",
    "ba = []\n",
    "\n",
    "\n",
    "for i,t in enumerate(inst_tags):\n",
    "    print(\"working on inst \",t)\n",
    "    tmp_ba = get_pft_level_basal_area(get_last_file_of_inst(\"/glade/scratch/adamhb/archive/conifer-allom-082223_-17e2acb6a_FATES-55794e61/run\",t),dbh_min=0)[0,:]\n",
    "    \n",
    "    #add shrub canopy cover in place of basal area. Multiply by 100 to be %, then divide by two to match the secondary axis transformation in R figure.\n",
    "    tmp_ba[3] = get_shrub_crown_area(get_last_file_of_inst(\"/glade/scratch/adamhb/archive/conifer-allom-082223_-17e2acb6a_FATES-55794e61/run\",t)) * (100 / 2)\n",
    "    ba.extend(tmp_ba)\n",
    "    pft.extend(pft_names)\n",
    "    inst.extend([t] * len(pft_names))\n",
    "    \n",
    "d = pd.DataFrame({'inst':inst,'pft':pft,'ba':ba,'data_type':['fates'] * len(inst)})\n",
    "#d.to_csv(os.path.join(path_for_output,batch_tag + \"_BA.csv\"))"
   ]
  },
  {
   "cell_type": "code",
   "execution_count": null,
   "id": "966a70fd-f3b1-41c6-be88-4134e7195aeb",
   "metadata": {},
   "outputs": [],
   "source": [
    "#PFT-level basal area in final timestep for each pft\n",
    "inst = []\n",
    "pft = []\n",
    "ba = []\n",
    "\n",
    "\n",
    "for i,t in enumerate(inst_tags):\n",
    "    print(\"working on inst \",t)\n",
    "    tmp_ba = get_pft_level_basal_area(get_last_file_of_inst(get_path_to_sim(sim_names[0]),t),dbh_min=0)[0,:]\n",
    "    \n",
    "    #add shrub canopy cover in place of basal area. Multiply by 100 to be %, then divide by two to match the secondary axis transformation in R figure.\n",
    "    tmp_ba[3] = get_shrub_crown_area(get_last_file_of_inst(get_path_to_sim(sim_names[0]),t)) * (100 / 2)\n",
    "    ba.extend(tmp_ba)\n",
    "    pft.extend(pft_names)\n",
    "    inst.extend([t] * len(pft_names))\n",
    "    \n",
    "d = pd.DataFrame({'inst':inst,'pft':pft,'ba':ba,'data_type':['fates'] * len(inst)})\n",
    "#d.to_csv(os.path.join(path_for_output,batch_tag + \"_BA.csv\"))"
   ]
  },
  {
   "cell_type": "code",
   "execution_count": null,
   "id": "cb8d0763-ff59-4ed9-b851-d1297a4a9366",
   "metadata": {},
   "outputs": [],
   "source": [
    "d.pft.value_counts()"
   ]
  },
  {
   "cell_type": "code",
   "execution_count": null,
   "id": "a91e0391-163b-403c-96a8-7dca945cb45c",
   "metadata": {},
   "outputs": [],
   "source": [
    "d.loc[(d[\"pft\"] == \"pine\")].head(36)"
   ]
  },
  {
   "cell_type": "code",
   "execution_count": null,
   "id": "ce66e4e5-addb-4880-aace-49ccab4f9539",
   "metadata": {},
   "outputs": [],
   "source": [
    "d.loc[(d[\"pft\"] == \"cedar\") & (d[\"ba\"] > 0.1)]"
   ]
  },
  {
   "cell_type": "markdown",
   "id": "6b8ff710-1c27-440b-8faa-2bbbf4ef5115",
   "metadata": {},
   "source": [
    "### Get total BA"
   ]
  },
  {
   "cell_type": "code",
   "execution_count": null,
   "id": "d88ff2c8-e4cf-4e83-bbaf-f4f729f6c4f8",
   "metadata": {},
   "outputs": [],
   "source": [
    "#PFT-level basal area in final timestep for each pft\n",
    "site = []\n",
    "pft = []\n",
    "ba = []\n",
    "for i,c in enumerate(sim_names):\n",
    "    print(\"working on scenario \",c)\n",
    "    tmp_ba = get_total_tree_basal_area(get_last_file_of_sim(get_path_to_sim(c)),dbh_mins[i])\n",
    "    print(tmp_ba)\n",
    "    ba.append(tmp_ba)\n",
    "    site.append(site_names[i])\n",
    "    \n",
    "d = pd.DataFrame({'site':site,'ba':ba})\n",
    "d.to_csv(os.path.join(path_for_output,batch_tag + \"_BA_total.csv\"))"
   ]
  },
  {
   "cell_type": "markdown",
   "id": "df2d46b0-0344-4184-89e3-0585d4ba83fd",
   "metadata": {},
   "source": [
    "#### See total BA differences"
   ]
  },
  {
   "cell_type": "code",
   "execution_count": null,
   "id": "602761c1-17bb-4d76-aea0-5fcfffade0c2",
   "metadata": {},
   "outputs": [],
   "source": [
    "def get_diff_table(site,var):\n",
    "    d_site = d.loc[d[\"site\"].str.contains(site),:]\n",
    "    d_site['delta'] = d_site[var] - d_site.iloc[-1,1]\n",
    "    d_site['delta_pct'] = d_site['delta'] / d_site[var]\n",
    "    return d_site"
   ]
  },
  {
   "cell_type": "code",
   "execution_count": null,
   "id": "d57f86fc-3a90-4cd6-aaa6-7da392bffaee",
   "metadata": {},
   "outputs": [],
   "source": [
    "d_CZ2 = d.loc[d[\"site\"].str.contains(\"CZ2\"),:]\n",
    "d_CZ2['delta'] = d_CZ2['ba'] - d_CZ2.iloc[-1,1]\n",
    "d_CZ2['delta_pct'] = d_CZ2['delta'] / d_CZ2['ba']\n",
    "d_CZ2\n",
    "\n",
    "get_diff_table(site,var):\n",
    "    d_site = d.loc[d[\"site\"].str.contains(site),:]\n",
    "    d_site['delta'] = d_site[var] - d_site.iloc[-1,1]\n",
    "    d_site['delta_pct'] = d_site['delta'] / d_site[var]\n",
    "    return d_site"
   ]
  },
  {
   "cell_type": "code",
   "execution_count": null,
   "id": "c661626a-7dd6-43d1-b2f9-93beb1490ed9",
   "metadata": {},
   "outputs": [],
   "source": [
    "#PFT-level stem density in final timestep for each pft\n",
    "site = []\n",
    "den = []\n",
    "for i,c in enumerate(sim_names):\n",
    "    print(\"working on scenario \",c)\n",
    "    tmp_den = get_total_stem_den(get_last_file_of_sim(get_path_to_sim(c)))[0]\n",
    "    print(tmp_den)\n",
    "    den.append(tmp_den)\n",
    "    site.append(site_names[i])\n",
    "    \n",
    "d = pd.DataFrame({'site':site,'den':den})\n",
    "d.to_csv(os.path.join(path_for_output,batch_tag + \"_stem_den.csv\"))"
   ]
  },
  {
   "cell_type": "code",
   "execution_count": null,
   "id": "3a1b5a6a-8c84-4344-88ae-125e4dab45fe",
   "metadata": {},
   "outputs": [],
   "source": [
    "get_diff_table(\"CZ2\",\"den\")"
   ]
  },
  {
   "cell_type": "code",
   "execution_count": null,
   "id": "9a3fe296-299f-4237-941f-f83b675b4a2e",
   "metadata": {},
   "outputs": [],
   "source": [
    "#PFT-level basal area in final timestep for each pft\n",
    "site = []\n",
    "den = []\n",
    "for i,c in enumerate(sim_names):\n",
    "    print(\"working on scenario \",c)\n",
    "    tmp_den = get_total_npp(get_last_file_of_sim(get_path_to_sim(c)))[0]\n",
    "    print(tmp_den)\n",
    "    den.append(tmp_den)\n",
    "    site.append(site_names[i])\n",
    "    \n",
    "d = pd.DataFrame({'site':site,'NPP':den})\n",
    "d.to_csv(os.path.join(path_for_output,batch_tag + \"_NPP.csv\"))"
   ]
  },
  {
   "cell_type": "code",
   "execution_count": null,
   "id": "6cc7cb22-4e43-4b75-9ecc-30981a627d28",
   "metadata": {},
   "outputs": [],
   "source": [
    "get_diff_table(\"CZ2\",\"NPP\")"
   ]
  },
  {
   "cell_type": "code",
   "execution_count": null,
   "id": "b6722ec5-881d-4a5f-8458-d7c5f2ed3350",
   "metadata": {},
   "outputs": [],
   "source": [
    "#PFT-level basal area in final timestep for each pft\n",
    "site = []\n",
    "den = []\n",
    "for i,c in enumerate(sim_names):\n",
    "    print(\"working on scenario \",c)\n",
    "    tmp_den = get_AGB(get_last_file_of_sim(get_path_to_sim(c)))[0]\n",
    "    print(tmp_den)\n",
    "    den.append(tmp_den)\n",
    "    site.append(site_names[i])\n",
    "    \n",
    "d = pd.DataFrame({'site':site,'AGB':den})\n",
    "d.to_csv(os.path.join(path_for_output,batch_tag + \"_AGB.csv\"))"
   ]
  },
  {
   "cell_type": "code",
   "execution_count": null,
   "id": "a8d6ac23-a8a3-45c0-832f-1a9023b58146",
   "metadata": {},
   "outputs": [],
   "source": [
    "get_diff_table(\"CZ2\",\"AGB\")"
   ]
  },
  {
   "cell_type": "markdown",
   "id": "bf9c436f-2c87-46ee-8283-6f12ca52d371",
   "metadata": {},
   "source": [
    "### Fuel loads"
   ]
  },
  {
   "cell_type": "code",
   "execution_count": null,
   "id": "25238e97-d560-440f-a598-222331dc8cf1",
   "metadata": {},
   "outputs": [],
   "source": [
    "get_last_file_of_sim(get_path_to_sim(site_names[1]))\n",
    "ds = open_fates_hist_file(file)\n",
    "age_by_fuel = agefuel_to_age_by_fuel(ds.FATES_FUEL_AMOUNT_APFC,ds)\n",
    "fates_fuel_amount_by_class = age_by_fuel.sum(dim = \"fates_levage\") #sum over patches\n",
    "trunk = fates_fuel_amount_by_class.isel(fates_levfuel = 3)\n",
    "total = fates_fuel_amount_by_class.sum(dim = \"fates_levfuel\")\n",
    "burnable = total - trunk\n",
    "burnable.values[0]\n",
    "#print(\"total\", total.dims)\n",
    "#print(trunk.dims)\n"
   ]
  },
  {
   "cell_type": "code",
   "execution_count": null,
   "id": "89182aea-ad59-46a2-a1d3-fd9580a257bb",
   "metadata": {},
   "outputs": [],
   "source": [
    "#PFT-level basal area in final timestep for each pft\n",
    "site = []\n",
    "den = []\n",
    "my_dict = {}\n",
    "for i,c in enumerate(sim_names):\n",
    "    print(\"working on scenario \",c)\n",
    "    tmp_fuel = get_fuel(get_last_file_of_sim(get_path_to_sim(c)))\n",
    "    print(tmp_fuel)\n",
    "    my_dict[c] = tmp_fuel\n",
    "    #yourdict = {k:v for k,v in zip(keys, values)}\n",
    "\n",
    "    \n",
    "#d = pd.DataFrame({'site':site,'fuel':den})\n",
    "#d.to_csv(os.path.join(path_for_output,batch_tag + \"_AGB.csv\"))"
   ]
  },
  {
   "cell_type": "markdown",
   "id": "1f5a698e-f8be-469b-977c-817ac1aadb67",
   "metadata": {},
   "source": [
    "### Get the size class distribution at the end of the simulation at many sites"
   ]
  },
  {
   "cell_type": "code",
   "execution_count": null,
   "id": "3ffdbba6-a019-4539-97ca-eae6115fee05",
   "metadata": {},
   "outputs": [],
   "source": [
    "my_dict"
   ]
  },
  {
   "cell_type": "code",
   "execution_count": null,
   "id": "ed55f650-e3ce-4f42-b1d8-4d791a12293b",
   "metadata": {},
   "outputs": [],
   "source": [
    "fuel_df = pd.DataFrame.from_dict(my_dict, orient='index', columns=[\"burnable\"])\n",
    "fuel_df = fuel_df.rename_axis(\"site\").reset_index()\n",
    "get_diff_table(\"stan\",\"burnable\",d=fuel_df)"
   ]
  },
  {
   "cell_type": "code",
   "execution_count": null,
   "id": "3f1dd80a-b61c-4806-87b2-a87edcceba6a",
   "metadata": {},
   "outputs": [],
   "source": [
    "pd.DataFrame.from_dict(my_dict, orient='index', columns=[\"site\",\"leaf\",\"sm_br\",\"lg_br\",\"trunk\",\"grass\"])"
   ]
  },
  {
   "cell_type": "code",
   "execution_count": null,
   "id": "a4d6eb37-1ae9-418c-a6d7-1364906f9457",
   "metadata": {},
   "outputs": [],
   "source": [
    "c = sim_names[1]\n",
    "print(c)\n",
    "dbh_min = 0.\n",
    "\n",
    "file = get_last_file_of_sim(get_path_to_sim(c))\n",
    "\n",
    "ds = open_fates_hist_file(file)\n",
    "basal_area = scpf_to_scls_by_pft(ds.FATES_BASALAREA_SZPF, ds)\n",
    "basal_area = basal_area.sel(fates_levscls = slice(dbh_min,None))\n",
    "basal_area_pf = basal_area * m2_per_ha\n",
    "basal_area_pf = basal_area_pf[0,:,:]\n",
    "\n",
    "\n",
    "# Sample data\n",
    "data = basal_area_pf.sum(axis = 0)\n",
    "\n",
    "# Number of bars\n",
    "num_bars = len(data.values)\n",
    "\n",
    "# Create bar positions\n",
    "bar_positions = data.fates_levscls.values\n",
    "\n",
    "# Plot the bars\n",
    "plt.bar(bar_positions, data.values)\n",
    "\n",
    "# Customize the chart\n",
    "plt.xlabel('Size Class [cm]')\n",
    "plt.ylabel('BA [m2 ha-1]')\n",
    "plt.title('Stanislaus')\n",
    "plt.xticks(data.fates_levscls.values)\n",
    "\n",
    "# Display the chart\n",
    "plt.show()\n",
    "# fig, axes = plt.subplots(ncols=ncol,nrows=nrow,figsize=(12,10))\n",
    "# for size,ax in zip(range(len(basal_area_pf.fates_levscls.values)),axes.ravel()):\n",
    "\n",
    "#          cca = xarr.isel(fates_levage = age) / xds.FATES_PATCHAREA_AP.isel(fates_levage = age)\n",
    "\n",
    "#          for p in range(n_pfts):\n",
    "#              cca.isel(fates_levpft=p).plot(x = \"time\",\n",
    "#                       color = pft_colors[p],lw = 3,add_legend = True,\n",
    "#                       label = pft_names[p], ax = ax)\n",
    "\n",
    "#              #plt.legend()\n",
    "#          ax.set_title('{} yr old patches'.format(xds.fates_levage.values[age]))\n",
    "#          ax.set_ylabel(ylabel,fontsize = int(12 * 0.75))\n",
    "#          ax.xaxis.set_major_formatter(DateFormatter('%Y'))\n",
    "#          #ax.xaxis.set_major_locator(mdates.YearLocator(base=nbase))\n",
    "\n",
    "#     plt.tight_layout()\n",
    "#     plt.subplots_adjust(hspace=1,wspace=0.2)\n",
    "#     fig.suptitle(sup_title, fontsize=12,y=0.99)\n"
   ]
  },
  {
   "cell_type": "code",
   "execution_count": null,
   "id": "85079715-de66-4900-9cce-0adcb9e57ddf",
   "metadata": {},
   "outputs": [],
   "source": [
    "site_names"
   ]
  },
  {
   "cell_type": "markdown",
   "id": "4605481e-a86a-477c-a683-7d11de1787c2",
   "metadata": {},
   "source": [
    "### Stem density distribution"
   ]
  },
  {
   "cell_type": "code",
   "execution_count": null,
   "id": "ef59525f-b8b9-4e3d-80e5-eb7af8fc200a",
   "metadata": {},
   "outputs": [],
   "source": [
    "c = sim_names[1]\n",
    "print(c)\n",
    "dbh_min = 0.\n",
    "\n",
    "file = get_last_file_of_sim(get_path_to_sim(c))\n",
    "\n",
    "ds = open_fates_hist_file(file)\n",
    "basal_area = scpf_to_scls_by_pft(ds.FATES_NPLANT_SZPF, ds)\n",
    "basal_area = basal_area.sel(fates_levscls = slice(dbh_min,None))\n",
    "basal_area_pf = basal_area * m2_per_ha\n",
    "basal_area_pf = basal_area_pf[0,:,:]\n",
    "\n",
    "\n",
    "# Sample data\n",
    "data = basal_area_pf.sum(axis = 0)\n",
    "\n",
    "# Number of bars\n",
    "num_bars = len(data.values)\n",
    "\n",
    "# Create bar positions\n",
    "bar_positions = data.fates_levscls.values\n",
    "\n",
    "# Plot the bars\n",
    "plt.bar(bar_positions, data.values)\n",
    "\n",
    "# Customize the chart\n",
    "plt.xlabel('Size Class [cm]')\n",
    "plt.ylabel('Density [N ha-1]')\n",
    "plt.title('Stanislaus')\n",
    "plt.xticks(data.fates_levscls.values)\n",
    "plt.show()"
   ]
  },
  {
   "cell_type": "markdown",
   "id": "8c14b398-c9eb-4ab8-9639-41a802666b18",
   "metadata": {},
   "source": [
    "### Size Class Distribution"
   ]
  },
  {
   "cell_type": "code",
   "execution_count": null,
   "id": "410c4ac1-a5d7-4ce7-9b40-bd2f4f12287d",
   "metadata": {},
   "outputs": [],
   "source": []
  },
  {
   "cell_type": "markdown",
   "id": "7cfa57ee-e457-437f-8e0e-224f5865b064",
   "metadata": {},
   "source": [
    "### Basal Area by Size Class and PFT"
   ]
  },
  {
   "cell_type": "code",
   "execution_count": null,
   "id": "cd2dc96d-b418-4d73-9a7b-ccef2c6ce423",
   "metadata": {},
   "outputs": [],
   "source": [
    "import numpy as np\n",
    "import matplotlib.pyplot as plt\n",
    "\n",
    "# Sample data\n",
    "data = basal_area_pf\n",
    "\n",
    "num_groups, num_bars = data.shape\n",
    "bar_width = 0.35\n",
    "opacity = 0.8\n",
    "\n",
    "# Create subplots for each group\n",
    "fig, axes = plt.subplots(nrows=num_groups, ncols=1, figsize=(5, num_groups * 5), sharey=True)\n",
    "\n",
    "# Iterate over the groups and create bar plots\n",
    "for group_idx, ax in enumerate(axes):\n",
    "    ax.bar(np.arange(num_bars), data[group_idx, :], width=bar_width, alpha=opacity)\n",
    "\n",
    "    # Customize each subplot\n",
    "    ax.set_title(f'PFT: {pft_names[group_idx]}')\n",
    "    ax.set_xticks(np.arange(num_bars))\n",
    "    ax.set_xticklabels(basal_area_pf.fates_levscls.values)\n",
    "    ax.set_ylabel(\"BA [m2 ha-1]\")\n",
    "    ax.set_xlabel(\"Size Class [cm]\")\n",
    "\n",
    "# Set common labels\n",
    "fig.text(0.5, 0.04, 'Bar', ha='center', va='center')\n",
    "fig.text(0.06, 0.5, 'Values', ha='center', va='center', rotation='vertical')\n",
    "\n",
    "# Display the facetted bar plots\n",
    "plt.show()"
   ]
  },
  {
   "cell_type": "code",
   "execution_count": null,
   "id": "26e752df-c767-4deb-bb17-e310961e8258",
   "metadata": {},
   "outputs": [],
   "source": []
  }
 ],
 "metadata": {
  "kernelspec": {
   "display_name": "env4_work",
   "language": "python",
   "name": "env4_work"
  },
  "language_info": {
   "codemirror_mode": {
    "name": "ipython",
    "version": 3
   },
   "file_extension": ".py",
   "mimetype": "text/x-python",
   "name": "python",
   "nbconvert_exporter": "python",
   "pygments_lexer": "ipython3",
   "version": "3.8.13"
  }
 },
 "nbformat": 4,
 "nbformat_minor": 5
}
