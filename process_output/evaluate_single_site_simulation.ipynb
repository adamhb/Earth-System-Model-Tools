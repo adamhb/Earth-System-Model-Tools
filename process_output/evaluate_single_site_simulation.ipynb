{
 "cells": [
  {
   "cell_type": "markdown",
   "id": "1ff243be-429e-45f8-ac57-d88469ce0369",
   "metadata": {},
   "source": [
    "# Evaluate single site simulation\n",
    "\n",
    "This script generates key information on forest structure, composition, demography and biophysical characteristics on a single site simulation"
   ]
  },
  {
   "cell_type": "markdown",
   "id": "cb550b11-843b-40c1-895a-f884eb8c66d7",
   "metadata": {},
   "source": [
    "# Import modules"
   ]
  },
  {
   "cell_type": "code",
   "execution_count": null,
   "id": "c6ab6166-8597-49f6-a86f-e247a84cbcca",
   "metadata": {},
   "outputs": [],
   "source": [
    "import sys\n",
    "\n",
    "#Path to the esm_tools.py script\n",
    "sys.path.append('/glade/u/home/adamhb/Earth-System-Model-Tools/process_output')"
   ]
  },
  {
   "cell_type": "code",
   "execution_count": null,
   "id": "fbf5d93d-a576-4846-ab5e-1a526d3c504b",
   "metadata": {},
   "outputs": [],
   "source": [
    "import os\n",
    "import numpy as np\n",
    "import matplotlib.pyplot as plt\n",
    "import pandas as pd\n",
    "import xarray as xr\n",
    "import functools\n",
    "import cftime\n",
    "import warnings\n",
    "from matplotlib.dates import DateFormatter\n",
    "import math\n",
    "from datetime import datetime\n",
    "import esm_tools\n",
    "import esm_viz\n",
    "import importlib\n",
    "importlib.reload(esm_tools)\n",
    "importlib.reload(esm_viz)"
   ]
  },
  {
   "cell_type": "markdown",
   "id": "31edcf3e-8dee-4d84-9232-955f2f643f94",
   "metadata": {},
   "source": [
    "# Setup"
   ]
  },
  {
   "cell_type": "code",
   "execution_count": null,
   "id": "e1cec804-69ea-440c-ad0d-9ea8e0c9110d",
   "metadata": {},
   "outputs": [],
   "source": [
    "save_processed_output = False\n",
    "pft_names = [\"pine\",\"cedar\",\"fir\",\"shrub\",\"oak\"]\n",
    "pft_colors = ['gold','darkorange','darkolivegreen','brown','springgreen']\n",
    "n_pfts = len(pft_names)\n",
    "years = list(range(1900, 2000))\n",
    "last_five_years = list(range(1994, 2000))\n",
    "\n",
    "case_name = \"ca_5pfts_20cases_4320inst_101223_02_-17e2acb6a_FATES-031f28ff\"\n",
    "inst_tag = \"0198\"\n",
    "\n",
    "# Root path where case output lives\n",
    "model_output_root = '/glade/scratch/adamhb/archive'\n",
    "\n",
    "# Path if archiving didn't work\n",
    "#model_output_no_archive = os.path.join(model_output_root,case_name,\"run\")\n",
    "model_output_no_archive = None\n",
    "\n",
    "# Path to put processed output\n",
    "processed_output_root = '/glade/scratch/adamhb/processed_output'\n",
    "output_path_for_case = os.path.join(processed_output_root,case_name,inst_tag)\n",
    "print(output_path_for_case)\n",
    "if save_processed_output == True:\n",
    "        # Path to store processed output (figs, tables etc.)\n",
    "        esm_tools.create_directory(os.path.join(processed_output_root,case_name))\n",
    "        esm_tools.create_directory(output_path_for_case)\n",
    "\n",
    "# Constants\n",
    "s_per_yr = 31536000\n",
    "s_per_day = 3600 * 24\n",
    "m2_per_ha = 1e4\n",
    "m2_per_km2 = 1e6\n",
    "g_per_kg = 1000\n",
    "mm_per_m = 1000\n",
    "months_per_yr = 12\n",
    "s_per_month = 3600 * 24 * 30.4\n",
    "W_per_kW = 1000"
   ]
  },
  {
   "cell_type": "markdown",
   "id": "e2e01d35-77b1-4e08-8b58-260b350e2af6",
   "metadata": {
    "tags": []
   },
   "source": [
    "# History variables"
   ]
  },
  {
   "cell_type": "code",
   "execution_count": null,
   "id": "eece8206-b0a5-4ad3-be14-49e3ccbda2fc",
   "metadata": {},
   "outputs": [],
   "source": [
    "# define the history variables to read in\n",
    "fields = [\n",
    "          #have on to import these dimensions\n",
    "          'FATES_SEED_PROD_USTORY_SZ',\n",
    "          'FATES_VEGC_AP',\n",
    "          #patches and cohorts\n",
    "          'FATES_NPATCHES',\n",
    "          'FATES_PATCHAREA_AP','FATES_CANOPYAREA_AP',\n",
    "          'FATES_NCOHORTS','FATES_NPATCH_AP',\n",
    "          #structure\n",
    "          #'FATES_LAI_AP',\n",
    "          #density\n",
    "          'FATES_NPLANT_PF',\n",
    "          'FATES_NPLANT_SZAPPF',\n",
    "          'FATES_NPLANT_SZPF',\n",
    "          'FATES_NPLANT_ACPF',\n",
    "          'FATES_NPLANT_CANOPY_SZPF',\n",
    "          'FATES_NPLANT_USTORY_SZPF',\n",
    "          'FATES_NPLANT_RESPROUT_PF',\n",
    "          #basal area\n",
    "          'FATES_BASALAREA_SZPF',\n",
    "          #crown_area\n",
    "          'FATES_CANOPYCROWNAREA_PF',\n",
    "          'FATES_CANOPYCROWNAREA_APPF',\n",
    "          'FATES_CROWNAREA_APPF',\n",
    "          'FATES_CANOPYAREA_HT',\n",
    "          #'FATES_CROWNAREA_CLLL',\n",
    "          'FATES_CROWNAREA_PF',\n",
    "          #biomass\n",
    "          'FATES_VEGC_PF','FATES_VEGC_AP','FATES_VEGC_ABOVEGROUND','FATES_VEGC_ABOVEGROUND_SZPF',\n",
    "          #growth\n",
    "          'FATES_DDBH_SZPF',\n",
    "          #'FATES_DDBH_CANOPY_SZAP','FATES_DDBH_USTORY_SZAP',\n",
    "          #mortality\n",
    "          'FATES_MORTALITY_PF',\n",
    "          #'FATES_MORTALITY_CANOPY_SZAP','FATES_MORTALITY_USTORY_SZAP',\n",
    "          'FATES_MORTALITY_BACKGROUND_SZPF','FATES_MORTALITY_HYDRAULIC_SZPF','FATES_MORTALITY_CSTARV_SZPF',\n",
    "          #'FATES_MORTALITY_IMPACT_SZPF',\n",
    "          'FATES_MORTALITY_FIRE_SZPF','FATES_MORTALITY_CROWNSCORCH_SZPF',\n",
    "          #'FATES_MORTALITY_CANOPY_SZ','FATES_MORTALITY_USTORY_SZ',\n",
    "          'FATES_MORTALITY_SENESCENCE_SZPF',\n",
    "          #seed production and recruitment\n",
    "          #'FATES_SEED_PROD_USTORY_SZ','FATES_SEED_PROD_CANOPY_SZ',\n",
    "          'FATES_SEEDS_IN',\n",
    "          'FATES_SEED_BANK',\n",
    "          'FATES_SEEDBANK_PF',\n",
    "          'FATES_SEED_ALLOC_SZPF',\n",
    "          'FATES_RECRUITMENT_PF',\n",
    "          #GPP and NPP\n",
    "          #'FATES_GPP','FATES_GPP_SZPF',\n",
    "          'FATES_NPP_PF','FATES_NPP_SZPF',\n",
    "          'FATES_AUTORESP_SZPF','FATES_MAINTAR_SZPF',\n",
    "          #physical environment\n",
    "          #Light\n",
    "          'FATES_LAISUN_Z_CLLL','FATES_LAISHA_Z_CLLL',\n",
    "          'FATES_LAISUN_Z_CLLLPF','FATES_LAISHA_Z_CLLLPF',\n",
    "          'FATES_PARSUN_Z_CLLLPF','FATES_PARSHA_Z_CLLLPF',\n",
    "          'FATES_PARPROF_DIR_CLLL','FATES_PARPROF_DIF_CLLL',\n",
    "          'FATES_PARPROF_DIF_CLLLPF','FATES_PARPROF_DIR_CLLLPF',\n",
    "          #Litter\n",
    "          'FATES_CWD_ABOVEGROUND_DC',\n",
    "          'FATES_FUEL_AMOUNT',\n",
    "          #CLM\n",
    "          'QVEGT','QVEGE','QSOIL','TLAI','TBOT','RAIN','QBOT','Q2M',\n",
    "          #'BTRAN',\n",
    "          #H20\n",
    "          'SMP',\n",
    "          #allocation\n",
    "          #'FATES_STOREC_CANOPY_SZPF','FATES_STOREC_USTORY_SZPF',\n",
    "          #fire\n",
    "          'FATES_BURNFRAC','FATES_IGNITIONS','FATES_FIRE_INTENSITY_BURNFRAC',\n",
    "          'FATES_FUEL_BULKD','FATES_FUEL_SAV',\n",
    "           'FATES_DISTURBANCE_RATE_FIRE',\n",
    "           'FATES_FUEL_AMOUNT_AP',\n",
    "           'FATES_FIRE_INTENSITY_BURNFRAC_AP',\n",
    "           'FATES_BURNFRAC_AP',\n",
    "           'FATES_FUEL_AMOUNT_APFC',\n",
    "           'FATES_FUEL_AMOUNT',\n",
    "           'FATES_FDI',\n",
    "           'FATES_FIRE_INTENSITY',\n",
    "           'FATES_FUELCONSUMED',\n",
    "           'FATES_NESTEROV_INDEX',\n",
    "           'FATES_MORTALITY_CROWNSCORCH_SZPF',\n",
    "           'FATES_SCORCH_HEIGHT_APPF','FATES_FUEL_MEF',\n",
    "           'FATES_FUEL_EFF_MOIST','FATES_FUEL_MOISTURE_FC','FATES_ROS'\n",
    "          # 'FATES_MORTALITY_FIRE_CFLUX_PF'\n",
    "          ]"
   ]
  },
  {
   "cell_type": "markdown",
   "id": "40f4b5fc-552b-4697-ada1-9c63d035f9d5",
   "metadata": {},
   "source": [
    "# Load data"
   ]
  },
  {
   "cell_type": "code",
   "execution_count": null,
   "id": "b7344cd8-9c7a-4ea2-82a6-76b22ebfaf2d",
   "metadata": {},
   "outputs": [],
   "source": [
    "ds_end = esm_tools.load_fates_output_data(model_output_root=model_output_root,\n",
    "                            case_name = case_name,\n",
    "                            years = last_five_years,\n",
    "                            fields = fields,\n",
    "                            inst_tag = inst_tag,\n",
    "                            manual_path = model_output_no_archive)"
   ]
  },
  {
   "cell_type": "markdown",
   "id": "ca0cee25-149a-4e2e-a93f-e6ac4b6a6bf2",
   "metadata": {},
   "source": [
    "# Analyze final five years of simulation"
   ]
  },
  {
   "cell_type": "markdown",
   "id": "ce87b373-2238-46e4-8606-02045a2e4b66",
   "metadata": {},
   "source": [
    "## AGB"
   ]
  },
  {
   "cell_type": "code",
   "execution_count": null,
   "id": "93afe637-cdd0-407f-b70d-99c4ed9be819",
   "metadata": {},
   "outputs": [],
   "source": [
    "print(\"Total AGB [kg C m-2]:\",esm_tools.get_AGB(ds_end))"
   ]
  },
  {
   "cell_type": "code",
   "execution_count": null,
   "id": "48cc7933-3ea8-4d82-a7c0-c495b4c961f2",
   "metadata": {},
   "outputs": [],
   "source": [
    "print(\"Total Biomass [kg C m-2]:\", ds_end.FATES_VEGC_PF.sum(dim = 'fates_levpft').mean(dim = \"time\").values)"
   ]
  },
  {
   "cell_type": "code",
   "execution_count": null,
   "id": "d05b67ab-b210-4a15-a9bf-18f80e6ad3e7",
   "metadata": {},
   "outputs": [],
   "source": [
    "importlib.reload(esm_tools)\n",
    "importlib.reload(esm_viz)"
   ]
  },
  {
   "cell_type": "code",
   "execution_count": null,
   "id": "729ad6db-16de-45f8-940d-bd4124165347",
   "metadata": {},
   "outputs": [],
   "source": [
    "print(\"AGB units:\",ds_end.FATES_VEGC_ABOVEGROUND.attrs['units'])\n",
    "\n",
    "esm_viz.plot_array(ds_end.FATES_VEGC_ABOVEGROUND,\n",
    "           xds = ds_end,\n",
    "           n_pfts = n_pfts,\n",
    "           title = \"AGB\",\n",
    "           ylabel = \"AGB [kg C m-2]\",\n",
    "           pft_colors = pft_colors,\n",
    "           pft_names = pft_names,\n",
    "           output_path = output_path_for_case,\n",
    "           conversion = 1,\n",
    "           subplots = False,\n",
    "           getData = False,\n",
    "           dbh_min = None)"
   ]
  },
  {
   "cell_type": "markdown",
   "id": "dc10fae2-86d2-4709-8a7a-ea2c52f4e6f3",
   "metadata": {},
   "source": [
    "## Canopy Height"
   ]
  },
  {
   "cell_type": "code",
   "execution_count": null,
   "id": "98bd1a48-80a0-4a49-ad49-9086278e083e",
   "metadata": {},
   "outputs": [],
   "source": [
    "ds_end.FATES_CANOPYAREA_HT.plot(x = \"time\")"
   ]
  },
  {
   "cell_type": "markdown",
   "id": "3a134d14-721f-4a55-a0fc-443c156b13ea",
   "metadata": {
    "tags": []
   },
   "source": [
    "## Basal Area"
   ]
  },
  {
   "cell_type": "code",
   "execution_count": null,
   "id": "a794ccff-4cee-41f1-b430-a94bffdf8ebc",
   "metadata": {},
   "outputs": [],
   "source": [
    "print(\"Total basal area [m2 ha-1]:\",np.sum(esm_tools.get_pft_level_basal_area(ds_end)))"
   ]
  },
  {
   "cell_type": "code",
   "execution_count": null,
   "id": "7d691d08-4726-49d4-91a7-5ed0bd424f9d",
   "metadata": {},
   "outputs": [],
   "source": [
    "# importlib.reload(esm_tools)\n",
    "# importlib.reload(esm_viz)"
   ]
  },
  {
   "cell_type": "code",
   "execution_count": null,
   "id": "65ae7250-c5b2-4c20-9700-d141f8028763",
   "metadata": {},
   "outputs": [],
   "source": [
    "ds_end"
   ]
  },
  {
   "cell_type": "code",
   "execution_count": null,
   "id": "4f29045a-f815-4def-b17e-81a9782dd1d5",
   "metadata": {},
   "outputs": [],
   "source": [
    "esm_viz.plot_array(ds_end.FATES_BASALAREA_SZPF,\n",
    "           xds = ds_end,\n",
    "           n_pfts = n_pfts,\n",
    "           pft_colors = pft_colors,\n",
    "           pft_names = pft_names,\n",
    "           conversion = m2_per_ha,\n",
    "           title = \"Basal area\",\n",
    "           ylabel = \"Basal Area [m2 ha-1]\",\n",
    "           output_path = output_path_for_case,\n",
    "           subplots = False,\n",
    "           getData = False,\n",
    "           dbh_min = None)"
   ]
  },
  {
   "cell_type": "markdown",
   "id": "0d38d746-18f3-408e-9431-f1d3335dc6c0",
   "metadata": {},
   "source": [
    "### BA across size classes"
   ]
  },
  {
   "cell_type": "code",
   "execution_count": null,
   "id": "aa872d1d-31f9-4f74-992b-f3eacefae3d0",
   "metadata": {},
   "outputs": [],
   "source": [
    "# importlib.reload(esm_tools)\n",
    "# importlib.reload(esm_viz)"
   ]
  },
  {
   "cell_type": "code",
   "execution_count": null,
   "id": "1853c01a-bbbc-4335-98f5-bb0e29ca8768",
   "metadata": {},
   "outputs": [],
   "source": [
    "esm_viz.plot_size_class_distribution(ds_end,\n",
    "                             n_pfts,\n",
    "                             pft_colors = pft_colors,\n",
    "                             pft_names = pft_names,\n",
    "                             variable_type = \"BA\",\n",
    "                             final_timestep = True,\n",
    "                             specific_time_step = None,\n",
    "                             conversion=m2_per_ha)"
   ]
  },
  {
   "cell_type": "markdown",
   "id": "4939ea4c-7b68-4ad2-b9fc-20dec8b5e763",
   "metadata": {},
   "source": [
    "## Stem density"
   ]
  },
  {
   "cell_type": "code",
   "execution_count": null,
   "id": "0bc01426-460d-4fae-90a6-5835ba0c8c83",
   "metadata": {},
   "outputs": [],
   "source": [
    "# importlib.reload(esm_tools)\n",
    "# importlib.reload(esm_viz)"
   ]
  },
  {
   "cell_type": "markdown",
   "id": "0daa0cb4-18a0-443a-b88d-8003d792f00b",
   "metadata": {},
   "source": [
    "#### Same axis"
   ]
  },
  {
   "cell_type": "code",
   "execution_count": null,
   "id": "272a348f-0375-4f5f-8bbb-e99d5ad49062",
   "metadata": {},
   "outputs": [],
   "source": [
    "esm_viz.plot_array(ds_end.FATES_NPLANT_SZPF,\n",
    "           xds = ds_end,\n",
    "           n_pfts = n_pfts,\n",
    "           pft_colors = pft_colors,\n",
    "           pft_names = pft_names,\n",
    "           title = \"Stem Density\" + \" (dbh min \" + str(10) + \" cm)\",\n",
    "           ylabel = \"Stem Density [N ha-1]\",\n",
    "           output_path = output_path_for_case,\n",
    "           conversion = m2_per_ha,\n",
    "           subplots = False,\n",
    "           getData = False,\n",
    "           dbh_min = 10)"
   ]
  },
  {
   "cell_type": "markdown",
   "id": "554dc6b3-5f03-4c8a-9be5-bdfad5f3870f",
   "metadata": {},
   "source": [
    "#### Separate axes"
   ]
  },
  {
   "cell_type": "code",
   "execution_count": null,
   "id": "3c1782a0-eb50-41c1-93d1-fd71fcd3c8ab",
   "metadata": {},
   "outputs": [],
   "source": [
    "esm_viz.plot_array(ds_end.FATES_NPLANT_SZPF,\n",
    "           xds = ds_end,\n",
    "           n_pfts = n_pfts,\n",
    "           pft_colors = pft_colors,\n",
    "           pft_names = pft_names,\n",
    "           title = \"Stem Density\" + \" (dbh min \" + str(10) + \" cm)\",\n",
    "           ylabel = \"Stem Density [N ha-1]\",\n",
    "           output_path = output_path_for_case,\n",
    "           conversion = m2_per_ha,\n",
    "           subplots = True,\n",
    "           getData = False,\n",
    "           dbh_min = 10)"
   ]
  },
  {
   "cell_type": "code",
   "execution_count": null,
   "id": "2dab4507-cb92-4b80-8c0c-605e63e94016",
   "metadata": {},
   "outputs": [],
   "source": [
    "ds_end.FATES_NPLANT_RESPROUT_PF.values"
   ]
  },
  {
   "cell_type": "code",
   "execution_count": null,
   "id": "9d4584ce-e77a-437e-a13f-5d70ea8bbf44",
   "metadata": {},
   "outputs": [],
   "source": [
    "esm_viz.plot_array(ds_end.FATES_NPLANT_RESPROUT_PF,\n",
    "           xds = ds_end,\n",
    "           n_pfts = n_pfts,\n",
    "           pft_colors = pft_colors,\n",
    "           pft_names = pft_names,\n",
    "           title = \"Stem Density\" + \" (dbh min \" + str(10) + \" cm)\",\n",
    "           ylabel = \"Stem Density [N ha-1]\",\n",
    "           output_path = output_path_for_case,\n",
    "           conversion = m2_per_ha,\n",
    "           subplots = True,\n",
    "           getData = False,\n",
    "           dbh_min = 10)"
   ]
  },
  {
   "cell_type": "markdown",
   "id": "32a3d6d7-d162-47fa-8e53-d6813429a22c",
   "metadata": {},
   "source": [
    "### Stem density across size classes (dbh min = 10 cm)"
   ]
  },
  {
   "cell_type": "code",
   "execution_count": null,
   "id": "e76f2be4-0163-4995-9591-25b8a30d4dca",
   "metadata": {},
   "outputs": [],
   "source": [
    "esm_viz.plot_size_class_distribution(ds_end,\n",
    "                             n_pfts,\n",
    "                             pft_colors = pft_colors,\n",
    "                             pft_names = pft_names,\n",
    "                             variable_type = \"Stem density\",\n",
    "                             final_timestep = True,\n",
    "                             specific_time_step = None,\n",
    "                             conversion=m2_per_ha, dbh_min = 10)"
   ]
  },
  {
   "cell_type": "markdown",
   "id": "d2c20bbe-bf90-4d54-8319-a0ee28cb1a98",
   "metadata": {},
   "source": [
    "## Crown area"
   ]
  },
  {
   "cell_type": "markdown",
   "id": "3075cf32-0780-4fff-b822-f223e2f78f2d",
   "metadata": {},
   "source": [
    "### Canopy crown area"
   ]
  },
  {
   "cell_type": "code",
   "execution_count": null,
   "id": "f613bcb2-cab9-416f-bc48-78edbce48b8f",
   "metadata": {},
   "outputs": [],
   "source": [
    "for p in range(n_pfts):\n",
    "    ds_end.FATES_CANOPYCROWNAREA_PF.isel(fates_levpft=p).plot(color = pft_colors[p], linewidth = 5)\n",
    "    \n",
    "plt.title(\"Canopy Crown Area [m2 m-2]\")\n",
    "plt.xlabel(\"year\")"
   ]
  },
  {
   "cell_type": "markdown",
   "id": "65133d94-a893-41d2-9fb6-2158ada1c419",
   "metadata": {},
   "source": [
    "### Crown area (canopy and understory)"
   ]
  },
  {
   "cell_type": "code",
   "execution_count": null,
   "id": "8047d3a6-3690-4647-b604-5c6d123b4df1",
   "metadata": {},
   "outputs": [],
   "source": [
    "for p in range(n_pfts):\n",
    "    ds_end.FATES_CROWNAREA_PF.isel(fates_levpft=p).plot(color = pft_colors[p], linewidth = 5)\n",
    "    \n",
    "plt.title(\"Total crown area [m2 m-2]\")\n",
    "plt.xlabel(\"year\")\n",
    "plt.show()"
   ]
  },
  {
   "cell_type": "markdown",
   "id": "3bbffbaa-4458-4220-b7d8-910366a6f167",
   "metadata": {},
   "source": [
    "### Fraction of total crown area in canopy"
   ]
  },
  {
   "cell_type": "code",
   "execution_count": null,
   "id": "105ea660-6fe7-40f3-bf79-b7521a0699d7",
   "metadata": {},
   "outputs": [],
   "source": [
    "frac_in_canopy = esm_tools.frac_in_canopy(ds_end)\n",
    "for p in range(n_pfts):\n",
    "    frac_in_canopy.isel(fates_levpft=p).plot(color = pft_colors[p], linewidth = 5)\n",
    "    \n",
    "plt.title(\"Fraction of total crown area in canopy layer\")\n",
    "plt.xlabel(\"year\")"
   ]
  },
  {
   "cell_type": "code",
   "execution_count": null,
   "id": "52345b35-48e9-4b5f-9a50-757de45d776c",
   "metadata": {},
   "outputs": [],
   "source": [
    "# importlib.reload(esm_tools)\n",
    "# importlib.reload(esm_viz)"
   ]
  },
  {
   "cell_type": "markdown",
   "id": "04d078d7-a19a-48e3-9a5e-a65708610dd2",
   "metadata": {},
   "source": [
    "### Crown area by patch age"
   ]
  },
  {
   "cell_type": "code",
   "execution_count": null,
   "id": "5821b800-56e9-4947-ad22-9bf18946d2fa",
   "metadata": {},
   "outputs": [],
   "source": [
    "esm_viz.cca_by_patch_age(ds_end,\n",
    "                         n_pfts = n_pfts,\n",
    "                         pft_colors = pft_colors,\n",
    "                         pft_names = pft_names,\n",
    "                         canopy_crown_area = False)"
   ]
  },
  {
   "cell_type": "markdown",
   "id": "4003c466-98a4-4fe2-999c-dc51f246cbaf",
   "metadata": {},
   "source": [
    "### Canopy crown area by patch age"
   ]
  },
  {
   "cell_type": "code",
   "execution_count": null,
   "id": "95ecb3ea-0c55-4191-9c98-c5a58cd29365",
   "metadata": {},
   "outputs": [],
   "source": [
    "esm_viz.cca_by_patch_age(ds_end,n_pfts = n_pfts,\n",
    "                          pft_colors = pft_colors,\n",
    "                          pft_names = pft_names,canopy_crown_area = True)"
   ]
  },
  {
   "cell_type": "markdown",
   "id": "6cc22ed4-0dd6-434e-b330-607a9a9f6b4c",
   "metadata": {},
   "source": [
    "## NPP"
   ]
  },
  {
   "cell_type": "code",
   "execution_count": null,
   "id": "33c5ddae-d063-4d32-8f69-7456bd3db4b2",
   "metadata": {},
   "outputs": [],
   "source": [
    "for p in range(n_pfts):\n",
    "    mv_avg = ds_end.FATES_NPP_PF.isel(fates_levpft=p).rolling(time=12, center=True).mean()\\\n",
    "    * s_per_yr\n",
    "    mv_avg.plot(x = \"time\", color = pft_colors[p],lw = 3)\n",
    "\n",
    "plt.ylabel(\"NPP [kg m-2 yr-1]\")\n",
    "plt.title(\"NPP [kg m-2 yr-1]\")\n",
    "plt.show()"
   ]
  },
  {
   "cell_type": "markdown",
   "id": "2627c95e-bbe9-46c3-ad6b-982d7b5232bf",
   "metadata": {},
   "source": [
    "## Recruitment"
   ]
  },
  {
   "cell_type": "markdown",
   "id": "32a96051-7152-4159-b966-8bec2f275134",
   "metadata": {},
   "source": [
    "### Per area [N ha-1]"
   ]
  },
  {
   "cell_type": "code",
   "execution_count": null,
   "id": "27c44a8a-02be-46b0-abd0-42bb45e99c78",
   "metadata": {},
   "outputs": [],
   "source": [
    "fig, axes = plt.subplots(ncols=2,nrows=3,figsize=(7,7))\n",
    "\n",
    "for p,ax in zip(range(n_pfts),axes.ravel()):\n",
    "    rec = ds_end.FATES_RECRUITMENT_PF.isel(fates_levpft=p) * m2_per_ha\n",
    "    rec.plot(x = \"time\", color = pft_colors[p], ax=ax)\n",
    "    ax.set_ylabel(\"[N ha-1 yr-1]\")\n",
    "    ax.set_title('{} recruitment'.format(pft_names[p]))\n",
    "    \n",
    "plt.tight_layout()"
   ]
  },
  {
   "cell_type": "markdown",
   "id": "5253e679-53d1-4cee-a3be-bd340cab335e",
   "metadata": {},
   "source": [
    "### Per unit basal area [N / m2 basal area]"
   ]
  },
  {
   "cell_type": "code",
   "execution_count": null,
   "id": "94a31979-4f59-4530-8df2-b2299923615a",
   "metadata": {},
   "outputs": [],
   "source": [
    "basal_area_pf = esm_tools.scpf_to_scls_by_pft(ds_end.FATES_BASALAREA_SZPF,ds_end)\n",
    "basal_area_pf = basal_area_pf.sum(dim = \"fates_levscls\")\n",
    "\n",
    "rec_per_cap = ds_end.FATES_RECRUITMENT_PF / basal_area_pf\n",
    "\n",
    "fig, axes = plt.subplots(ncols=2,nrows=3,figsize=(7,7))\n",
    "\n",
    "for p,ax in zip(range(n_pfts),axes.ravel()):\n",
    "    rec = rec_per_cap.isel(fates_levpft=p)\n",
    "    rec.plot(x = \"time\", color = pft_colors[p], ax=ax)\n",
    "    ax.set_ylabel(\"[N yr-1 m-2 basal area]\")\n",
    "    ax.set_title('{} recruitment'.format(pft_names[p]))\n",
    "    \n",
    "plt.tight_layout()"
   ]
  },
  {
   "cell_type": "markdown",
   "id": "3661bb87-3a2d-404f-a622-6d3c277b3c16",
   "metadata": {},
   "source": [
    "## Seed bank"
   ]
  },
  {
   "cell_type": "code",
   "execution_count": null,
   "id": "36163284-1978-4fbe-8f76-46326a788546",
   "metadata": {},
   "outputs": [],
   "source": [
    "fig, axes = plt.subplots(ncols=2,nrows=3,figsize=(7,7))\n",
    "\n",
    "for p,ax in zip(range(n_pfts),axes.ravel()):\n",
    "    seed = ds_end.FATES_SEEDBANK_PF.isel(fates_levpft=p)\n",
    "    seed.plot(x = \"time\", color = pft_colors[p], ax=ax)\n",
    "    ax.set_ylabel(\"[Kg m-2]\")\n",
    "    ax.set_title('{} Seed Bank'.format(pft_names[p]))\n",
    "    \n",
    "plt.tight_layout()"
   ]
  },
  {
   "cell_type": "markdown",
   "id": "79129048-bd06-4373-9b8e-01685d667559",
   "metadata": {},
   "source": [
    "## Fuel loads"
   ]
  },
  {
   "cell_type": "code",
   "execution_count": null,
   "id": "9917c6f9-1d7f-4924-9191-7fc4fff8d78a",
   "metadata": {},
   "outputs": [],
   "source": [
    "plt.rcParams.update({'axes.titlesize': 'large', 'axes.labelsize':'large'})\n",
    "\n",
    "age_by_fuel = esm_tools.agefuel_to_age_by_fuel(ds_end.FATES_FUEL_AMOUNT_APFC,ds_end)\n",
    "fates_fuel_amount_by_class = age_by_fuel.sum(dim = \"fates_levage\")\n",
    "\n",
    "fig, axes = plt.subplots(ncols=2,nrows=3,figsize=(10,10), sharey = False)\n",
    "\n",
    "fuel_class_names = ['twig','small branch','large branch','trunk','dead leaves','live grass']\n",
    "\n",
    "for p,ax in zip(range(6),axes.ravel()):\n",
    "    fates_fuel_amount_by_class.isel(fates_levfuel=p).plot(x = \"time\",lw = 1, ax = ax)\n",
    "    ax.set_ylabel(\"Fuel amount [Kg C m-2]\")\n",
    "    ax.set_title(fuel_class_names[p])\n",
    "    \n",
    "plt.tight_layout()"
   ]
  },
  {
   "cell_type": "markdown",
   "id": "d8d7d347-341a-44cc-a697-2b8e3903f146",
   "metadata": {},
   "source": [
    "### Combustible fuel total"
   ]
  },
  {
   "cell_type": "code",
   "execution_count": null,
   "id": "2dbfaefe-e604-498a-a949-d1d048ecc0c5",
   "metadata": {},
   "outputs": [],
   "source": [
    "fates_trunk_fuel_amount = fates_fuel_amount_by_class.isel(fates_levfuel = 3)\n",
    "fates_combustible_fuel_amount = fates_fuel_amount_by_class.sum(dim = \"fates_levfuel\") - fates_trunk_fuel_amount\n",
    "fates_combustible_fuel_amount.plot()\n",
    "plt.ylabel(\"Combustible fuel [kg C m-2]\")\n",
    "plt.title(\"Combustible fuel [kg C m-2]\")\n",
    "plt.show()"
   ]
  },
  {
   "cell_type": "markdown",
   "id": "98233e16-55c3-4810-afa5-fdb086d39ebf",
   "metadata": {},
   "source": [
    "## Fuel moisture"
   ]
  },
  {
   "cell_type": "code",
   "execution_count": null,
   "id": "ca3ed516-c031-42c8-8409-892a5bd65f0d",
   "metadata": {},
   "outputs": [],
   "source": [
    "fig, ax = plt.subplots(figsize=(10, 10))\n",
    "plt.rcParams.update({'axes.titlesize': 'large', 'axes.labelsize':'large'})\n",
    "\n",
    "fuel_class_names = ['twig','small branch','large branch','trunk','dead leaves']\n",
    "\n",
    "#plot pft-level basal area over time\n",
    "for i,fc in enumerate(fuel_class_names):\n",
    "    fmc = ds_end.FATES_FUEL_MOISTURE_FC.isel(fates_levfuel=i)\n",
    "    fmc.plot(x = \"time\", label = fc,lw = 2, add_legend = True, marker = \"o\")\n",
    "\n",
    "plt.legend()\n",
    "plt.ylabel('Fuel moisture content', fontsize=12)\n",
    "plt.title('Fuel moisture content')\n",
    "plt.show()"
   ]
  },
  {
   "cell_type": "markdown",
   "id": "a857b22d-df17-41d7-be1e-44b1fe2ea25a",
   "metadata": {},
   "source": [
    "## Soil moisture"
   ]
  },
  {
   "cell_type": "code",
   "execution_count": null,
   "id": "ca6cc812-c49e-498b-a763-4139a6486b83",
   "metadata": {},
   "outputs": [],
   "source": [
    "esm_viz.plot_smp(ds_end.SMP,ds_end,output_path=output_path_for_case)"
   ]
  },
  {
   "cell_type": "markdown",
   "id": "6e8d3a18-491e-4214-b1c5-bf9888781437",
   "metadata": {},
   "source": [
    "# Full dataset"
   ]
  },
  {
   "cell_type": "code",
   "execution_count": null,
   "id": "60c76ff4-004c-4708-b576-5c07160f55e3",
   "metadata": {},
   "outputs": [],
   "source": [
    "# define the history variables to read in\n",
    "full_time_series_fields = [\n",
    "          #have on to import these dimensions\n",
    "          'FATES_SEED_PROD_USTORY_SZ',\n",
    "          'FATES_VEGC_AP',\n",
    "          #patches and cohorts\n",
    "          'FATES_NPATCHES',\n",
    "          'FATES_PATCHAREA_AP',\n",
    "          'FATES_NPATCH_AP',\n",
    "          #structure\n",
    "          #'FATES_LAI_AP',\n",
    "          #density\n",
    "          'FATES_NPLANT_PF',\n",
    "          'FATES_NPLANT_SZAPPF',\n",
    "          'FATES_NPLANT_SZPF',\n",
    "          #basal area\n",
    "          'FATES_BASALAREA_SZPF',\n",
    "          #crown_area\n",
    "          'FATES_CANOPYCROWNAREA_PF',\n",
    "          'FATES_CANOPYCROWNAREA_APPF',\n",
    "          'FATES_CROWNAREA_APPF',\n",
    "          'FATES_CROWNAREA_PF',\n",
    "          #biomass\n",
    "          #'FATES_VEGC_PF','FATES_VEGC_AP','FATES_VEGC_ABOVEGROUND','FATES_VEGC_ABOVEGROUND_SZPF',\n",
    "          #growth\n",
    "          #'FATES_DDBH_SZPF',\n",
    "          #'FATES_DDBH_CANOPY_SZAP','FATES_DDBH_USTORY_SZAP',\n",
    "          #mortality\n",
    "          'FATES_MORTALITY_PF',\n",
    "          #'FATES_MORTALITY_CANOPY_SZAP','FATES_MORTALITY_USTORY_SZAP',\n",
    "          'FATES_MORTALITY_BACKGROUND_SZPF','FATES_MORTALITY_HYDRAULIC_SZPF','FATES_MORTALITY_CSTARV_SZPF',\n",
    "          'FATES_MORTALITY_FIRE_SZPF','FATES_MORTALITY_CROWNSCORCH_SZPF',\n",
    "          'FATES_MORTALITY_SENESCENCE_SZPF','FATES_MORTALITY_TERMINATION_SZPF','FATES_MORTALITY_LOGGING_SZPF',\n",
    "          'FATES_MORTALITY_FREEZING_SZPF','FATES_MORTALITY_AGESCEN_SZPF','FATES_MORTALITY_IMPACT_SZPF',\n",
    "          #seed production and recruitment\n",
    "          #GPP and NPP\n",
    "          'FATES_NPP_PF','FATES_NPP_SZPF',\n",
    "          'FATES_RECRUITMENT_PF',\n",
    "          #'FATES_AUTORESP_SZPF','FATES_MAINTAR_SZPF',\n",
    "          #physical environment\n",
    "          'SMP',\n",
    "          #allocation\n",
    "          #'FATES_STOREC_CANOPY_SZPF','FATES_STOREC_USTORY_SZPF',\n",
    "          #fire\n",
    "          'FATES_BURNFRAC','FATES_IGNITIONS','FATES_FIRE_INTENSITY_BURNFRAC',\n",
    "          'FATES_FUEL_BULKD','FATES_FUEL_SAV',\n",
    "          'FATES_FUEL_AMOUNT_AP',\n",
    "          'FATES_FIRE_INTENSITY_BURNFRAC_AP',\n",
    "          'FATES_BURNFRAC_AP',\n",
    "          'FATES_NESTEROV_INDEX',\n",
    "          'FATES_VEGC_ABOVEGROUND'\n",
    "          ]"
   ]
  },
  {
   "cell_type": "markdown",
   "id": "45d10754-9039-461d-bb2f-6a39647c653d",
   "metadata": {},
   "source": [
    "## Load the full dataset"
   ]
  },
  {
   "cell_type": "code",
   "execution_count": null,
   "id": "dd04bb93-540d-43c4-9bcf-7807cbc32b4e",
   "metadata": {},
   "outputs": [],
   "source": [
    "ds = esm_tools.load_fates_output_data(model_output_root=model_output_root,\n",
    "                            case_name = case_name,\n",
    "                            years = years,\n",
    "                            fields = full_time_series_fields,\n",
    "                            inst_tag = inst_tag)#,\n",
    "                            #manual_path = model_output_no_archive)"
   ]
  },
  {
   "cell_type": "markdown",
   "id": "bc4bc000-5e38-4c76-8be8-9005fe3e4fff",
   "metadata": {},
   "source": [
    "## AGB"
   ]
  },
  {
   "cell_type": "code",
   "execution_count": null,
   "id": "dbc4f175-285d-4fa6-ae03-ef1e3282a609",
   "metadata": {},
   "outputs": [],
   "source": [
    "print(\"AGB units:\",ds.FATES_VEGC_ABOVEGROUND.attrs['units'])\n",
    "\n",
    "esm_viz.plot_array(ds.FATES_VEGC_ABOVEGROUND,\n",
    "           xds = ds,\n",
    "           n_pfts = n_pfts,\n",
    "           title = \"AGB\",\n",
    "           ylabel = \"AGB [kg C m-2]\",\n",
    "           pft_colors = pft_colors,\n",
    "           pft_names = pft_names,\n",
    "           output_path = output_path_for_case,\n",
    "           conversion = 1,\n",
    "           subplots = False,\n",
    "           getData = False,\n",
    "           dbh_min = None)"
   ]
  },
  {
   "cell_type": "markdown",
   "id": "5b7b0e32-b39f-400d-8ee6-709a422e78f6",
   "metadata": {},
   "source": [
    "## Burned area"
   ]
  },
  {
   "cell_type": "code",
   "execution_count": null,
   "id": "0dc1d5c1-c8e7-49aa-8365-738aec8818b4",
   "metadata": {},
   "outputs": [],
   "source": [
    "importlib.reload(esm_tools)\n",
    "importlib.reload(esm_viz)"
   ]
  },
  {
   "cell_type": "code",
   "execution_count": null,
   "id": "af52748d-f736-42ce-9688-697ae6644d4d",
   "metadata": {},
   "outputs": [],
   "source": [
    "esm_viz.plot_mean_annual_burn_frac(ds,start_date=\"1950-01-01\",end_date=\"1999-01-01\")"
   ]
  },
  {
   "cell_type": "code",
   "execution_count": null,
   "id": "14e633de-dd55-45d3-b3a9-8b96c1286d97",
   "metadata": {},
   "outputs": [],
   "source": [
    "burnfrac = ds.FATES_BURNFRAC  * s_per_yr\n",
    "burnfrac.plot(lw = 0.1, marker = \"o\")\n",
    "plt.ylabel('Mean burn rate [yr-1] in each month', fontsize=12)\n",
    "plt.title('Burn rate')\n",
    "plt.show()"
   ]
  },
  {
   "cell_type": "markdown",
   "id": "4b3774ad-532c-403a-ab0f-c2ee1ba5fa76",
   "metadata": {},
   "source": [
    "## Area-weighted fire intensity over time"
   ]
  },
  {
   "cell_type": "code",
   "execution_count": null,
   "id": "147c96b9-1d95-41f1-86b6-2ca3f268137e",
   "metadata": {},
   "outputs": [],
   "source": [
    "esm_viz.plot_area_weighted_fire_intensity(ds)"
   ]
  },
  {
   "cell_type": "code",
   "execution_count": null,
   "id": "81d76be7-9aa6-4e6a-a539-9a1cc5f03c26",
   "metadata": {},
   "outputs": [],
   "source": [
    "esm_viz.plot_awfi_hist(ds,start_date=\"1950-01-01\",end_date=\"1999-01-01\")"
   ]
  },
  {
   "cell_type": "markdown",
   "id": "49ff39dd-8582-4a56-8d33-e2070f20e5ef",
   "metadata": {},
   "source": [
    "## Stem density"
   ]
  },
  {
   "cell_type": "code",
   "execution_count": null,
   "id": "97a5fa08-0215-4685-ae62-a9ed77c3c27b",
   "metadata": {},
   "outputs": [],
   "source": [
    "esm_viz.plot_array(ds.FATES_NPLANT_SZPF,\n",
    "           xds = ds,\n",
    "           n_pfts = n_pfts,\n",
    "           pft_colors = pft_colors,\n",
    "           pft_names = pft_names,\n",
    "           title = \"Stem Density\" + \" (dbh min \" + str(0) + \" cm)\",\n",
    "           ylabel = \"Stem Density [N ha-1]\",\n",
    "           output_path = output_path_for_case,\n",
    "           conversion = m2_per_ha,\n",
    "           subplots = False,\n",
    "           getData = False,\n",
    "           dbh_min = 0)"
   ]
  },
  {
   "cell_type": "markdown",
   "id": "e126b34c-6646-4e3f-a6a6-e2b2a391b1f7",
   "metadata": {},
   "source": [
    "## Basal area"
   ]
  },
  {
   "cell_type": "code",
   "execution_count": null,
   "id": "42f53a14-7c41-4b73-bcbc-9c2dd97aa507",
   "metadata": {},
   "outputs": [],
   "source": [
    "esm_viz.plot_array(ds.FATES_BASALAREA_SZPF,\n",
    "           xds = ds,\n",
    "           n_pfts = n_pfts,\n",
    "           pft_colors = pft_colors,\n",
    "           pft_names = pft_names,\n",
    "           conversion = m2_per_ha,\n",
    "           title = \"Basal area\",\n",
    "           ylabel = \"Basal Area [m2 ha-1]\",\n",
    "           output_path = output_path_for_case,\n",
    "           subplots = False,\n",
    "           getData = False,\n",
    "           dbh_min = None)"
   ]
  },
  {
   "cell_type": "markdown",
   "id": "60573871-993c-4d82-b070-847f1dff4db3",
   "metadata": {},
   "source": [
    "## Recruitment"
   ]
  },
  {
   "cell_type": "code",
   "execution_count": null,
   "id": "1ad139e0-320c-4f61-9bdc-e366bf37a923",
   "metadata": {},
   "outputs": [],
   "source": [
    "fig, axes = plt.subplots(ncols=2,nrows=3,figsize=(7,7))\n",
    "\n",
    "for p,ax in zip(range(n_pfts),axes.ravel()):\n",
    "    rec = ds.FATES_RECRUITMENT_PF.isel(fates_levpft=p) * m2_per_ha\n",
    "    rec.plot(x = \"time\", color = pft_colors[p], ax=ax)\n",
    "    ax.set_ylabel(\"[N ha-1 yr-1]\")\n",
    "    ax.set_title('{} recruitment'.format(pft_names[p]))\n",
    "    \n",
    "plt.tight_layout()"
   ]
  },
  {
   "cell_type": "markdown",
   "id": "2c06e98c-d0df-4042-a669-e8751648fc75",
   "metadata": {},
   "source": [
    "## NPP"
   ]
  },
  {
   "cell_type": "code",
   "execution_count": null,
   "id": "5ccd47f4-24d4-4fc6-b0c8-40bdbefb8808",
   "metadata": {},
   "outputs": [],
   "source": [
    "for p in range(n_pfts):\n",
    "    mv_avg = ds.FATES_NPP_PF.isel(fates_levpft=p).rolling(time=12, center=True).mean()\\\n",
    "    * s_per_yr\n",
    "    mv_avg.plot(x = \"time\", color = pft_colors[p],lw = 3)\n",
    "\n",
    "plt.ylabel(\"NPP [kg m-2 yr-1]\")\n",
    "plt.title(\"NPP [kg m-2 yr-1]\")\n",
    "plt.show()"
   ]
  },
  {
   "cell_type": "markdown",
   "id": "e081bd39-f0aa-41a6-ba75-1f6c9969a6f5",
   "metadata": {},
   "source": [
    "## NPP per unit basal area"
   ]
  },
  {
   "cell_type": "code",
   "execution_count": null,
   "id": "8ed10a71-d6b8-433e-a155-12180f2afecd",
   "metadata": {},
   "outputs": [],
   "source": [
    "basal_area_pf = esm_tools.scpf_to_scls_by_pft(ds.FATES_BASALAREA_SZPF,ds)\n",
    "basal_area_pf = basal_area_pf.sum(dim = \"fates_levscls\") * m2_per_ha\n",
    "\n",
    "npp = ds.FATES_NPP_PF * s_per_yr\n",
    "\n",
    "NPP_per_unit_ba = npp / basal_area_pf\n",
    "\n",
    "for p in range(n_pfts):\n",
    "    #mv_avg = NPP_per_unit_ba.isel(fates_levpft=p).rolling(time=12, center=True).mean()\\\n",
    "    #* s_per_yr\n",
    "    #basal_area_pf.isel(fates_levpft=p).plot(x = \"time\", color = pft_colors[p],lw = 3)\n",
    "    NPP_per_unit_ba.isel(fates_levpft=p).plot(x = \"time\", color = pft_colors[p],lw = 3)\n",
    "    \n",
    "    #mv_avg.plot(x = \"time\", color = pft_colors[p],lw = 3)\n",
    "\n",
    "plt.ylabel(\"NPP [kg m-2 basal area yr-1]\")\n",
    "plt.title(\"NPP [kg m-2 basal area yr-1]\")\n",
    "plt.show()"
   ]
  },
  {
   "cell_type": "markdown",
   "id": "be5c8ed3-b2c4-40b0-9a37-fc7aff461764",
   "metadata": {},
   "source": [
    "## Per capita mortality rates"
   ]
  },
  {
   "cell_type": "code",
   "execution_count": null,
   "id": "5df53245-c7a5-4e7c-a1c9-287bcab4e873",
   "metadata": {},
   "outputs": [],
   "source": [
    "# yrs_per_month = 1/12\n",
    "\n",
    "# #Plot mortality rates\n",
    "# mort_types = (ds.FATES_MORTALITY_PF, ds.FATES_MORTALITY_BACKGROUND_SZPF,\n",
    "#               ds.FATES_MORTALITY_HYDRAULIC_SZPF, ds.FATES_MORTALITY_CSTARV_SZPF,\n",
    "#               ds.FATES_MORTALITY_FIRE_SZPF,ds.FATES_MORTALITY_SENESCENCE_SZPF,\n",
    "#               ds.FATES_MORTALITY_TERMINATION_SZPF,ds.FATES_MORTALITY_LOGGING_SZPF,\n",
    "#               ds.FATES_MORTALITY_FREEZING_SZPF,ds.FATES_MORTALITY_AGESCEN_SZPF,ds.FATES_MORTALITY_IMPACT_SZPF)\n",
    "\n",
    "# # Get per capita mortality rates\n",
    "# m_total, m_back, m_hydr, m_cstarv, m_fire, m_sen, m_term, m_log, m_freeze, m_agescen, m_impact = map(functools.partial(esm_tools.per_capita_rate,\n",
    "#                                            xds = ds, unit_conversion = 1),mort_types)\n",
    "# morts = (m_total, m_back, m_hydr, m_cstarv, m_fire, m_sen, m_term, m_log, m_freeze, m_agescen, m_impact)\n",
    "\n",
    "# mort_titles = [\"Total Mortality Rate\",\"Background Mortality Rate\",\"Hydraulic Failure Mortality\",\n",
    "# \"Carbon Starvation Mortality\",\"Fire Mortality\",\"Senescence Mortality\",\"Termination Mortality\",\n",
    "# \"Logging Mortality\", \"Freezing Mortality\",\"AGESEN Mortality\",\"Impact Mortality\"]\n",
    "\n",
    "# for i in range(len(mort_titles)):\n",
    "#     esm_viz.plot_array(xarr=morts[i],xds=ds,n_pfts=n_pfts,\n",
    "#                        pft_colors=pft_colors,\n",
    "#                        pft_names = pft_names,\n",
    "#                        title = mort_titles[i],\n",
    "#                        ylabel='[N per capita month-1]',\n",
    "#                        output_path=output_path_for_case,subplots=True)"
   ]
  },
  {
   "cell_type": "code",
   "execution_count": null,
   "id": "69544dcd-08b9-4b6f-8d96-7e41c6625ec2",
   "metadata": {},
   "outputs": [],
   "source": [
    "# esm_viz.plot_array(xarr=m_fire,xds=ds,n_pfts=n_pfts,\n",
    "#                        pft_colors=pft_colors,\n",
    "#                        pft_names = pft_names,\n",
    "#                        title = mort_titles[i],\n",
    "#                        ylabel='[N per capita month-1]',\n",
    "#                        output_path=output_path_for_case,subplots=True)"
   ]
  },
  {
   "cell_type": "markdown",
   "id": "e273188d-debd-4948-86ba-2a51c603270d",
   "metadata": {},
   "source": [
    "## Per-area mortality rates"
   ]
  },
  {
   "cell_type": "code",
   "execution_count": null,
   "id": "8e1ad34d-68df-4312-8b2a-02b900b3631f",
   "metadata": {},
   "outputs": [],
   "source": [
    "# morts = (ds.FATES_MORTALITY_PF, ds.FATES_MORTALITY_BACKGROUND_SZPF,\n",
    "#               ds.FATES_MORTALITY_HYDRAULIC_SZPF, ds.FATES_MORTALITY_CSTARV_SZPF,\n",
    "#               ds.FATES_MORTALITY_FIRE_SZPF,ds.FATES_MORTALITY_SENESCENCE_SZPF,\n",
    "#               ds.FATES_MORTALITY_TERMINATION_SZPF,ds.FATES_MORTALITY_LOGGING_SZPF,\n",
    "#               ds.FATES_MORTALITY_FREEZING_SZPF,ds.FATES_MORTALITY_AGESCEN_SZPF,ds.FATES_MORTALITY_IMPACT_SZPF)\n",
    "\n",
    "# mort_titles = [\"Total Mortality Rate\",\"Background Mortality Rate\",\"Hydraulic Failure Mortality\",\n",
    "# \"Carbon Starvation Mortality\",\"Fire Mortality\",\"Senescence Mortality\",\"Termination Mortality\",\n",
    "# \"Logging Mortality\", \"Freezing Mortality\",\"AGESEN Mortality\",\"Impact Mortality\"]\n",
    "\n",
    "# for i in range(len(mort_titles)):\n",
    "#     esm_viz.plot_array(xarr=morts[i],xds=ds,n_pfts=n_pfts,\n",
    "#                        pft_colors=pft_colors,\n",
    "#                        pft_names = pft_names,\n",
    "#                        title = mort_titles[i],\n",
    "#                        ylabel='[N ha-1 yr-1]',\n",
    "#                        output_path=output_path_for_case,\n",
    "#                        conversion=m2_per_ha,\n",
    "#                        subplots=True)"
   ]
  },
  {
   "cell_type": "code",
   "execution_count": null,
   "id": "d7ac70cb-c5f8-4307-a480-7849ffbd34ab",
   "metadata": {},
   "outputs": [],
   "source": []
  }
 ],
 "metadata": {
  "kernelspec": {
   "display_name": "env4_work",
   "language": "python",
   "name": "env4_work"
  },
  "language_info": {
   "codemirror_mode": {
    "name": "ipython",
    "version": 3
   },
   "file_extension": ".py",
   "mimetype": "text/x-python",
   "name": "python",
   "nbconvert_exporter": "python",
   "pygments_lexer": "ipython3",
   "version": "3.8.13"
  },
  "toc": {
   "base_numbering": 1,
   "nav_menu": {},
   "number_sections": true,
   "sideBar": true,
   "skip_h1_title": false,
   "title_cell": "Table of Contents",
   "title_sidebar": "Contents",
   "toc_cell": false,
   "toc_position": {},
   "toc_section_display": true,
   "toc_window_display": false
  }
 },
 "nbformat": 4,
 "nbformat_minor": 5
}
