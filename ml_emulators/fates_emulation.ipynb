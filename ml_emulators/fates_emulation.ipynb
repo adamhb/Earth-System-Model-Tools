{
 "cells": [
  {
   "cell_type": "markdown",
   "id": "051a67e8",
   "metadata": {},
   "source": [
    "# Emulate FATES"
   ]
  },
  {
   "cell_type": "code",
   "execution_count": 1,
   "id": "2713a626",
   "metadata": {},
   "outputs": [],
   "source": [
    "import numpy as np\n",
    "import sklearn\n",
    "import matplotlib.pyplot as plt\n",
    "import pandas as pd\n",
    "import os\n",
    "from sklearn.model_selection import cross_val_score\n",
    "from sklearn.model_selection import cross_val_predict\n",
    "from sklearn.metrics import confusion_matrix\n",
    "pd.set_option('display.max_rows', 500)"
   ]
  },
  {
   "cell_type": "markdown",
   "id": "a87ab41c",
   "metadata": {},
   "source": [
    "## Functions"
   ]
  },
  {
   "cell_type": "code",
   "execution_count": 25,
   "id": "4376db3c",
   "metadata": {},
   "outputs": [],
   "source": [
    "def display_scores(scores):\n",
    "    print(\"Scores:\", scores)\n",
    "    print(\"Mean:\", scores.mean())\n",
    "    print(\"Standard deviation:\", scores.std())"
   ]
  },
  {
   "cell_type": "markdown",
   "id": "e903efd1",
   "metadata": {},
   "source": [
    "## Import data"
   ]
  },
  {
   "cell_type": "code",
   "execution_count": 2,
   "id": "e7082f9c",
   "metadata": {},
   "outputs": [
    {
     "name": "stdout",
     "output_type": "stream",
     "text": [
      "<class 'pandas.core.frame.DataFrame'>\n",
      "RangeIndex: 3024 entries, 0 to 3023\n",
      "Columns: 117 entries, Unnamed: 0 to case_tag\n",
      "dtypes: float64(113), int64(4)\n",
      "memory usage: 2.7 MB\n",
      "\n",
      "\n",
      "['BA', 'AGB', 'TreeStemD', 'ResproutD_oak', 'ResproutD_shrub', 'ShannonE', 'NPP', 'FailedPFTs', 'Pct_shrub_cover_canopy', 'Pct_shrub_cover', 'Combustible_fuel', 'BA_pine', 'BA_cedar', 'BA_fir', 'BA_shrub', 'BA_oak', 'inst', 'fates_recruit_seed_alloc_mature_1', 'fates_recruit_seed_alloc_mature_2', 'fates_recruit_seed_alloc_mature_3', 'fates_recruit_seed_alloc_mature_4', 'fates_recruit_seed_alloc_mature_5', 'fates_recruit_seed_dbh_repro_threshold_1', 'fates_recruit_seed_dbh_repro_threshold_2', 'fates_recruit_seed_dbh_repro_threshold_3', 'fates_recruit_seed_dbh_repro_threshold_5', 'fates_fire_alpha_SH_1', 'fates_fire_alpha_SH_2', 'fates_fire_alpha_SH_3', 'fates_fire_alpha_SH_4', 'fates_fire_alpha_SH_5', 'fates_fire_bark_scaler_1', 'fates_fire_bark_scaler_2', 'fates_fire_bark_scaler_3', 'fates_fire_bark_scaler_4', 'fates_fire_bark_scaler_5', 'fates_fire_crown_kill_1', 'fates_fire_crown_kill_2', 'fates_fire_crown_kill_3', 'fates_fire_crown_kill_4', 'fates_fire_crown_kill_5', 'fates_fire_drying_ratio_0', 'fates_fire_nignitions_0', 'fates_fire_threshold_0', 'fates_mort_bmort_1', 'fates_mort_bmort_2', 'fates_mort_bmort_3', 'fates_mort_bmort_4', 'fates_mort_bmort_5', 'fates_leaf_slatop_1', 'fates_leaf_slatop_2', 'fates_leaf_slatop_3', 'fates_leaf_slatop_4', 'fates_leaf_slatop_5', 'fates_leaf_slamax_0', 'fates_leaf_vcmax25top_1', 'fates_leaf_vcmax25top_2', 'fates_leaf_vcmax25top_3', 'fates_leaf_vcmax25top_4', 'fates_leaf_vcmax25top_5', 'fates_mort_scalar_cstarvation_1', 'fates_mort_scalar_cstarvation_2', 'fates_mort_scalar_cstarvation_3', 'fates_mort_scalar_cstarvation_4', 'fates_mort_scalar_cstarvation_5', 'fates_fire_frac_resprout_4', 'fates_fire_frac_resprout_5', 'fates_frag_seed_decay_rate_1', 'fates_frag_seed_decay_rate_2', 'fates_frag_seed_decay_rate_3', 'fates_frag_seed_decay_rate_4', 'fates_frag_seed_decay_rate_5', 'fates_recruit_seed_germination_rate_1', 'fates_recruit_seed_germination_rate_2', 'fates_recruit_seed_germination_rate_3', 'fates_recruit_seed_germination_rate_4', 'fates_recruit_seed_germination_rate_5', 'fates_disturbance_germ_4', 'fates_turnover_branch_1', 'fates_turnover_branch_2', 'fates_turnover_branch_3', 'fates_turnover_branch_4', 'fates_turnover_branch_5', 'fates_turnover_leaf_1', 'fates_turnover_leaf_2', 'fates_turnover_leaf_3', 'fates_turnover_leaf_4', 'fates_turnover_leaf_5', 'fates_nonhydro_smpsc_1', 'fates_nonhydro_smpsc_2', 'fates_nonhydro_smpsc_3', 'fates_nonhydro_smpsc_4', 'fates_nonhydro_smpsc_5', 'fates_mort_hf_sm_threshold_0', 'fates_recruit_inter_patch_disp_frac_0', 'fates_frag_maxdecomp_0', 'fates_alloc_storage_cushion_5', 'fates_grperc_4', 'fates_stoich_nitr_1', 'fates_stoich_nitr_2', 'fates_stoich_nitr_3', 'fates_stoich_nitr_4', 'fates_stoich_nitr_5', 'fates_mort_ip_size_senescence_4', 'fates_mort_ip_age_senescence_4', 'fates_allom_d2ca_coefficient_max_1', 'fates_allom_d2ca_coefficient_max_2', 'fates_allom_d2ca_coefficient_max_3', 'fates_allom_d2ca_coefficient_max_4', 'fates_allom_d2ca_coefficient_max_5', 'fates_allom_d2ca_coefficient_min_0', 'fates_allom_agb1_1', 'fates_allom_agb1_2', 'fates_allom_agb1_3', 'fates_allom_agb1_5', 'case_tag']\n"
     ]
    }
   ],
   "source": [
    "raw_df = pd.read_csv('all_member_output_101223.csv')\n",
    "raw_df.info()\n",
    "print(\"\\n\")\n",
    "\n",
    "# Drop first column\n",
    "raw_df.drop(columns=raw_df.columns[0], axis=1, inplace=True)\n",
    "print(list(raw_df.columns))\n",
    "\n",
    "df = raw_df.copy()"
   ]
  },
  {
   "cell_type": "markdown",
   "id": "e57c5443",
   "metadata": {},
   "source": [
    "## Clean"
   ]
  },
  {
   "cell_type": "code",
   "execution_count": 3,
   "id": "4fde224d",
   "metadata": {},
   "outputs": [],
   "source": [
    "df.fillna(0, inplace=True)"
   ]
  },
  {
   "cell_type": "markdown",
   "id": "99110c38",
   "metadata": {},
   "source": [
    "## Add coexistence variable\n",
    "\n",
    "We define coexistence as runs where there were no failed pfts.\n",
    "\n",
    "A failed pft is defined as one that had basal area [m2 ha-1] < 0.1\n",
    "\n",
    "The goal of the emulator is to increase the success rate of coexistence."
   ]
  },
  {
   "cell_type": "code",
   "execution_count": 4,
   "id": "43c5d152",
   "metadata": {},
   "outputs": [
    {
     "name": "stdout",
     "output_type": "stream",
     "text": [
      "\n",
      "\n",
      "Coexistence success rate: 6.403940886699508 %\n"
     ]
    }
   ],
   "source": [
    "df['coexistence'] = df['FailedPFTs'] == 0\n",
    "coex_table = df['coexistence'].value_counts()\n",
    "\n",
    "print(\"\\n\")\n",
    "\n",
    "print('Coexistence success rate:',coex_table[1]/coex_table[0] * 100, \"%\")"
   ]
  },
  {
   "cell_type": "markdown",
   "id": "afeb8b19",
   "metadata": {},
   "source": [
    "## Split data into train and test sets\n",
    "\n",
    "While ensuring that the train and test sets have equal ratios of coexistence to non-coexistence"
   ]
  },
  {
   "cell_type": "code",
   "execution_count": 8,
   "id": "c311c470",
   "metadata": {},
   "outputs": [],
   "source": [
    "from sklearn.model_selection import StratifiedShuffleSplit\n",
    "\n",
    "split = StratifiedShuffleSplit(n_splits=1, test_size = 0.1, random_state = 42)\n",
    "\n",
    "# Split the data into training and test sets, maintaining an equal proportion of veg and non-veg labels in each.\n",
    "for train_index, test_index in split.split(df, df['coexistence']):\n",
    "    train_set = df.iloc[train_index]\n",
    "    test_set = df.iloc[test_index]\n",
    "    \n",
    "X_cols = train_set.columns[train_set.columns.str.contains('fates')]\n",
    "train_X = train_set[X_cols]\n",
    "test_X = test_set[X_cols]\n",
    "\n",
    "#Create vars to be predicted\n",
    "train_y_coex = train_set[\"coexistence\"].copy()\n",
    "train_y_shannonE = train_set[\"ShannonE\"].copy()\n",
    "train_y_failedPFTs = train_set[\"FailedPFTs\"].copy()\n",
    "\n",
    "test_Y_coex = test_set[\"coexistence\"].copy()\n",
    "test_y_shannonE = test_set[\"ShannonE\"].copy()\n",
    "test_y_failedPFTs = test_set[\"FailedPFTs\"].copy()"
   ]
  },
  {
   "cell_type": "markdown",
   "id": "fcbdd362",
   "metadata": {},
   "source": [
    "### Check that the train and test sets have similar ratios of coexistence to competitive exclusion"
   ]
  },
  {
   "cell_type": "code",
   "execution_count": 19,
   "id": "c6301567",
   "metadata": {},
   "outputs": [
    {
     "name": "stdout",
     "output_type": "stream",
     "text": [
      "train: False    2557\n",
      "True      164\n",
      "Name: coexistence, dtype: int64\n",
      "test: False    285\n",
      "True      18\n",
      "Name: coexistence, dtype: int64\n"
     ]
    }
   ],
   "source": [
    "print(\"train:\",train_y_coex.value_counts())\n",
    "print(\"test:\",test_set['coexistence'].value_counts())"
   ]
  },
  {
   "cell_type": "markdown",
   "id": "a43f7a49",
   "metadata": {},
   "source": [
    "## Set up a data transformation pipeline to prepare the data for machine learning\n",
    "\n",
    "\n",
    "Here we standardize the data, but some algorithms (some neural networks), need normalized data 0-1.\n",
    "Normalizing can make outliers have a big effect on the data though (\"squishing down\"), so removing outliers can be helpful before normalizing."
   ]
  },
  {
   "cell_type": "code",
   "execution_count": 9,
   "id": "2b44c319",
   "metadata": {},
   "outputs": [],
   "source": [
    "from sklearn.pipeline import Pipeline\n",
    "from sklearn.preprocessing import StandardScaler\n",
    "\n",
    "# This is for if I need to define a custom data transformation function\n",
    "from sklearn.base import BaseEstimator, TransformerMixin\n",
    "\n",
    "\n",
    "# Data transformation pipeline\n",
    "transformation_pipeline = Pipeline([\n",
    "        ('std_scaler', StandardScaler()), # Scale the data by substracting mean and dividing by sigma\n",
    "    ])\n",
    "\n",
    "# Apply transformation pipeline to training data\n",
    "X = transformation_pipeline.fit_transform(train_X)"
   ]
  },
  {
   "cell_type": "markdown",
   "id": "81dcddca",
   "metadata": {},
   "source": [
    "## Define a naive classifier to compare our classifiers to\n",
    "\n",
    "This classifier always predicts no coexistence."
   ]
  },
  {
   "cell_type": "code",
   "execution_count": 21,
   "id": "4d2af723",
   "metadata": {},
   "outputs": [],
   "source": [
    "from sklearn.base import BaseEstimator\n",
    "class NeverCoexist(BaseEstimator):\n",
    "    def fit(self, X, y=None):\n",
    "        pass\n",
    "    def predict(self, X):\n",
    "        \n",
    "        #always predicts false (0)\n",
    "        return np.zeros((len(X), 1), dtype=bool)"
   ]
  },
  {
   "cell_type": "code",
   "execution_count": 23,
   "id": "ae771c45",
   "metadata": {},
   "outputs": [
    {
     "name": "stdout",
     "output_type": "stream",
     "text": [
      "Naive: [0.91941392 0.97058824 0.94485294 0.92279412 0.91544118 0.94485294\n",
      " 0.95220588 0.94852941 0.91911765 0.95955882]\n"
     ]
    }
   ],
   "source": [
    "# Naive classifier\n",
    "never_coexist = NeverCoexist()\n",
    "# test naive classifier\n",
    "naive_scores = cross_val_score(never_coexist, X, train_y_coex, cv= 10, scoring=\"accuracy\")\n",
    "print(\"Naive:\",naive_scores)"
   ]
  },
  {
   "cell_type": "markdown",
   "id": "99e1f84a",
   "metadata": {},
   "source": [
    "# Emulate coexistence"
   ]
  },
  {
   "cell_type": "markdown",
   "id": "4b51b379",
   "metadata": {},
   "source": [
    "## Decision Tree\n",
    "\n",
    "Decision tree performs worse that the naive classifier"
   ]
  },
  {
   "cell_type": "code",
   "execution_count": 8,
   "id": "d0191b5e",
   "metadata": {},
   "outputs": [
    {
     "name": "stdout",
     "output_type": "stream",
     "text": [
      "Naive: [0.91941392 0.97058824 0.94485294 0.92279412 0.91544118 0.94485294\n",
      " 0.95220588 0.94852941 0.91911765 0.95955882]\n",
      "Decision Tree: [0.8974359  0.88602941 0.90073529 0.87132353 0.90073529 0.86397059\n",
      " 0.89705882 0.87132353 0.88970588 0.87132353]\n"
     ]
    }
   ],
   "source": [
    "from sklearn.tree import DecisionTreeClassifier\n",
    "\n",
    "\n",
    "# Naive classifier\n",
    "never_coexist = NeverCoexist()\n",
    "\n",
    "# decision tree classifier\n",
    "tree = DecisionTreeClassifier()\n",
    "\n",
    "\n",
    "# test regression tree\n",
    "tree_scores = cross_val_score(tree, X, train_y_coex, cv= 10, scoring=\"accuracy\")\n",
    "print(\"Decision Tree:\",tree_scores)"
   ]
  },
  {
   "cell_type": "markdown",
   "id": "e0de9116",
   "metadata": {},
   "source": [
    "## Random Forest to predict coexistence"
   ]
  },
  {
   "cell_type": "code",
   "execution_count": 19,
   "id": "fe11453f",
   "metadata": {},
   "outputs": [
    {
     "ename": "NameError",
     "evalue": "name 'naive_scores' is not defined",
     "output_type": "error",
     "traceback": [
      "\u001b[0;31m---------------------------------------------------------------------------\u001b[0m",
      "\u001b[0;31mNameError\u001b[0m                                 Traceback (most recent call last)",
      "Cell \u001b[0;32mIn[19], line 6\u001b[0m\n\u001b[1;32m      3\u001b[0m forest \u001b[38;5;241m=\u001b[39m RandomForestClassifier(n_estimators\u001b[38;5;241m=\u001b[39m\u001b[38;5;241m100\u001b[39m,max_features\u001b[38;5;241m=\u001b[39m\u001b[38;5;241m0.25\u001b[39m)\n\u001b[1;32m      5\u001b[0m forest_scores \u001b[38;5;241m=\u001b[39m cross_val_score(forest,X,train_y_coex,cv\u001b[38;5;241m=\u001b[39m\u001b[38;5;241m10\u001b[39m,scoring\u001b[38;5;241m=\u001b[39m\u001b[38;5;124m\"\u001b[39m\u001b[38;5;124maccuracy\u001b[39m\u001b[38;5;124m\"\u001b[39m)\n\u001b[0;32m----> 6\u001b[0m \u001b[38;5;28mprint\u001b[39m(\u001b[38;5;124m\"\u001b[39m\u001b[38;5;124mNaive:\u001b[39m\u001b[38;5;124m\"\u001b[39m,\u001b[43mnaive_scores\u001b[49m)\n\u001b[1;32m      7\u001b[0m \u001b[38;5;28mprint\u001b[39m(\u001b[38;5;124m\"\u001b[39m\u001b[38;5;130;01m\\n\u001b[39;00m\u001b[38;5;124m\"\u001b[39m)\n\u001b[1;32m      8\u001b[0m \u001b[38;5;28mprint\u001b[39m(\u001b[38;5;124m\"\u001b[39m\u001b[38;5;124mForest:\u001b[39m\u001b[38;5;124m\"\u001b[39m,forest_scores)\n",
      "\u001b[0;31mNameError\u001b[0m: name 'naive_scores' is not defined"
     ]
    }
   ],
   "source": [
    "from sklearn.ensemble import RandomForestClassifier\n",
    "\n",
    "forest = RandomForestClassifier(n_estimators=100,max_features=0.25)\n",
    "\n",
    "forest_scores = cross_val_score(forest,X,train_y_coex,cv=10,scoring=\"accuracy\")"
   ]
  },
  {
   "cell_type": "code",
   "execution_count": 28,
   "id": "1d8a57d7",
   "metadata": {},
   "outputs": [],
   "source": [
    "#forest.get_params()"
   ]
  },
  {
   "cell_type": "code",
   "execution_count": 27,
   "id": "3d49ad03",
   "metadata": {},
   "outputs": [
    {
     "name": "stdout",
     "output_type": "stream",
     "text": [
      "Naive:\n",
      "Scores: [0.91941392 0.97058824 0.94485294 0.92279412 0.91544118 0.94485294\n",
      " 0.95220588 0.94852941 0.91911765 0.95955882]\n",
      "Mean: 0.9397355095884506\n",
      "Standard deviation: 0.018290331458515947\n",
      "None\n",
      "\n",
      "\n",
      "Forest\n",
      "Scores: [0.93772894 0.94117647 0.94117647 0.94117647 0.94117647 0.94117647\n",
      " 0.94117647 0.9375     0.9375     0.9375    ]\n",
      "Mean: 0.9397287761258349\n",
      "Standard deviation: 0.001774164541686241\n",
      "None\n"
     ]
    }
   ],
   "source": [
    "print(\"Naive:\")\n",
    "print(display_scores(naive_scores))\n",
    "print(\"\\n\")\n",
    "print(\"Forest\")\n",
    "print(display_scores(forest_scores))"
   ]
  },
  {
   "cell_type": "code",
   "execution_count": 29,
   "id": "60101d19",
   "metadata": {},
   "outputs": [],
   "source": [
    "forest = RandomForestClassifier(n_estimators=100,max_features=0.25)\n",
    "\n",
    "forest_preds = cross_val_predict(forest,X,train_y_coex,cv=3)"
   ]
  },
  {
   "cell_type": "markdown",
   "id": "14ee954a",
   "metadata": {},
   "source": [
    "### Confusion matrix\n",
    "\n",
    "The RF model almost never predicts coexistence"
   ]
  },
  {
   "cell_type": "code",
   "execution_count": 30,
   "id": "aedc41b5",
   "metadata": {},
   "outputs": [
    {
     "data": {
      "text/plain": [
       "array([[2556,    1],\n",
       "       [ 164,    0]])"
      ]
     },
     "execution_count": 30,
     "metadata": {},
     "output_type": "execute_result"
    }
   ],
   "source": [
    "confusion_matrix(train_y_coex,forest_preds)"
   ]
  },
  {
   "cell_type": "markdown",
   "id": "185761fb",
   "metadata": {},
   "source": [
    "### Find optimal hyperparams with grid search"
   ]
  },
  {
   "cell_type": "code",
   "execution_count": 16,
   "id": "0fc6bf4f",
   "metadata": {},
   "outputs": [
    {
     "data": {
      "text/plain": [
       "{'max_features': 0.25, 'n_estimators': 100}"
      ]
     },
     "execution_count": 16,
     "metadata": {},
     "output_type": "execute_result"
    }
   ],
   "source": [
    "#Here we use the GridSearchCV function to find optimal hyperparameters\n",
    "\n",
    "#However, we can also use RandomizedSearchCV where you can specify the\n",
    "#Number of iterations directly and pull from (I guess) a distribution of hyperparameters\n",
    "\n",
    "# from sklearn.model_selection import GridSearchCV\n",
    "\n",
    "# param_grid = [\n",
    "#     {'n_estimators': [35, 100, 500], 'max_features': [0.25, 0.5, 0.8]},\n",
    "#     {'bootstrap': [False], 'n_estimators': [35, 100, 500], 'max_features': [0.25, 0.5, 0.8]},\n",
    "#   ]\n",
    "\n",
    "# forest_grid = RandomForestClassifier()\n",
    "\n",
    "# # train across 5 folds, that's a total of (12+6)*5=90 rounds of training \n",
    "# grid_search = GridSearchCV(forest_grid, param_grid, cv=5,\n",
    "#                            scoring='accuracy',\n",
    "#                            return_train_score=True)\n",
    "# grid_search.fit(X, train_y_coex)\n",
    "# grid_search.best_params_"
   ]
  },
  {
   "cell_type": "markdown",
   "id": "a5eaa626",
   "metadata": {},
   "source": [
    "## See results of the hyperparameter optimization\n",
    "\n",
    "Scores are not very sensitive to these hyperparameters, but best had these params:{'max_features': 0.25, 'n_estimators': 100}"
   ]
  },
  {
   "cell_type": "code",
   "execution_count": 34,
   "id": "f554e580",
   "metadata": {},
   "outputs": [
    {
     "name": "stdout",
     "output_type": "stream",
     "text": [
      "0.9393604964921749 {'max_features': 0.25, 'n_estimators': 35}\n",
      "0.9397281435509983 {'max_features': 0.25, 'n_estimators': 100}\n",
      "0.9397281435509983 {'max_features': 0.25, 'n_estimators': 500}\n",
      "0.9375236103615758 {'max_features': 0.5, 'n_estimators': 35}\n",
      "0.9389928494333514 {'max_features': 0.5, 'n_estimators': 100}\n",
      "0.9393604964921749 {'max_features': 0.5, 'n_estimators': 500}\n",
      "0.9389935240151106 {'max_features': 0.8, 'n_estimators': 35}\n",
      "0.9393604964921749 {'max_features': 0.8, 'n_estimators': 100}\n",
      "0.9386252023745278 {'max_features': 0.8, 'n_estimators': 500}\n",
      "0.9386252023745278 {'bootstrap': False, 'max_features': 0.25, 'n_estimators': 35}\n",
      "0.9393604964921749 {'bootstrap': False, 'max_features': 0.25, 'n_estimators': 100}\n",
      "0.9393604964921749 {'bootstrap': False, 'max_features': 0.25, 'n_estimators': 500}\n",
      "0.9353170534268752 {'bootstrap': False, 'max_features': 0.5, 'n_estimators': 35}\n",
      "0.9338478143550997 {'bootstrap': False, 'max_features': 0.5, 'n_estimators': 100}\n",
      "0.9367869670804101 {'bootstrap': False, 'max_features': 0.5, 'n_estimators': 500}\n",
      "0.9202502698327037 {'bootstrap': False, 'max_features': 0.8, 'n_estimators': 35}\n",
      "0.9231867242309768 {'bootstrap': False, 'max_features': 0.8, 'n_estimators': 100}\n",
      "0.9217174851592013 {'bootstrap': False, 'max_features': 0.8, 'n_estimators': 500}\n"
     ]
    }
   ],
   "source": [
    "# cvres = grid_search.cv_results_\n",
    "# for mean_score, params in zip(cvres[\"mean_test_score\"],cvres[\"params\"]):\n",
    "#     print(mean_score,params)"
   ]
  },
  {
   "cell_type": "markdown",
   "id": "46c70b14",
   "metadata": {},
   "source": [
    "## Look at feature importances"
   ]
  },
  {
   "cell_type": "code",
   "execution_count": 36,
   "id": "3f4772dc",
   "metadata": {},
   "outputs": [
    {
     "data": {
      "text/html": [
       "<div>\n",
       "<style scoped>\n",
       "    .dataframe tbody tr th:only-of-type {\n",
       "        vertical-align: middle;\n",
       "    }\n",
       "\n",
       "    .dataframe tbody tr th {\n",
       "        vertical-align: top;\n",
       "    }\n",
       "\n",
       "    .dataframe thead th {\n",
       "        text-align: right;\n",
       "    }\n",
       "</style>\n",
       "<table border=\"1\" class=\"dataframe\">\n",
       "  <thead>\n",
       "    <tr style=\"text-align: right;\">\n",
       "      <th></th>\n",
       "      <th>param</th>\n",
       "      <th>feature_importance</th>\n",
       "    </tr>\n",
       "  </thead>\n",
       "  <tbody>\n",
       "    <tr>\n",
       "      <th>35</th>\n",
       "      <td>fates_leaf_slatop_4</td>\n",
       "      <td>0.031417</td>\n",
       "    </tr>\n",
       "    <tr>\n",
       "      <th>36</th>\n",
       "      <td>fates_leaf_slatop_5</td>\n",
       "      <td>0.02267</td>\n",
       "    </tr>\n",
       "    <tr>\n",
       "      <th>25</th>\n",
       "      <td>fates_fire_nignitions_0</td>\n",
       "      <td>0.021328</td>\n",
       "    </tr>\n",
       "    <tr>\n",
       "      <th>53</th>\n",
       "      <td>fates_frag_seed_decay_rate_4</td>\n",
       "      <td>0.018179</td>\n",
       "    </tr>\n",
       "    <tr>\n",
       "      <th>3</th>\n",
       "      <td>fates_recruit_seed_alloc_mature_4</td>\n",
       "      <td>0.017352</td>\n",
       "    </tr>\n",
       "    <tr>\n",
       "      <th>42</th>\n",
       "      <td>fates_leaf_vcmax25top_5</td>\n",
       "      <td>0.016985</td>\n",
       "    </tr>\n",
       "    <tr>\n",
       "      <th>73</th>\n",
       "      <td>fates_nonhydro_smpsc_3</td>\n",
       "      <td>0.016274</td>\n",
       "    </tr>\n",
       "    <tr>\n",
       "      <th>77</th>\n",
       "      <td>fates_recruit_inter_patch_disp_frac_0</td>\n",
       "      <td>0.016268</td>\n",
       "    </tr>\n",
       "    <tr>\n",
       "      <th>84</th>\n",
       "      <td>fates_stoich_nitr_4</td>\n",
       "      <td>0.015925</td>\n",
       "    </tr>\n",
       "    <tr>\n",
       "      <th>97</th>\n",
       "      <td>fates_allom_agb1_5</td>\n",
       "      <td>0.015827</td>\n",
       "    </tr>\n",
       "    <tr>\n",
       "      <th>59</th>\n",
       "      <td>fates_recruit_seed_germination_rate_5</td>\n",
       "      <td>0.015457</td>\n",
       "    </tr>\n",
       "    <tr>\n",
       "      <th>12</th>\n",
       "      <td>fates_fire_alpha_SH_4</td>\n",
       "      <td>0.0153</td>\n",
       "    </tr>\n",
       "    <tr>\n",
       "      <th>16</th>\n",
       "      <td>fates_fire_bark_scaler_3</td>\n",
       "      <td>0.014328</td>\n",
       "    </tr>\n",
       "    <tr>\n",
       "      <th>64</th>\n",
       "      <td>fates_turnover_branch_4</td>\n",
       "      <td>0.01416</td>\n",
       "    </tr>\n",
       "    <tr>\n",
       "      <th>80</th>\n",
       "      <td>fates_grperc_4</td>\n",
       "      <td>0.014145</td>\n",
       "    </tr>\n",
       "    <tr>\n",
       "      <th>43</th>\n",
       "      <td>fates_mort_scalar_cstarvation_1</td>\n",
       "      <td>0.014042</td>\n",
       "    </tr>\n",
       "    <tr>\n",
       "      <th>78</th>\n",
       "      <td>fates_frag_maxdecomp_0</td>\n",
       "      <td>0.01346</td>\n",
       "    </tr>\n",
       "    <tr>\n",
       "      <th>45</th>\n",
       "      <td>fates_mort_scalar_cstarvation_3</td>\n",
       "      <td>0.013383</td>\n",
       "    </tr>\n",
       "    <tr>\n",
       "      <th>79</th>\n",
       "      <td>fates_alloc_storage_cushion_5</td>\n",
       "      <td>0.01256</td>\n",
       "    </tr>\n",
       "    <tr>\n",
       "      <th>13</th>\n",
       "      <td>fates_fire_alpha_SH_5</td>\n",
       "      <td>0.012303</td>\n",
       "    </tr>\n",
       "    <tr>\n",
       "      <th>86</th>\n",
       "      <td>fates_mort_ip_size_senescence_4</td>\n",
       "      <td>0.01226</td>\n",
       "    </tr>\n",
       "    <tr>\n",
       "      <th>4</th>\n",
       "      <td>fates_recruit_seed_alloc_mature_5</td>\n",
       "      <td>0.012203</td>\n",
       "    </tr>\n",
       "    <tr>\n",
       "      <th>41</th>\n",
       "      <td>fates_leaf_vcmax25top_4</td>\n",
       "      <td>0.012066</td>\n",
       "    </tr>\n",
       "    <tr>\n",
       "      <th>70</th>\n",
       "      <td>fates_turnover_leaf_5</td>\n",
       "      <td>0.01184</td>\n",
       "    </tr>\n",
       "    <tr>\n",
       "      <th>74</th>\n",
       "      <td>fates_nonhydro_smpsc_4</td>\n",
       "      <td>0.011813</td>\n",
       "    </tr>\n",
       "    <tr>\n",
       "      <th>61</th>\n",
       "      <td>fates_turnover_branch_1</td>\n",
       "      <td>0.011773</td>\n",
       "    </tr>\n",
       "    <tr>\n",
       "      <th>0</th>\n",
       "      <td>fates_recruit_seed_alloc_mature_1</td>\n",
       "      <td>0.011758</td>\n",
       "    </tr>\n",
       "    <tr>\n",
       "      <th>5</th>\n",
       "      <td>fates_recruit_seed_dbh_repro_threshold_1</td>\n",
       "      <td>0.011518</td>\n",
       "    </tr>\n",
       "    <tr>\n",
       "      <th>87</th>\n",
       "      <td>fates_mort_ip_age_senescence_4</td>\n",
       "      <td>0.011336</td>\n",
       "    </tr>\n",
       "    <tr>\n",
       "      <th>54</th>\n",
       "      <td>fates_frag_seed_decay_rate_5</td>\n",
       "      <td>0.011262</td>\n",
       "    </tr>\n",
       "    <tr>\n",
       "      <th>23</th>\n",
       "      <td>fates_fire_crown_kill_5</td>\n",
       "      <td>0.010939</td>\n",
       "    </tr>\n",
       "    <tr>\n",
       "      <th>92</th>\n",
       "      <td>fates_allom_d2ca_coefficient_max_5</td>\n",
       "      <td>0.01087</td>\n",
       "    </tr>\n",
       "    <tr>\n",
       "      <th>18</th>\n",
       "      <td>fates_fire_bark_scaler_5</td>\n",
       "      <td>0.010619</td>\n",
       "    </tr>\n",
       "    <tr>\n",
       "      <th>85</th>\n",
       "      <td>fates_stoich_nitr_5</td>\n",
       "      <td>0.010587</td>\n",
       "    </tr>\n",
       "    <tr>\n",
       "      <th>60</th>\n",
       "      <td>fates_disturbance_germ_4</td>\n",
       "      <td>0.010513</td>\n",
       "    </tr>\n",
       "    <tr>\n",
       "      <th>71</th>\n",
       "      <td>fates_nonhydro_smpsc_1</td>\n",
       "      <td>0.01042</td>\n",
       "    </tr>\n",
       "    <tr>\n",
       "      <th>82</th>\n",
       "      <td>fates_stoich_nitr_2</td>\n",
       "      <td>0.010383</td>\n",
       "    </tr>\n",
       "    <tr>\n",
       "      <th>58</th>\n",
       "      <td>fates_recruit_seed_germination_rate_4</td>\n",
       "      <td>0.010352</td>\n",
       "    </tr>\n",
       "    <tr>\n",
       "      <th>72</th>\n",
       "      <td>fates_nonhydro_smpsc_2</td>\n",
       "      <td>0.010311</td>\n",
       "    </tr>\n",
       "    <tr>\n",
       "      <th>14</th>\n",
       "      <td>fates_fire_bark_scaler_1</td>\n",
       "      <td>0.010241</td>\n",
       "    </tr>\n",
       "    <tr>\n",
       "      <th>91</th>\n",
       "      <td>fates_allom_d2ca_coefficient_max_4</td>\n",
       "      <td>0.010213</td>\n",
       "    </tr>\n",
       "    <tr>\n",
       "      <th>6</th>\n",
       "      <td>fates_recruit_seed_dbh_repro_threshold_2</td>\n",
       "      <td>0.010002</td>\n",
       "    </tr>\n",
       "    <tr>\n",
       "      <th>40</th>\n",
       "      <td>fates_leaf_vcmax25top_3</td>\n",
       "      <td>0.009852</td>\n",
       "    </tr>\n",
       "    <tr>\n",
       "      <th>39</th>\n",
       "      <td>fates_leaf_vcmax25top_2</td>\n",
       "      <td>0.009777</td>\n",
       "    </tr>\n",
       "    <tr>\n",
       "      <th>89</th>\n",
       "      <td>fates_allom_d2ca_coefficient_max_2</td>\n",
       "      <td>0.009668</td>\n",
       "    </tr>\n",
       "    <tr>\n",
       "      <th>38</th>\n",
       "      <td>fates_leaf_vcmax25top_1</td>\n",
       "      <td>0.009631</td>\n",
       "    </tr>\n",
       "    <tr>\n",
       "      <th>30</th>\n",
       "      <td>fates_mort_bmort_4</td>\n",
       "      <td>0.009486</td>\n",
       "    </tr>\n",
       "    <tr>\n",
       "      <th>8</th>\n",
       "      <td>fates_recruit_seed_dbh_repro_threshold_5</td>\n",
       "      <td>0.009458</td>\n",
       "    </tr>\n",
       "    <tr>\n",
       "      <th>21</th>\n",
       "      <td>fates_fire_crown_kill_3</td>\n",
       "      <td>0.009444</td>\n",
       "    </tr>\n",
       "    <tr>\n",
       "      <th>93</th>\n",
       "      <td>fates_allom_d2ca_coefficient_min_0</td>\n",
       "      <td>0.009339</td>\n",
       "    </tr>\n",
       "    <tr>\n",
       "      <th>22</th>\n",
       "      <td>fates_fire_crown_kill_4</td>\n",
       "      <td>0.009332</td>\n",
       "    </tr>\n",
       "    <tr>\n",
       "      <th>31</th>\n",
       "      <td>fates_mort_bmort_5</td>\n",
       "      <td>0.009327</td>\n",
       "    </tr>\n",
       "    <tr>\n",
       "      <th>88</th>\n",
       "      <td>fates_allom_d2ca_coefficient_max_1</td>\n",
       "      <td>0.009311</td>\n",
       "    </tr>\n",
       "    <tr>\n",
       "      <th>44</th>\n",
       "      <td>fates_mort_scalar_cstarvation_2</td>\n",
       "      <td>0.009244</td>\n",
       "    </tr>\n",
       "    <tr>\n",
       "      <th>7</th>\n",
       "      <td>fates_recruit_seed_dbh_repro_threshold_3</td>\n",
       "      <td>0.00924</td>\n",
       "    </tr>\n",
       "    <tr>\n",
       "      <th>2</th>\n",
       "      <td>fates_recruit_seed_alloc_mature_3</td>\n",
       "      <td>0.00918</td>\n",
       "    </tr>\n",
       "    <tr>\n",
       "      <th>19</th>\n",
       "      <td>fates_fire_crown_kill_1</td>\n",
       "      <td>0.009012</td>\n",
       "    </tr>\n",
       "    <tr>\n",
       "      <th>49</th>\n",
       "      <td>fates_fire_frac_resprout_5</td>\n",
       "      <td>0.008919</td>\n",
       "    </tr>\n",
       "    <tr>\n",
       "      <th>15</th>\n",
       "      <td>fates_fire_bark_scaler_2</td>\n",
       "      <td>0.008737</td>\n",
       "    </tr>\n",
       "    <tr>\n",
       "      <th>10</th>\n",
       "      <td>fates_fire_alpha_SH_2</td>\n",
       "      <td>0.008693</td>\n",
       "    </tr>\n",
       "    <tr>\n",
       "      <th>46</th>\n",
       "      <td>fates_mort_scalar_cstarvation_4</td>\n",
       "      <td>0.008598</td>\n",
       "    </tr>\n",
       "    <tr>\n",
       "      <th>1</th>\n",
       "      <td>fates_recruit_seed_alloc_mature_2</td>\n",
       "      <td>0.008579</td>\n",
       "    </tr>\n",
       "    <tr>\n",
       "      <th>37</th>\n",
       "      <td>fates_leaf_slamax_0</td>\n",
       "      <td>0.008301</td>\n",
       "    </tr>\n",
       "    <tr>\n",
       "      <th>20</th>\n",
       "      <td>fates_fire_crown_kill_2</td>\n",
       "      <td>0.008273</td>\n",
       "    </tr>\n",
       "    <tr>\n",
       "      <th>90</th>\n",
       "      <td>fates_allom_d2ca_coefficient_max_3</td>\n",
       "      <td>0.008205</td>\n",
       "    </tr>\n",
       "    <tr>\n",
       "      <th>24</th>\n",
       "      <td>fates_fire_drying_ratio_0</td>\n",
       "      <td>0.008125</td>\n",
       "    </tr>\n",
       "    <tr>\n",
       "      <th>68</th>\n",
       "      <td>fates_turnover_leaf_3</td>\n",
       "      <td>0.008037</td>\n",
       "    </tr>\n",
       "    <tr>\n",
       "      <th>76</th>\n",
       "      <td>fates_mort_hf_sm_threshold_0</td>\n",
       "      <td>0.007962</td>\n",
       "    </tr>\n",
       "    <tr>\n",
       "      <th>9</th>\n",
       "      <td>fates_fire_alpha_SH_1</td>\n",
       "      <td>0.007686</td>\n",
       "    </tr>\n",
       "    <tr>\n",
       "      <th>56</th>\n",
       "      <td>fates_recruit_seed_germination_rate_2</td>\n",
       "      <td>0.007625</td>\n",
       "    </tr>\n",
       "    <tr>\n",
       "      <th>48</th>\n",
       "      <td>fates_fire_frac_resprout_4</td>\n",
       "      <td>0.007549</td>\n",
       "    </tr>\n",
       "    <tr>\n",
       "      <th>66</th>\n",
       "      <td>fates_turnover_leaf_1</td>\n",
       "      <td>0.007497</td>\n",
       "    </tr>\n",
       "    <tr>\n",
       "      <th>11</th>\n",
       "      <td>fates_fire_alpha_SH_3</td>\n",
       "      <td>0.007489</td>\n",
       "    </tr>\n",
       "    <tr>\n",
       "      <th>34</th>\n",
       "      <td>fates_leaf_slatop_3</td>\n",
       "      <td>0.007255</td>\n",
       "    </tr>\n",
       "    <tr>\n",
       "      <th>75</th>\n",
       "      <td>fates_nonhydro_smpsc_5</td>\n",
       "      <td>0.007252</td>\n",
       "    </tr>\n",
       "    <tr>\n",
       "      <th>55</th>\n",
       "      <td>fates_recruit_seed_germination_rate_1</td>\n",
       "      <td>0.007056</td>\n",
       "    </tr>\n",
       "    <tr>\n",
       "      <th>81</th>\n",
       "      <td>fates_stoich_nitr_1</td>\n",
       "      <td>0.007043</td>\n",
       "    </tr>\n",
       "    <tr>\n",
       "      <th>32</th>\n",
       "      <td>fates_leaf_slatop_1</td>\n",
       "      <td>0.006926</td>\n",
       "    </tr>\n",
       "    <tr>\n",
       "      <th>94</th>\n",
       "      <td>fates_allom_agb1_1</td>\n",
       "      <td>0.006859</td>\n",
       "    </tr>\n",
       "    <tr>\n",
       "      <th>69</th>\n",
       "      <td>fates_turnover_leaf_4</td>\n",
       "      <td>0.006701</td>\n",
       "    </tr>\n",
       "    <tr>\n",
       "      <th>51</th>\n",
       "      <td>fates_frag_seed_decay_rate_2</td>\n",
       "      <td>0.006689</td>\n",
       "    </tr>\n",
       "    <tr>\n",
       "      <th>17</th>\n",
       "      <td>fates_fire_bark_scaler_4</td>\n",
       "      <td>0.006641</td>\n",
       "    </tr>\n",
       "    <tr>\n",
       "      <th>50</th>\n",
       "      <td>fates_frag_seed_decay_rate_1</td>\n",
       "      <td>0.006622</td>\n",
       "    </tr>\n",
       "    <tr>\n",
       "      <th>47</th>\n",
       "      <td>fates_mort_scalar_cstarvation_5</td>\n",
       "      <td>0.006618</td>\n",
       "    </tr>\n",
       "    <tr>\n",
       "      <th>29</th>\n",
       "      <td>fates_mort_bmort_3</td>\n",
       "      <td>0.006478</td>\n",
       "    </tr>\n",
       "    <tr>\n",
       "      <th>62</th>\n",
       "      <td>fates_turnover_branch_2</td>\n",
       "      <td>0.006473</td>\n",
       "    </tr>\n",
       "    <tr>\n",
       "      <th>28</th>\n",
       "      <td>fates_mort_bmort_2</td>\n",
       "      <td>0.006111</td>\n",
       "    </tr>\n",
       "    <tr>\n",
       "      <th>57</th>\n",
       "      <td>fates_recruit_seed_germination_rate_3</td>\n",
       "      <td>0.005995</td>\n",
       "    </tr>\n",
       "    <tr>\n",
       "      <th>33</th>\n",
       "      <td>fates_leaf_slatop_2</td>\n",
       "      <td>0.005946</td>\n",
       "    </tr>\n",
       "    <tr>\n",
       "      <th>83</th>\n",
       "      <td>fates_stoich_nitr_3</td>\n",
       "      <td>0.005923</td>\n",
       "    </tr>\n",
       "    <tr>\n",
       "      <th>67</th>\n",
       "      <td>fates_turnover_leaf_2</td>\n",
       "      <td>0.005834</td>\n",
       "    </tr>\n",
       "    <tr>\n",
       "      <th>27</th>\n",
       "      <td>fates_mort_bmort_1</td>\n",
       "      <td>0.005664</td>\n",
       "    </tr>\n",
       "    <tr>\n",
       "      <th>65</th>\n",
       "      <td>fates_turnover_branch_5</td>\n",
       "      <td>0.005442</td>\n",
       "    </tr>\n",
       "    <tr>\n",
       "      <th>63</th>\n",
       "      <td>fates_turnover_branch_3</td>\n",
       "      <td>0.005317</td>\n",
       "    </tr>\n",
       "    <tr>\n",
       "      <th>95</th>\n",
       "      <td>fates_allom_agb1_2</td>\n",
       "      <td>0.005199</td>\n",
       "    </tr>\n",
       "    <tr>\n",
       "      <th>52</th>\n",
       "      <td>fates_frag_seed_decay_rate_3</td>\n",
       "      <td>0.005051</td>\n",
       "    </tr>\n",
       "    <tr>\n",
       "      <th>26</th>\n",
       "      <td>fates_fire_threshold_0</td>\n",
       "      <td>0.004796</td>\n",
       "    </tr>\n",
       "    <tr>\n",
       "      <th>96</th>\n",
       "      <td>fates_allom_agb1_3</td>\n",
       "      <td>0.003894</td>\n",
       "    </tr>\n",
       "  </tbody>\n",
       "</table>\n",
       "</div>"
      ],
      "text/plain": [
       "                                       param feature_importance\n",
       "35                       fates_leaf_slatop_4           0.031417\n",
       "36                       fates_leaf_slatop_5            0.02267\n",
       "25                   fates_fire_nignitions_0           0.021328\n",
       "53              fates_frag_seed_decay_rate_4           0.018179\n",
       "3          fates_recruit_seed_alloc_mature_4           0.017352\n",
       "42                   fates_leaf_vcmax25top_5           0.016985\n",
       "73                    fates_nonhydro_smpsc_3           0.016274\n",
       "77     fates_recruit_inter_patch_disp_frac_0           0.016268\n",
       "84                       fates_stoich_nitr_4           0.015925\n",
       "97                        fates_allom_agb1_5           0.015827\n",
       "59     fates_recruit_seed_germination_rate_5           0.015457\n",
       "12                     fates_fire_alpha_SH_4             0.0153\n",
       "16                  fates_fire_bark_scaler_3           0.014328\n",
       "64                   fates_turnover_branch_4            0.01416\n",
       "80                            fates_grperc_4           0.014145\n",
       "43           fates_mort_scalar_cstarvation_1           0.014042\n",
       "78                    fates_frag_maxdecomp_0            0.01346\n",
       "45           fates_mort_scalar_cstarvation_3           0.013383\n",
       "79             fates_alloc_storage_cushion_5            0.01256\n",
       "13                     fates_fire_alpha_SH_5           0.012303\n",
       "86           fates_mort_ip_size_senescence_4            0.01226\n",
       "4          fates_recruit_seed_alloc_mature_5           0.012203\n",
       "41                   fates_leaf_vcmax25top_4           0.012066\n",
       "70                     fates_turnover_leaf_5            0.01184\n",
       "74                    fates_nonhydro_smpsc_4           0.011813\n",
       "61                   fates_turnover_branch_1           0.011773\n",
       "0          fates_recruit_seed_alloc_mature_1           0.011758\n",
       "5   fates_recruit_seed_dbh_repro_threshold_1           0.011518\n",
       "87            fates_mort_ip_age_senescence_4           0.011336\n",
       "54              fates_frag_seed_decay_rate_5           0.011262\n",
       "23                   fates_fire_crown_kill_5           0.010939\n",
       "92        fates_allom_d2ca_coefficient_max_5            0.01087\n",
       "18                  fates_fire_bark_scaler_5           0.010619\n",
       "85                       fates_stoich_nitr_5           0.010587\n",
       "60                  fates_disturbance_germ_4           0.010513\n",
       "71                    fates_nonhydro_smpsc_1            0.01042\n",
       "82                       fates_stoich_nitr_2           0.010383\n",
       "58     fates_recruit_seed_germination_rate_4           0.010352\n",
       "72                    fates_nonhydro_smpsc_2           0.010311\n",
       "14                  fates_fire_bark_scaler_1           0.010241\n",
       "91        fates_allom_d2ca_coefficient_max_4           0.010213\n",
       "6   fates_recruit_seed_dbh_repro_threshold_2           0.010002\n",
       "40                   fates_leaf_vcmax25top_3           0.009852\n",
       "39                   fates_leaf_vcmax25top_2           0.009777\n",
       "89        fates_allom_d2ca_coefficient_max_2           0.009668\n",
       "38                   fates_leaf_vcmax25top_1           0.009631\n",
       "30                        fates_mort_bmort_4           0.009486\n",
       "8   fates_recruit_seed_dbh_repro_threshold_5           0.009458\n",
       "21                   fates_fire_crown_kill_3           0.009444\n",
       "93        fates_allom_d2ca_coefficient_min_0           0.009339\n",
       "22                   fates_fire_crown_kill_4           0.009332\n",
       "31                        fates_mort_bmort_5           0.009327\n",
       "88        fates_allom_d2ca_coefficient_max_1           0.009311\n",
       "44           fates_mort_scalar_cstarvation_2           0.009244\n",
       "7   fates_recruit_seed_dbh_repro_threshold_3            0.00924\n",
       "2          fates_recruit_seed_alloc_mature_3            0.00918\n",
       "19                   fates_fire_crown_kill_1           0.009012\n",
       "49                fates_fire_frac_resprout_5           0.008919\n",
       "15                  fates_fire_bark_scaler_2           0.008737\n",
       "10                     fates_fire_alpha_SH_2           0.008693\n",
       "46           fates_mort_scalar_cstarvation_4           0.008598\n",
       "1          fates_recruit_seed_alloc_mature_2           0.008579\n",
       "37                       fates_leaf_slamax_0           0.008301\n",
       "20                   fates_fire_crown_kill_2           0.008273\n",
       "90        fates_allom_d2ca_coefficient_max_3           0.008205\n",
       "24                 fates_fire_drying_ratio_0           0.008125\n",
       "68                     fates_turnover_leaf_3           0.008037\n",
       "76              fates_mort_hf_sm_threshold_0           0.007962\n",
       "9                      fates_fire_alpha_SH_1           0.007686\n",
       "56     fates_recruit_seed_germination_rate_2           0.007625\n",
       "48                fates_fire_frac_resprout_4           0.007549\n",
       "66                     fates_turnover_leaf_1           0.007497\n",
       "11                     fates_fire_alpha_SH_3           0.007489\n",
       "34                       fates_leaf_slatop_3           0.007255\n",
       "75                    fates_nonhydro_smpsc_5           0.007252\n",
       "55     fates_recruit_seed_germination_rate_1           0.007056\n",
       "81                       fates_stoich_nitr_1           0.007043\n",
       "32                       fates_leaf_slatop_1           0.006926\n",
       "94                        fates_allom_agb1_1           0.006859\n",
       "69                     fates_turnover_leaf_4           0.006701\n",
       "51              fates_frag_seed_decay_rate_2           0.006689\n",
       "17                  fates_fire_bark_scaler_4           0.006641\n",
       "50              fates_frag_seed_decay_rate_1           0.006622\n",
       "47           fates_mort_scalar_cstarvation_5           0.006618\n",
       "29                        fates_mort_bmort_3           0.006478\n",
       "62                   fates_turnover_branch_2           0.006473\n",
       "28                        fates_mort_bmort_2           0.006111\n",
       "57     fates_recruit_seed_germination_rate_3           0.005995\n",
       "33                       fates_leaf_slatop_2           0.005946\n",
       "83                       fates_stoich_nitr_3           0.005923\n",
       "67                     fates_turnover_leaf_2           0.005834\n",
       "27                        fates_mort_bmort_1           0.005664\n",
       "65                   fates_turnover_branch_5           0.005442\n",
       "63                   fates_turnover_branch_3           0.005317\n",
       "95                        fates_allom_agb1_2           0.005199\n",
       "52              fates_frag_seed_decay_rate_3           0.005051\n",
       "26                    fates_fire_threshold_0           0.004796\n",
       "96                        fates_allom_agb1_3           0.003894"
      ]
     },
     "execution_count": 36,
     "metadata": {},
     "output_type": "execute_result"
    }
   ],
   "source": [
    "# feature_importances = grid_search.best_estimator_.feature_importances_\n",
    "# fi = pd.DataFrame(np.column_stack([X_cols,feature_importances]),columns=[\"param\",\"feature_importance\"])\n",
    "# fi.sort_values(\"feature_importance\",ascending=False)"
   ]
  },
  {
   "cell_type": "markdown",
   "id": "70db2f08",
   "metadata": {},
   "source": [
    "### Look at precision vs. recall tradeoff"
   ]
  },
  {
   "cell_type": "code",
   "execution_count": null,
   "id": "9de14f19",
   "metadata": {},
   "outputs": [],
   "source": [
    "pick up here"
   ]
  },
  {
   "cell_type": "markdown",
   "id": "27a50f30",
   "metadata": {},
   "source": [
    "## Support Vector Machine"
   ]
  },
  {
   "cell_type": "code",
   "execution_count": 11,
   "id": "5d805772",
   "metadata": {},
   "outputs": [
    {
     "name": "stdout",
     "output_type": "stream",
     "text": [
      "SVM: [0.93772894 0.94117647 0.94117647 0.94117647 0.94117647 0.94117647\n",
      " 0.94117647 0.9375     0.9375     0.9375    ]\n"
     ]
    }
   ],
   "source": [
    "from sklearn.svm import SVC\n",
    "\n",
    "svm_clf = SVC(gamma=\"auto\", random_state=42)\n",
    "svm_scores = cross_val_score(svm_clf,X,train_y_coex,cv=10,scoring=\"accuracy\")\n",
    "print(\"Naive:\",naive_scores)\n",
    "print(\"\\n\")\n",
    "print(\"SVM:\",svm_scores)"
   ]
  },
  {
   "cell_type": "markdown",
   "id": "08c51c2c",
   "metadata": {},
   "source": [
    "### Find optimal hyper parameters for support vector machine"
   ]
  },
  {
   "cell_type": "markdown",
   "id": "513b4150",
   "metadata": {},
   "source": [
    "## Stochastic Gradient Descent Classifier\n",
    "\n",
    "This is crashing the kernel"
   ]
  },
  {
   "cell_type": "code",
   "execution_count": 10,
   "id": "1e972b18",
   "metadata": {},
   "outputs": [],
   "source": [
    "# from sklearn.linear_model import SGDClassifier\n",
    "\n",
    "# sgd_clf = SGDClassifier(random_state=42)\n",
    "\n",
    "# sgd_scores = cross_val_score(sgd_clf,X,train_y_coex,cv=10,scoring=\"accuracy\")\n",
    "\n",
    "# print(\"Naive:\",naive_scores)\n",
    "# print(\"\\n\")\n",
    "# print(\"SGD:\",sgd_scores_scores)"
   ]
  },
  {
   "cell_type": "markdown",
   "id": "5542201e",
   "metadata": {},
   "source": [
    "## Make confusion matrices of optimized naive, random forest, and svm"
   ]
  },
  {
   "cell_type": "code",
   "execution_count": null,
   "id": "dec36f24",
   "metadata": {},
   "outputs": [],
   "source": [
    "# Pick up here with looking at precision / recall tradeoff for optimized RF algorithm.\n",
    "# Then choose what the proba threshold value should be"
   ]
  },
  {
   "cell_type": "markdown",
   "id": "25e387c6",
   "metadata": {},
   "source": [
    "## Analyze precision recall tradeoff curves for random forest and svm\n",
    "\n",
    "Find a score that makes sense for this case. Recall can be bad."
   ]
  },
  {
   "cell_type": "markdown",
   "id": "43225984",
   "metadata": {},
   "source": [
    "## Build a regressor model to predict shannon's equitability index\n",
    "\n",
    "Perhaps by combining the predictions of these models we can get a better sense of which param sets should be successful."
   ]
  },
  {
   "cell_type": "code",
   "execution_count": null,
   "id": "4abbf003",
   "metadata": {},
   "outputs": [],
   "source": [
    "from sklearn.model_selection import cross_val_score\n",
    "\n",
    "scores = cross_val_score(tree_reg, housing_prepared, housing_labels,\n",
    "                         scoring=\"neg_mean_squared_error\", cv=10)\n",
    "tree_rmse_scores = np.sqrt(-scores)"
   ]
  },
  {
   "cell_type": "code",
   "execution_count": 21,
   "id": "ec228c3a",
   "metadata": {},
   "outputs": [
    {
     "name": "stdout",
     "output_type": "stream",
     "text": [
      "Forest: [-0.04440195 -0.03881893 -0.04175252 -0.04526501 -0.04008802 -0.03440066\n",
      " -0.03874263 -0.0387484  -0.04124436 -0.033361  ]\n"
     ]
    }
   ],
   "source": [
    "from sklearn.ensemble import RandomForestRegressor\n",
    "\n",
    "forest_reg = RandomForestRegressor()\n",
    "\n",
    "forest_reg_scores = cross_val_score(forest_reg,X,train_y_shannonE,cv=10,scoring=\"neg_mean_squared_error\")\n",
    "print(\"Forest:\",forest_reg_scores)"
   ]
  },
  {
   "cell_type": "code",
   "execution_count": 26,
   "id": "3398a29d",
   "metadata": {},
   "outputs": [
    {
     "name": "stdout",
     "output_type": "stream",
     "text": [
      "[0.21071769 0.19702521 0.20433433 0.21275575 0.20021992 0.18547415\n",
      " 0.19683148 0.19684613 0.20308708 0.18264994]\n",
      "Mean RMSE 0.1989941671712163\n"
     ]
    }
   ],
   "source": [
    "tree_reg_rmse_scores = np.sqrt(-forest_reg_scores)\n",
    "print(tree_reg_rmse_scores)\n",
    "print(\"Mean RMSE:\",tree_reg_rmse_scores.mean())"
   ]
  },
  {
   "cell_type": "code",
   "execution_count": 6,
   "id": "6fbe41a3",
   "metadata": {},
   "outputs": [
    {
     "data": {
      "text/plain": [
       "<matplotlib.collections.PathCollection at 0x7fd2487088b0>"
      ]
     },
     "execution_count": 6,
     "metadata": {},
     "output_type": "execute_result"
    },
    {
     "data": {
      "image/png": "[encoded data removed]",
      "text/plain": [
       "<Figure size 640x480 with 1 Axes>"
      ]
     },
     "metadata": {},
     "output_type": "display_data"
    }
   ],
   "source": [
    "plt.scatter(train_set['FailedPFTs'],train_set['ShannonE'])"
   ]
  },
  {
   "cell_type": "markdown",
   "id": "4e44e9b1",
   "metadata": {},
   "source": [
    "## Build random forest model to predict the number of failed pfts (instead of just binary)\n",
    "\n",
    "It should be better at doing this because it will have more data. It might still confuse cases where 1 or 0 pfts fail, but it would still be useful to rule out cases where >1 pfts fail and it might be able to do a good job of this."
   ]
  },
  {
   "cell_type": "code",
   "execution_count": 14,
   "id": "29cd7072",
   "metadata": {},
   "outputs": [
    {
     "name": "stdout",
     "output_type": "stream",
     "text": [
      "Forest: [0.43589744 0.44852941 0.51470588 0.46691176 0.45220588 0.47426471\n",
      " 0.48897059 0.41911765 0.48529412 0.48161765]\n"
     ]
    }
   ],
   "source": [
    "from sklearn.ensemble import RandomForestClassifier\n",
    "\n",
    "forest_failedPFTs = RandomForestClassifier()\n",
    "\n",
    "forest_failedPFTs_scores = cross_val_score(forest_failedPFTs,X,train_y_failedPFTs,cv=10,scoring=\"accuracy\")\n",
    "\n",
    "print(\"Forest:\",forest_failedPFTs_scores)"
   ]
  },
  {
   "cell_type": "code",
   "execution_count": 15,
   "id": "35a6d6e2",
   "metadata": {},
   "outputs": [
    {
     "data": {
      "text/plain": [
       "array([[  0,  72,  66,   5,  21],\n",
       "       [  0, 261, 266,  15,  95],\n",
       "       [  0, 181, 381,  21, 128],\n",
       "       [  0,  69, 176,  27, 225],\n",
       "       [  0,  56,  68,  15, 573]])"
      ]
     },
     "execution_count": 15,
     "metadata": {},
     "output_type": "execute_result"
    }
   ],
   "source": [
    "\n",
    "\n",
    "y_pred_failedPFTs = cross_val_predict(forest_failedPFTs,X,train_y_failedPFTs)\n",
    "confusion_matrix(train_y_failedPFTs,y_pred_failedPFTs)"
   ]
  },
  {
   "cell_type": "markdown",
   "id": "8ce7d819",
   "metadata": {},
   "source": [
    "## Build deep neural nets"
   ]
  },
  {
   "cell_type": "code",
   "execution_count": 16,
   "id": "e8521cb0",
   "metadata": {},
   "outputs": [
    {
     "data": {
      "text/plain": [
       "164"
      ]
     },
     "execution_count": 16,
     "metadata": {},
     "output_type": "execute_result"
    }
   ],
   "source": [
    "72+66+5+21"
   ]
  },
  {
   "cell_type": "code",
   "execution_count": 17,
   "id": "e6ddb33e",
   "metadata": {},
   "outputs": [
    {
     "data": {
      "text/plain": [
       "164"
      ]
     },
     "execution_count": 17,
     "metadata": {},
     "output_type": "execute_result"
    }
   ],
   "source": [
    "sum(train_y_coex)"
   ]
  },
  {
   "cell_type": "code",
   "execution_count": null,
   "id": "f73fe9c3",
   "metadata": {},
   "outputs": [],
   "source": []
  }
 ],
 "metadata": {
  "kernelspec": {
   "display_name": "Python [conda env:la-veg]",
   "language": "python",
   "name": "conda-env-la-veg-py"
  },
  "language_info": {
   "codemirror_mode": {
    "name": "ipython",
    "version": 3
   },
   "file_extension": ".py",
   "mimetype": "text/x-python",
   "name": "python",
   "nbconvert_exporter": "python",
   "pygments_lexer": "ipython3",
   "version": "3.10.12"
  },
  "toc": {
   "base_numbering": 1,
   "nav_menu": {},
   "number_sections": true,
   "sideBar": true,
   "skip_h1_title": true,
   "title_cell": "Table of Contents",
   "title_sidebar": "Contents",
   "toc_cell": false,
   "toc_position": {
    "height": "calc(100% - 180px)",
    "left": "10px",
    "top": "150px",
    "width": "235px"
   },
   "toc_section_display": true,
   "toc_window_display": true
  }
 },
 "nbformat": 4,
 "nbformat_minor": 5
}
