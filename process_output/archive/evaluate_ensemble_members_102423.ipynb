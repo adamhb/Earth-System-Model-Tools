{
 "cells": [
  {
   "cell_type": "code",
   "execution_count": 1,
   "id": "edf90fe7",
   "metadata": {},
   "outputs": [],
   "source": [
    "import pandas as pd\n",
    "import numpy as np\n",
    "import os\n",
    "import esm_tools\n",
    "pd.set_option('display.max_rows', 500) \n",
    "import shutil"
   ]
  },
  {
   "cell_type": "markdown",
   "id": "d9adac0a",
   "metadata": {},
   "source": [
    "## Load data"
   ]
  },
  {
   "cell_type": "code",
   "execution_count": 2,
   "id": "b9c11bca",
   "metadata": {},
   "outputs": [],
   "source": [
    "path_to_ensemble_data = '/home/adam/cloud/gdrive/postdoc/simulation_output/equilbrium_108_members_10_17_23/with_fire_metrics_promising_output_CZ2_equilibrium_101723.csv'\n",
    "df = pd.read_csv(path_to_ensemble_data)"
   ]
  },
  {
   "cell_type": "code",
   "execution_count": 3,
   "id": "d22f42ca",
   "metadata": {},
   "outputs": [
    {
     "data": {
      "text/plain": [
       "['Unnamed: 0',\n",
       " 'BA',\n",
       " 'AGB',\n",
       " 'TreeStemD',\n",
       " 'ResproutD_oak',\n",
       " 'ResproutD_shrub',\n",
       " 'ShannonE',\n",
       " 'NPP',\n",
       " 'FailedPFTs',\n",
       " 'Pct_shrub_cover_canopy',\n",
       " 'Pct_shrub_cover',\n",
       " 'Combustible_fuel',\n",
       " 'Burned_area',\n",
       " 'Pct_high_severity_1700',\n",
       " 'Pct_high_severity_3500']"
      ]
     },
     "execution_count": 3,
     "metadata": {},
     "output_type": "execute_result"
    }
   ],
   "source": [
    "list(df.columns)[:15]"
   ]
  },
  {
   "cell_type": "markdown",
   "id": "51b8b62c",
   "metadata": {},
   "source": [
    "## Define ecological criteria for pre-colonial dry MCF\n",
    "\n",
    "Earch criterion has multiple members that satisfy it, but no one member satisfies all criteria."
   ]
  },
  {
   "cell_type": "code",
   "execution_count": 4,
   "id": "b639b8f7",
   "metadata": {},
   "outputs": [
    {
     "name": "stdout",
     "output_type": "stream",
     "text": [
      "BA dry: 2\n",
      "1700 kW m-1:  2\n",
      "3500 kW m-1:  3\n",
      "Shrub cover: 3\n",
      "Pine fraction 5\n",
      "All metrics met: 0\n"
     ]
    }
   ],
   "source": [
    "# Burned area\n",
    "ba_dry = (df['Burned_area'] > 0.0294) & (df['Pct_high_severity_1700'] < 0.0909)\n",
    "print(\"BA dry:\",sum(ba_dry))\n",
    "\n",
    "# Percent high severity\n",
    "phs_dry = (df['Pct_high_severity_1700'] > 1) & (df['Pct_high_severity_1700'] < 6)\n",
    "print(\"1700 kW m-1: \",sum(phs_dry))\n",
    "phs_dry = (df['Pct_high_severity_3500'] > 1) & (df['Pct_high_severity_3500'] < 6)\n",
    "print(\"3500 kW m-1: \",sum(phs_dry))\n",
    "\n",
    "# Shrub cover\n",
    "shrub_cov = (df['Pct_shrub_cover'] > 0.14) & (df['Pct_shrub_cover'] < 0.32)\n",
    "print(\"Shrub cover:\", sum(shrub_cov))\n",
    "\n",
    "# Pine significant\n",
    "df[\"pine_frac\"] = df[\"BA_pine\"] / df[\"BA\"]\n",
    "\n",
    "pine_sig = df['pine_frac'] > 0.10\n",
    "print('Pine fraction',sum(pine_sig))\n",
    "\n",
    "#All metrics\n",
    "all_metrics = len(df.loc[ba_dry & phs_dry & shrub_cov & pine_sig])\n",
    "print(\"All metrics met:\",all_metrics)"
   ]
  },
  {
   "cell_type": "code",
   "execution_count": 5,
   "id": "64e30eed",
   "metadata": {},
   "outputs": [
    {
     "data": {
      "text/plain": [
       "15"
      ]
     },
     "execution_count": 5,
     "metadata": {},
     "output_type": "execute_result"
    }
   ],
   "source": [
    "len(df)"
   ]
  },
  {
   "cell_type": "code",
   "execution_count": null,
   "id": "74ea0983",
   "metadata": {},
   "outputs": [],
   "source": []
  }
 ],
 "metadata": {
  "kernelspec": {
   "display_name": "env4_work",
   "language": "python",
   "name": "env4_work"
  },
  "language_info": {
   "codemirror_mode": {
    "name": "ipython",
    "version": 3
   },
   "file_extension": ".py",
   "mimetype": "text/x-python",
   "name": "python",
   "nbconvert_exporter": "python",
   "pygments_lexer": "ipython3",
   "version": "3.8.13"
  },
  "toc": {
   "base_numbering": 1,
   "nav_menu": {},
   "number_sections": true,
   "sideBar": true,
   "skip_h1_title": false,
   "title_cell": "Table of Contents",
   "title_sidebar": "Contents",
   "toc_cell": false,
   "toc_position": {},
   "toc_section_display": true,
   "toc_window_display": false
  }
 },
 "nbformat": 4,
 "nbformat_minor": 5
}
