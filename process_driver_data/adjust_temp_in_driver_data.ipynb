{
 "cells": [
  {
   "cell_type": "markdown",
   "id": "fffb59e0-afed-4970-802d-4808f7396819",
   "metadata": {},
   "source": [
    "### Explore driver data"
   ]
  },
  {
   "cell_type": "code",
   "execution_count": null,
   "id": "f9d6283a-da4c-4634-9bdc-6a85467ea2e6",
   "metadata": {},
   "outputs": [],
   "source": [
    "import xarray as xr\n",
    "import os\n",
    "import math\n",
    "import pandas as pd\n",
    "import glob\n",
    "import numpy as np"
   ]
  },
  {
   "cell_type": "code",
   "execution_count": null,
   "id": "a77abbee-e50a-4856-bc7e-419a858f001f",
   "metadata": {
    "tags": []
   },
   "outputs": [],
   "source": [
    "path_to_orignal_data = '/glade/scratch/adamhb/my_subset_data/CZ2_wrf_1950_1980/CLM1PT_data'\n",
    "files = sorted(os.listdir(path_to_orignal_data))\n",
    "output_path = '/glade/scratch/adamhb/my_subset_data/CZ2_wrf_pre_industrial_t_adjust/CLM1PT_data'"
   ]
  },
  {
   "cell_type": "code",
   "execution_count": null,
   "id": "5510051e-eddf-4fef-96c4-2a2da5dfb29c",
   "metadata": {},
   "outputs": [],
   "source": [
    "# Molar mass of water vapour [kg/mol]\n",
    "mm_h2o  = 0.01801505\n",
    "# Molar mass of dry air [kg/mol]\n",
    "mm_dry  = 0.02897\n",
    "# Molar mass ratio\n",
    "eps_mol = mm_h2o / mm_dry\n",
    "# Saturation vapour pressure at 273.15K [Pa]\n",
    "esat_0C = 611.65685464\n",
    "frac_2_pc = 100\n",
    "degC_2_K  = 273.15"
   ]
  },
  {
   "cell_type": "code",
   "execution_count": null,
   "id": "c827bf2a-407e-40ab-a14c-63a816fc4f7d",
   "metadata": {},
   "outputs": [],
   "source": [
    "# Import the original data\n",
    "full_paths = [os.path.join(path_to_orignal_data, fname) for fname in files[:24]]\n",
    "d = xr.open_mfdataset(full_paths)"
   ]
  },
  {
   "cell_type": "code",
   "execution_count": null,
   "id": "3c5653c0-0b59-414d-b2c7-df1b259fbafe",
   "metadata": {},
   "outputs": [],
   "source": [
    "# Temp adjustment\n",
    "def adjust_t(original_t,bias):\n",
    "    return original_t * bias\n",
    "\n",
    "def put_adjusted_temp_in_array(xds,bias):\n",
    "    TBOT_array = list(xds.TBOT.values)\n",
    "    \n",
    "    adjusted_temp_array = np.zeros(len(TBOT_array))\n",
    "    for i in range(len(TBOT_array)):\n",
    "        adjusted_temp_array[i] = adjust_t(TBOT_array[i],bias=bias)\n",
    "\n",
    "    return adjusted_temp_array\n",
    "\n",
    "def add_adjusted_temp_to_data(xds,bias):\n",
    "    times = xds.time.values\n",
    "    n = len(times)\n",
    "    adjusted_t_array = put_adjusted_temp_in_array(xds,bias=bias)\n",
    "    \n",
    "    adjusted_t_xda = xr.DataArray(\n",
    "                 data = np.array(adjusted_t_array).reshape(n,1,1),\n",
    "                 dims = ['time','lat','lon'],\n",
    "                 coords = {\"time\": times},\n",
    "                 attrs = {\n",
    "                     'longname': 'air temperature at 2m',\n",
    "                     'units' : 'K',\n",
    "                     'mode' : 'time-dependent'\n",
    "                     })\n",
    "    \n",
    "    xds['TBOT'] = adjusted_t_xda\n",
    "\n",
    "    \n",
    "# Get RH\n",
    "    \n",
    "def getRH_from_QBOT(QBOT,PSRF,TBOT):\n",
    "    \n",
    "    #print(\"QBOT:\",QBOT)\n",
    "    #print(\"PSRF:\",PSRF)\n",
    "    #print(\"TBOT:\",TBOT)\n",
    "    \n",
    "    \n",
    "    EBOT = PSRF * QBOT / (eps_mol + (1. - eps_mol) * QBOT)\n",
    "    ESAT = esat_0C * math.exp( 17.67 * (TBOT - degC_2_K) / (TBOT - 29.65))\n",
    "    RH   = frac_2_pc * EBOT / ESAT\n",
    "    #print(\"RH\",RH)\n",
    "    \n",
    "    return RH\n",
    "\n",
    "    \n",
    "def put_RH_in_array(xds):\n",
    "    QBOT_array = list(xds.QBOT.values)\n",
    "    PSRF_array = list(xds.PSRF.values)\n",
    "    TBOT_array = list(xds.TBOT.values)\n",
    "    times = xds.time.values\n",
    "\n",
    "    RH_array = np.zeros(len(QBOT_array))\n",
    "    for i in range(len(QBOT_array)):\n",
    "        RH_array[i] = getRH_from_QBOT(QBOT_array[i],PSRF_array[i],TBOT_array[i])\n",
    "\n",
    "    return RH_array\n",
    "  \n",
    "def add_RH_to_data(xds):\n",
    "    times = xds.time.values\n",
    "    n = len(times)\n",
    "    RH_array = put_RH_in_array(xds)\n",
    "\n",
    "    RH_xda = xr.DataArray(\n",
    "                 data = np.array(RH_array).reshape(n,1,1),\n",
    "                 dims = ['time','lat','lon'],\n",
    "                 coords = {\"time\": times},\n",
    "                 attrs = {\n",
    "                     'longname': 'relative humidity',\n",
    "                     'units' : '%',\n",
    "                     'mode' : 'time-dependent'\n",
    "                     })\n",
    "    xds['RH'] = RH_xda\n",
    "    \n",
    "    \n",
    "def adjust_temp_and_RH(file,bias):\n",
    "    print(file)\n",
    "    ds = xr.open_dataset(file, decode_times = False)\n",
    "    \n",
    "    #get time attributes\n",
    "    time_attrs = ds.time.attrs\n",
    "    \n",
    "    #add variables\n",
    "    add_adjusted_temp_to_data(ds,bias=bias)\n",
    "    add_RH_to_data(ds)\n",
    "        \n",
    "    #re-assign time attributes to data\n",
    "    ds.time.attrs = time_attrs\n",
    "    \n",
    "    #write output\n",
    "    new_file_name = output_path + \"/\" + os.path.basename(file)\n",
    "    ds.to_netcdf(new_file_name, format = \"NETCDF3_64BIT\", mode = \"w\")\n",
    "    ds.close()\n",
    "    print(\"Finished\",new_file_name)"
   ]
  },
  {
   "cell_type": "code",
   "execution_count": null,
   "id": "6e2489c5-fbb9-4d12-bc6b-f1bccfa6a731",
   "metadata": {},
   "outputs": [],
   "source": [
    "output_path"
   ]
  },
  {
   "cell_type": "code",
   "execution_count": null,
   "id": "04c0a64b-9006-4107-86fb-ff243f8fec83",
   "metadata": {},
   "outputs": [],
   "source": [
    "files = glob.glob(path_to_orignal_data + \"/*1951*.nc\")\n",
    "print(sorted(files))"
   ]
  },
  {
   "cell_type": "code",
   "execution_count": null,
   "id": "904ca49c-9a46-4ce8-b046-8639d8e39fbb",
   "metadata": {},
   "outputs": [],
   "source": [
    "for f in sorted(files):\n",
    "    adjust_temp_and_RH(f,bias = 0.985)"
   ]
  },
  {
   "cell_type": "markdown",
   "id": "9b180bce-dbd3-42f0-bf6d-e74c551068de",
   "metadata": {},
   "source": [
    "### Check adjusted temp compared to original"
   ]
  },
  {
   "cell_type": "code",
   "execution_count": null,
   "id": "89aa032f-5167-4c3a-baa3-5733e32cb583",
   "metadata": {},
   "outputs": [],
   "source": [
    "files[:24]"
   ]
  },
  {
   "cell_type": "code",
   "execution_count": null,
   "id": "7259765a-cb38-4fb4-a8c7-8cfa0451e4d3",
   "metadata": {},
   "outputs": [],
   "source": [
    "# Import the original data\n",
    "full_paths = [os.path.join(path_to_orignal_data, fname) for fname in files[:24]]\n",
    "print(full_paths)\n",
    "d = xr.open_mfdataset(full_paths)\n",
    "\n",
    "# Import the altered data\n",
    "output_files = sorted(os.listdir(output_path))\n",
    "\n",
    "full_paths = [os.path.join(output_path, fname) for fname in output_files[:24]]\n",
    "print(full_paths)\n",
    "d_adjusted = xr.open_mfdataset(full_paths)"
   ]
  },
  {
   "cell_type": "code",
   "execution_count": null,
   "id": "ffb188fc-c778-4a03-99db-4557bcb670af",
   "metadata": {},
   "outputs": [],
   "source": [
    "d.TBOT.sel(time = slice(\"1951-01-01\",\"1951-02-02\")).plot()\n",
    "d_adjusted.TBOT.sel(time = slice(\"1951-01-01\",\"1951-02-02\")).plot()"
   ]
  },
  {
   "cell_type": "code",
   "execution_count": null,
   "id": "7576cab6-efa9-4b20-894e-967d408df7c3",
   "metadata": {},
   "outputs": [],
   "source": [
    "d.RH.sel(time = slice(\"1951-01-01\",\"1951-02-02\")).plot()\n",
    "d_adjusted.RH.sel(time = slice(\"1951-01-01\",\"1951-02-02\")).plot()"
   ]
  },
  {
   "cell_type": "code",
   "execution_count": null,
   "id": "382cc99e-0b08-4d90-978a-c55a194c4344",
   "metadata": {},
   "outputs": [],
   "source": [
    "d.QBOT"
   ]
  },
  {
   "cell_type": "code",
   "execution_count": null,
   "id": "26a6cb91-ae0b-4e10-b33b-69dd13a1221e",
   "metadata": {},
   "outputs": [],
   "source": [
    "for v in [\"TBOT\",\"PSRF\",\"QBOT\",\"RH\"]:\n",
    "    print(v,d[v].isel(time = 100).values)\n"
   ]
  },
  {
   "cell_type": "code",
   "execution_count": null,
   "id": "a8fb5086-36eb-4b98-85c7-f08fccbd8a05",
   "metadata": {},
   "outputs": [],
   "source": [
    "def compute_relative_humidity(specific_humidity, pressure_pa, temperature_k):\n",
    "    # Compute the saturation vapor pressure using the Tetens formula\n",
    "    es = 0.611 * 10 ** (7.5 * (temperature_k - 273.15) / (237.3 + (temperature_k - 273.15)))\n",
    "    es = es * 1000  # Convert kPa to Pa\n",
    "    \n",
    "    # Calculate relative humidity\n",
    "    rh = (specific_humidity * pressure_pa) / (0.622 * es)\n",
    "    return rh * 100  # Return as percentage\n",
    "\n",
    "# Example usage:\n",
    "specific_humidity = 0.00271898  # Example value in kg/kg\n",
    "pressure_pa = 83116.03  # Example value in Pa for standard atmospheric pressure\n",
    "temperature_k = 273.80212 * 0.985  # Example value in Kelvin (20 degrees Celsius)\n",
    "\n",
    "rh = compute_relative_humidity(specific_humidity, pressure_pa, temperature_k)\n",
    "print(f\"Relative Humidity: {rh:.2f}%\")"
   ]
  },
  {
   "cell_type": "code",
   "execution_count": null,
   "id": "acd3c53d-397e-4046-8c4b-41335519e574",
   "metadata": {},
   "outputs": [],
   "source": [
    "d.PSRF.sel(time = slice(\"1951-01-01\",\"1951-11-02\")).plot()"
   ]
  },
  {
   "cell_type": "code",
   "execution_count": null,
   "id": "fe271079-13ed-4d3d-b81f-bab2f6290917",
   "metadata": {},
   "outputs": [],
   "source": [
    "d"
   ]
  },
  {
   "cell_type": "code",
   "execution_count": null,
   "id": "da5b7046-45d4-438a-ab68-c96293ce3539",
   "metadata": {},
   "outputs": [],
   "source": [
    "def cast_all_vars_to_float32(xds):\n",
    "    vars = list(xds.keys())\n",
    "    for v in vars:\n",
    "        float_32_var = xds[v].astype(\"float32\")\n",
    "        xds[v] = float_32_var\n",
    "    return xds\n",
    "\n",
    "def change_LATIXY_and_LONGXY(xds,lat,lon):\n",
    "    LONGXY_attrs = xds.LONGXY.attrs\n",
    "    LATIXY_attrs = xds.LATIXY.attrs\n",
    "    new_LATIXY = xr.DataArray(data = np.array(lat,dtype = \"float32\").reshape(1,1),\n",
    "                              dims = ['lat','lon'],\n",
    "                              attrs = LATIXY_attrs)\n",
    "    new_LONGXY = xr.DataArray(data = np.array(lon,dtype = \"float32\").reshape(1,1),\n",
    "                              dims = ['lat','lon'],\n",
    "                              attrs = LONGXY_attrs)\n",
    "    \n",
    "    xds['LATIXY'] = new_LATIXY\n",
    "    xds['LONGXY'] = new_LONGXY\n",
    "    return xds\n",
    "\n",
    "def getRH_from_QBOT(QBOT,PSRF,TBOT):\n",
    "\n",
    "    EBOT = PSRF * QBOT / (eps_mol + (1. - eps_mol) * QBOT)\n",
    "    ESAT = esat_0C * math.exp( 17.67 * (TBOT - degC_2_K) / (TBOT - 29.65))\n",
    "    RH   = frac_2_pc * EBOT / ESAT\n",
    "    return RH\n",
    "\n",
    "    \n",
    "def put_RH_in_array(xds):\n",
    "    QBOT_array = list(xds.QBOT.values)\n",
    "    PSRF_array = list(xds.PSRF.values)\n",
    "    TBOT_array = list(xds.TBOT.values)\n",
    "    times = xds.time.values\n",
    "\n",
    "    RH_array = np.zeros(len(QBOT_array))\n",
    "    for i in range(len(QBOT_array)):\n",
    "        RH_array[i] = getRH_from_QBOT(QBOT_array[i],PSRF_array[i],TBOT_array[i])\n",
    "\n",
    "    return RH_array\n",
    "\n",
    "\n",
    "def add_RH_to_data(xds):\n",
    "    times = xds.time.values\n",
    "    n = len(times)\n",
    "    RH_array = put_RH_in_array(xds)\n",
    "\n",
    "    RH_xda = xr.DataArray(\n",
    "                 data = np.array(RH_array).reshape(n,1,1),\n",
    "                 dims = ['time','lat','lon'],\n",
    "                 coords = {\"time\": times},\n",
    "                 attrs = {\n",
    "                     'longname': 'relative humidity',\n",
    "                     'units' : '%',\n",
    "                     'mode' : 'time-dependent'\n",
    "                     })\n",
    "    xds['RH'] = RH_xda\n",
    "\n",
    "def add_ZBOT_to_data(xds):\n",
    "    times = xds.time.values\n",
    "    n = len(xds.time.values)                    \n",
    "    ZBOT_array = np.array([site_refhgt] * n).reshape(n,1,1) \n",
    "                        \n",
    "    ZBOT_xda = xr.DataArray(\n",
    "                 data = ZBOT_array.reshape(n,1,1),\n",
    "                 dims = ['time','lat','lon'],\n",
    "                 coords = {\"time\": times},\n",
    "                 attrs = {\n",
    "                     'longname': 'observation_height',\n",
    "                     'units' : 'm',\n",
    "                     'mode' : 'time-dependent'\n",
    "                     })\n",
    "    xds['ZBOT'] = ZBOT_xda\n",
    "\n",
    "    \n",
    "def add_EDGE_vars(xds):\n",
    "    \n",
    "    add = [0.5,-0.5,0.5,-0.5]\n",
    "    var = ['LATIXY','LATIXY','LONGXY','LONGXY']\n",
    "    for i,d in enumerate(['N','S','E','W']):\n",
    "        edge_var_name = \"EDGE\" + d\n",
    "        edge_value = xds[var[i]].values + add[i]\n",
    "        edge_xar = xr.DataArray(\n",
    "                     data = edge_value[0,:],\n",
    "                     dims = ['scalar'],\n",
    "                     attrs = {\n",
    "                     'longname': 'edge of datm',\n",
    "                     'units' : 'degrees',\n",
    "                     'mode' : 'time-dependent'\n",
    "                     })\n",
    "        xds[edge_var_name] = edge_xar\n",
    "\n",
    "            \n",
    "def subset_single_file(file):\n",
    "    ds = xr.open_dataset(file, decode_times = False)\n",
    "    \n",
    "    #subset\n",
    "    point_data = ds.sel(lat = slice(wrf_lat_index,(wrf_lat_index+1)),\n",
    "                        lon = slice(wrf_lon_index,(wrf_lon_index+1)))\n",
    "    \n",
    "    #get time attributes\n",
    "    time_attrs = point_data.time.attrs\n",
    "    \n",
    "    #add variables\n",
    "    add_ZBOT_to_data(point_data)\n",
    "    add_RH_to_data(point_data)\n",
    "        \n",
    "    #reset lat and lon to be same as surf data\n",
    "    point_data = change_LATIXY_and_LONGXY(cast_all_vars_to_float32(point_data),target_lat,target_lon)\n",
    "    \n",
    "    #add edge values\n",
    "    add_EDGE_vars(point_data)\n",
    "    \n",
    "    #re-assign time attributes to data\n",
    "    point_data.time.attrs = time_attrs\n",
    "    \n",
    "    #write output\n",
    "    new_file_name = output_path + \"/\" + os.path.basename(file)\n",
    "    point_data.to_netcdf(new_file_name, format = \"NETCDF3_64BIT\", mode = \"w\")\n",
    "    ds.close()\n",
    "    point_data.close()\n",
    "    print(\"Finished\",new_file_name)"
   ]
  },
  {
   "cell_type": "code",
   "execution_count": null,
   "id": "53c66c6d-3484-4217-b87d-b7b7ce7bb947",
   "metadata": {},
   "outputs": [],
   "source": [
    "# View variables\n",
    "\n",
    "list(d.keys())"
   ]
  },
  {
   "cell_type": "code",
   "execution_count": null,
   "id": "0b27c747-fa36-495d-a084-bde096093bbd",
   "metadata": {},
   "outputs": [],
   "source": [
    "d"
   ]
  },
  {
   "cell_type": "code",
   "execution_count": null,
   "id": "f3924448-4ffe-48bd-b4de-dd6f5799b52e",
   "metadata": {},
   "outputs": [],
   "source": [
    "CZ2_lat = 37.0311\n",
    "CZ2_lon = 240.7434 - 360"
   ]
  },
  {
   "cell_type": "markdown",
   "id": "978b23ad-003e-4b09-9b1d-90644c099c98",
   "metadata": {},
   "source": [
    "### Plot annual precip totals"
   ]
  },
  {
   "cell_type": "code",
   "execution_count": null,
   "id": "926b2e93-f643-4aaa-867e-7583d6aa82df",
   "metadata": {},
   "outputs": [],
   "source": [
    "hourly_precip = d.PRECTmms * 3600\n",
    "annual_precip = hourly_precip.groupby(d.time.dt.year).sum()\n",
    "annual_precip.plot(marker = \"o\")"
   ]
  },
  {
   "cell_type": "markdown",
   "id": "f736e234-a7b1-4a96-b043-eb8d2c49b603",
   "metadata": {},
   "source": [
    "### Plot mean monthly precipitation"
   ]
  },
  {
   "cell_type": "code",
   "execution_count": null,
   "id": "d852cc25-6ac4-446d-afdb-2148a32ab000",
   "metadata": {},
   "outputs": [],
   "source": [
    "#hourly_precip.groupby(d.time.dt.year).sum().plot()\n",
    "\n",
    "mean_precip_rate_per_month = d.PRECTmms.groupby(d.time.dt.month).mean() * 30.4 * 24 * 3600\n",
    "mean_precip_rate_per_month.plot()"
   ]
  },
  {
   "cell_type": "markdown",
   "id": "2884e052-aa0a-4257-80b9-97e2d3e18e33",
   "metadata": {},
   "source": [
    "### Plot temp"
   ]
  },
  {
   "cell_type": "code",
   "execution_count": null,
   "id": "bb32bb68-68c6-4c50-80a1-e66aeef11c1c",
   "metadata": {},
   "outputs": [],
   "source": [
    "temp_CZ2 = d.TBOT - 273\n",
    "temp_CZ2.groupby(d.time.dt.month).mean().plot(marker = \"o\")"
   ]
  },
  {
   "cell_type": "markdown",
   "id": "5ab74112-7616-4f66-a23e-a892a6d3f6cb",
   "metadata": {},
   "source": [
    "### Temp by month"
   ]
  },
  {
   "cell_type": "code",
   "execution_count": null,
   "id": "edf6e367-4f47-404e-93ba-f2658e4495b2",
   "metadata": {},
   "outputs": [],
   "source": [
    "temp_monthly = temp_CZ2.groupby(d.time.dt.month).mean()\n",
    "temp_monthly.plot(marker = \"o\")"
   ]
  },
  {
   "cell_type": "code",
   "execution_count": null,
   "id": "2623316a-f188-4b5e-a01c-c4379e7b3057",
   "metadata": {},
   "outputs": [],
   "source": []
  }
 ],
 "metadata": {
  "kernelspec": {
   "display_name": "env4_work",
   "language": "python",
   "name": "env4_work"
  },
  "language_info": {
   "codemirror_mode": {
    "name": "ipython",
    "version": 3
   },
   "file_extension": ".py",
   "mimetype": "text/x-python",
   "name": "python",
   "nbconvert_exporter": "python",
   "pygments_lexer": "ipython3",
   "version": "3.8.13"
  }
 },
 "nbformat": 4,
 "nbformat_minor": 5
}
