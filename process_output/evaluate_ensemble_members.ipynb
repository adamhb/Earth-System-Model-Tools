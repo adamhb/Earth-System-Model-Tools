{
 "cells": [
  {
   "cell_type": "markdown",
   "id": "c3302eac-62cb-400a-ab91-e70a664bfb6d",
   "metadata": {},
   "source": [
    "# Evaluate land model output from perturbed parameter ensemble\n",
    "\n",
    "This script evaluates model output from a set of ensemble members in a perturbed parameter experiment. It identifies the best-performing ensemble members"
   ]
  },
  {
   "cell_type": "markdown",
   "id": "66f1106e-fa29-4c54-8875-27acd052b973",
   "metadata": {},
   "source": [
    "## Import modules"
   ]
  },
  {
   "cell_type": "code",
   "execution_count": 60,
   "id": "e13aeea6-caa4-4148-89fc-1ee3398f3672",
   "metadata": {},
   "outputs": [
    {
     "data": {
      "text/plain": [
       "<module 'esm_tools' from '/glade/u/home/adamhb/Earth-System-Model-Tools/process_output/esm_tools.py'>"
      ]
     },
     "execution_count": 60,
     "metadata": {},
     "output_type": "execute_result"
    }
   ],
   "source": [
    "import os\n",
    "import xarray as xr\n",
    "import pandas as pd\n",
    "import numpy as np\n",
    "import matplotlib.pyplot as plt\n",
    "import functools\n",
    "import netCDF4 as nc4\n",
    "import importlib\n",
    "import esm_tools\n",
    "importlib.reload(esm_tools)"
   ]
  },
  {
   "cell_type": "markdown",
   "id": "fd33c036-c080-4dac-95dd-831313c262e0",
   "metadata": {},
   "source": [
    "## Define paths and script parameters"
   ]
  },
  {
   "cell_type": "code",
   "execution_count": 75,
   "id": "63b5914f-86eb-4d3c-b1b5-44e7cd24a581",
   "metadata": {},
   "outputs": [],
   "source": [
    "# Benchmarking metrics\n",
    "my_metrics = [\"BA\",\"AGB\",\"TreeStemD\",\"ShannonE\",\"NPP\",\"FailedPFTs\"]\n",
    "\n",
    "# Optional\n",
    "case_path = None\n",
    "\n",
    "# Path where case output lives\n",
    "case_output_root = '/glade/scratch/adamhb/archive'\n",
    "\n",
    "# Path to ensemble params\n",
    "params_root = '/glade/u/home/adamhb/ahb_params/fates_api_25/ensembles'\n",
    "\n",
    "# Path to put any processed output\n",
    "processed_output_root = '/glade/scratch/adamhb/processed_output'\n",
    "\n",
    "# Path to param range files\n",
    "param_range_root = '/glade/u/home/adamhb/california-fates/parameter_ranges/param_range_archive'"
   ]
  },
  {
   "cell_type": "markdown",
   "id": "95d544df-ca1e-4557-bb1a-65f92ea096b6",
   "metadata": {},
   "source": [
    "## Variables to import"
   ]
  },
  {
   "cell_type": "code",
   "execution_count": 55,
   "id": "3d772d3f-227a-476f-a725-676fd16068b6",
   "metadata": {},
   "outputs": [],
   "source": [
    "# Keep first two no matter what. They are needed to unravel multi-plexed dimensions\n",
    "fields = ['FATES_SEED_PROD_USTORY_SZ','FATES_VEGC_AP','FATES_BURNFRAC',\n",
    "          'FATES_NPLANT_PF','FATES_NPLANT_SZPF','FATES_FIRE_INTENSITY_BURNFRAC','FATES_IGNITIONS',\n",
    "          'FATES_MORTALITY_FIRE_SZPF','FATES_BASALAREA_SZPF','FATES_CANOPYCROWNAREA_APPF',\n",
    "          'FATES_CROWNAREA_APPF','FATES_FUEL_AMOUNT_APFC','FATES_NPLANT_SZPF',\n",
    "          'FATES_PATCHAREA_AP','FATES_CROWNAREA_PF','FATES_VEGC_ABOVEGROUND','FATES_NPP_PF']"
   ]
  },
  {
   "cell_type": "code",
   "execution_count": 8,
   "id": "fc61ea47-6610-4849-98ce-14f371924cce",
   "metadata": {},
   "outputs": [
    {
     "name": "stdout",
     "output_type": "stream",
     "text": [
      "ninst: 36\n"
     ]
    }
   ],
   "source": [
    "full_case_path = esm_tools.get_path_to_sim('conifer-allom-082323a_-17e2acb6a_FATES-55794e61',\n",
    "                                           case_output_root)\n",
    "\n",
    "inst_tags = esm_tools.get_unique_inst_tags(full_case_path)\n",
    "n_inst = len(inst_tags)\n",
    "print(\"ninst:\",n_inst)\n",
    "\n",
    "# Generate some test data\n",
    "inst_files = esm_tools.get_files_of_inst(full_case_path,inst_tags[0],last_n_years=1)\n",
    "ds = esm_tools.multiple_netcdf_to_xarray(inst_files,fields)\n",
    "\n",
    "# Test data extraction from netcdf\n",
    "file_path = esm_tools.get_parameter_file_of_inst(params_root,'conifer_allom_082323a',\"0001\")\n",
    "esm_tools.extract_variable_from_netcdf(file_path,\"fates_allom_d2ca_coefficient_min\",pft_index=1)"
   ]
  },
  {
   "cell_type": "markdown",
   "id": "3911a4dd-d88a-41d0-ba89-e19aae9073cf",
   "metadata": {
    "jp-MarkdownHeadingCollapsed": true,
    "tags": []
   },
   "source": [
    "## Benchmarking functions"
   ]
  },
  {
   "cell_type": "code",
   "execution_count": 82,
   "id": "34267b85-8ada-49ce-a587-2870208d966d",
   "metadata": {},
   "outputs": [],
   "source": [
    "def setup_benchmarking_data_structure(metrics,parameters,pft_names = pft_names):\n",
    "    \n",
    "    metrics_out = metrics.copy()\n",
    "    \n",
    "    # add pft-specific vars\n",
    "    pft_specific_ba_metrics = [\"BA_\" + pft for pft in pft_names]  \n",
    "    metrics_out.extend(pft_specific_ba_metrics)\n",
    "    \n",
    "    # add inst tag\n",
    "    metrics_out.append(\"inst\")    \n",
    "    metrics_out.extend(parameters)\n",
    "    \n",
    "    benchmarking_dict = {}\n",
    "    for i in metrics_out:\n",
    "        benchmarking_dict[i] = []\n",
    "    return benchmarking_dict\n",
    "\n",
    "def get_benchmarks(case_name,metrics,last_n_years,param_sub_dir,param_range_file_name,\n",
    "                   test = False, pft_names = np.array([\"pine\",\"cedar\",\"fir\",\"shrub\",\"oak\"]),\n",
    "                   pft_colors = ['gold','darkorange','darkolivegreen','brown','springgreen'],\n",
    "                   param_range_root = param_range_root,\n",
    "                   params_root = params_root):\n",
    "      \n",
    "    print(\"Case:\",case_name)\n",
    "    \n",
    "    # 1. Get info about the case\n",
    "    full_case_path = esm_tools.get_path_to_sim(case_name,case_output_root)\n",
    "    inst_tags = esm_tools.get_unique_inst_tags(full_case_path)\n",
    "    \n",
    "    if test == True:\n",
    "        inst_tags = inst_tags[:3]\n",
    "    \n",
    "    n_inst = len(inst_tags)\n",
    "    print(\"ninst:\",n_inst)\n",
    "    \n",
    "    # 2. Set up the benchmarking data structure\n",
    "    perturbed_params_df = pd.read_csv(os.path.join(param_range_root,param_range_file_name))\n",
    "    perturbed_params = []\n",
    "    for i in range(len(perturbed_params_df)):\n",
    "        perturbed_params.append(perturbed_params_df['param'][i] + \"_\" + str(perturbed_params_df['pft'][i]))\n",
    "    \n",
    "    bench_dict = setup_benchmarking_data_structure(metrics,perturbed_params,pft_names)  \n",
    "    print(bench_dict)\n",
    "                                 \n",
    "    # 3. Add param values to the data structure\n",
    "    for inst in inst_tags:\n",
    "        param_file_path = esm_tools.get_parameter_file_of_inst(params_root,param_sub_dir,inst)\n",
    "        \n",
    "        i = 0                      \n",
    "        for param,pf in zip(perturbed_params_df['param'], perturbed_params_df['pft']):\n",
    "            i = i + 1\n",
    "            bench_dict[perturbed_params[i-1]].append(esm_tools.extract_variable_from_netcdf(\n",
    "                                                           param_file_path,param,pf))\n",
    "    \n",
    "    # 4. Add the model output to the data structure\n",
    "    for inst in inst_tags:\n",
    "        \n",
    "        print(\"Working on ensemble memeber\",inst,\"of\",len(inst_tags),\"members\")\n",
    "        \n",
    "        # Import the model output data for one ensemble member\n",
    "        inst_files = esm_tools.get_files_of_inst(full_case_path,\n",
    "                                                 inst,\n",
    "                                                 last_n_years)\n",
    "        \n",
    "        ds = esm_tools.multiple_netcdf_to_xarray(inst_files,fields)\n",
    "        \n",
    "        bench_dict['inst'].append(inst)\n",
    "        \n",
    "        ## Basal area [m2 ha-1] ##\n",
    "        if \"BA\" in bench_dict.keys():\n",
    "            \n",
    "            ## Pft-specific BA\n",
    "            pft_level_ba = esm_tools.get_pft_level_basal_area(ds)\n",
    "            \n",
    "            for i in range(len(pft_names)):\n",
    "                pft_name = pft_names[i]\n",
    "                bench_dict['BA_' + pft_name].append(pft_level_ba[i])\n",
    "            \n",
    "            ## Shannon equitability index (wrt BA) ##\n",
    "            bench_dict['ShannonE'].append(esm_tools.shannon_equitability(pft_level_ba))\n",
    "            \n",
    "            ## Number of failed pfts ##\n",
    "            bench_dict['FailedPFTs'].append(esm_tools.get_n_failed_pfts(pft_level_ba,ba_thresh=0.1))\n",
    "            \n",
    "            ## Total BA\n",
    "            bench_dict['BA'].append(pft_level_ba.sum())\n",
    "                  \n",
    "        ## Stem density [N ha-1] ##\n",
    "        if \"TreeStemD\" in bench_dict.keys():\n",
    "            \n",
    "            ## Total tree stem density\n",
    "            bench_dict[\"TreeStemD\"].append(esm_tools.get_total_stem_den(ds,trees_only=False,dbh_min=10))\n",
    "        \n",
    "        ## AGB [kg C m-2]\n",
    "        if \"AGB\" in bench_dict.keys():\n",
    "            bench_dict[\"AGB\"].append(esm_tools.get_AGB(ds))\n",
    "        \n",
    "        ## Total NPP [kg C m-2]\n",
    "        if \"NPP\" in bench_dict.keys():\n",
    "            bench_dict[\"NPP\"].append(esm_tools.get_total_npp(ds))        \n",
    "            \n",
    "        \n",
    "    return bench_dict"
   ]
  },
  {
   "cell_type": "markdown",
   "id": "0f5e3542-debf-4a43-a670-f6bbbdb92d71",
   "metadata": {},
   "source": [
    "## Apply to case"
   ]
  },
  {
   "cell_type": "code",
   "execution_count": 83,
   "id": "39761065-fcdc-40c0-ab57-57e57bd8d33b",
   "metadata": {},
   "outputs": [
    {
     "name": "stdout",
     "output_type": "stream",
     "text": [
      "Case: conifer-allom-082323a_-17e2acb6a_FATES-55794e61\n",
      "ninst: 3\n",
      "{'BA': [], 'AGB': [], 'TreeStemD': [], 'ShannonE': [], 'NPP': [], 'FailedPFTs': [], 'BA_pine': [], 'BA_cedar': [], 'BA_fir': [], 'BA_shrub': [], 'BA_oak': [], 'inst': [], 'fates_allom_d2ca_coefficient_min_1': [], 'fates_mort_scalar_cstarvation_1': []}\n",
      "Working on ensemble memeber 0001 of 3 members\n",
      "Working on ensemble memeber 0002 of 3 members\n",
      "Working on ensemble memeber 0003 of 3 members\n"
     ]
    },
    {
     "data": {
      "image/png": "[encoded data removed]",
      "text/plain": [
       "<Figure size 600x800 with 6 Axes>"
      ]
     },
     "metadata": {},
     "output_type": "display_data"
    },
    {
     "name": "stdout",
     "output_type": "stream",
     "text": [
      "Directory '/glade/scratch/adamhb/processed_output/conifer-allom-082323a_-17e2acb6a_FATES-55794e61' already exists!\n"
     ]
    },
    {
     "data": {
      "text/plain": [
       "<Figure size 640x480 with 0 Axes>"
      ]
     },
     "metadata": {},
     "output_type": "display_data"
    }
   ],
   "source": [
    "bench_dict_a = get_benchmarks(case_name='conifer-allom-082323a_-17e2acb6a_FATES-55794e61',\n",
    "                              metrics = my_metrics,\n",
    "                              last_n_years=1,\n",
    "                              param_sub_dir=\"conifer_allom_082323a\",\n",
    "                              param_range_file_name = 'param_ranges_conifer_allom_test_082323.csv',\n",
    "                              test=False)\n",
    "bench_df_a = pd.DataFrame(bench_dict_a)\n",
    "esm_tools.plot_multi_panel(df = bench_df_a, x_col = \"fates_allom_d2ca_coefficient_min_1\",\n",
    "                 y_cols = my_metrics, figsize=(6, 8))\n",
    "esm_tools.store_output('conifer-allom-082323a_-17e2acb6a_FATES-55794e61',bench_df_a,processed_output_root = processed_output_root)"
   ]
  }
 ],
 "metadata": {
  "kernelspec": {
   "display_name": "env4_work",
   "language": "python",
   "name": "env4_work"
  },
  "language_info": {
   "codemirror_mode": {
    "name": "ipython",
    "version": 3
   },
   "file_extension": ".py",
   "mimetype": "text/x-python",
   "name": "python",
   "nbconvert_exporter": "python",
   "pygments_lexer": "ipython3",
   "version": "3.8.13"
  }
 },
 "nbformat": 4,
 "nbformat_minor": 5
}
