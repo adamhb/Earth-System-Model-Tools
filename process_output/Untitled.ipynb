{
 "cells": [
  {
   "cell_type": "code",
   "execution_count": null,
   "id": "ba86af5e-2056-4524-a2b8-a432cfe25a11",
   "metadata": {},
   "outputs": [],
   "source": [
    "import pandas as pd"
   ]
  },
  {
   "cell_type": "code",
   "execution_count": null,
   "id": "1a1c052a-5343-4f2d-8596-57ca86baece2",
   "metadata": {},
   "outputs": [],
   "source": [
    "'/glade/scratch/adamhb/processed_output/CZ2_equilibrium_passing/CZ2_equilibrium_passing_110323_XX_-17e2acb6a_FATES-8a054a12_20231106103722_structure_metrics_last3_years.csv'"
   ]
  }
 ],
 "metadata": {
  "kernelspec": {
   "display_name": "Python [conda env:miniconda-la-veg]",
   "language": "python",
   "name": "conda-env-miniconda-la-veg-py"
  },
  "language_info": {
   "name": ""
  }
 },
 "nbformat": 4,
 "nbformat_minor": 5
}
