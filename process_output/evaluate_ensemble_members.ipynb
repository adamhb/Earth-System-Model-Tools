{
 "cells": [
  {
   "cell_type": "markdown",
   "id": "c3302eac-62cb-400a-ab91-e70a664bfb6d",
   "metadata": {},
   "source": [
    "# Evaluate land model output from perturbed parameter ensemble\n",
    "\n",
    "This script evaluates model output from a set of ensemble members in a perturbed parameter experiment. It identifies the best-performing ensemble members"
   ]
  },
  {
   "cell_type": "markdown",
   "id": "66f1106e-fa29-4c54-8875-27acd052b973",
   "metadata": {},
   "source": [
    "## Import modules"
   ]
  },
  {
   "cell_type": "code",
   "execution_count": 1,
   "id": "87f840c8-e77a-4cce-9e5c-dcd89f513944",
   "metadata": {},
   "outputs": [],
   "source": [
    "import sys\n",
    "#Path to the esm_tools.py script\n",
    "sys.path.append('/glade/u/home/adamhb/Earth-System-Model-Tools/process_output')"
   ]
  },
  {
   "cell_type": "code",
   "execution_count": 2,
   "id": "e13aeea6-caa4-4148-89fc-1ee3398f3672",
   "metadata": {},
   "outputs": [
    {
     "ename": "ModuleNotFoundError",
     "evalue": "No module named 'myfuncs'",
     "output_type": "error",
     "traceback": [
      "\u001b[0;31m---------------------------------------------------------------------------\u001b[0m",
      "\u001b[0;31mModuleNotFoundError\u001b[0m                       Traceback (most recent call last)",
      "Cell \u001b[0;32mIn [2], line 10\u001b[0m\n\u001b[1;32m      8\u001b[0m \u001b[38;5;28;01mimport\u001b[39;00m \u001b[38;5;21;01mimportlib\u001b[39;00m\n\u001b[1;32m      9\u001b[0m \u001b[38;5;28;01mimport\u001b[39;00m \u001b[38;5;21;01mesm_tools\u001b[39;00m\n\u001b[0;32m---> 10\u001b[0m \u001b[38;5;28;01mimport\u001b[39;00m \u001b[38;5;21;01mesm_viz\u001b[39;00m\n\u001b[1;32m     11\u001b[0m importlib\u001b[38;5;241m.\u001b[39mreload(esm_tools)\n",
      "File \u001b[0;32m~/Earth-System-Model-Tools/process_output/esm_viz.py:9\u001b[0m\n\u001b[1;32m      7\u001b[0m \u001b[38;5;28;01mimport\u001b[39;00m \u001b[38;5;21;01mdatetime\u001b[39;00m \u001b[38;5;28;01mas\u001b[39;00m \u001b[38;5;21;01mdatetime\u001b[39;00m\n\u001b[1;32m      8\u001b[0m \u001b[38;5;28;01mimport\u001b[39;00m \u001b[38;5;21;01msys\u001b[39;00m\n\u001b[0;32m----> 9\u001b[0m \u001b[38;5;28;01mimport\u001b[39;00m \u001b[38;5;21;01mmyfuncs\u001b[39;00m\n\u001b[1;32m     10\u001b[0m \u001b[38;5;28;01mfrom\u001b[39;00m \u001b[38;5;21;01mmyparams\u001b[39;00m \u001b[38;5;28;01mimport\u001b[39;00m \u001b[38;5;241m*\u001b[39m\n\u001b[1;32m     13\u001b[0m \u001b[38;5;28;01mdef\u001b[39;00m \u001b[38;5;21mgetNBase\u001b[39m(xarr):\n",
      "\u001b[0;31mModuleNotFoundError\u001b[0m: No module named 'myfuncs'"
     ]
    }
   ],
   "source": [
    "import os\n",
    "import xarray as xr\n",
    "import pandas as pd\n",
    "import numpy as np\n",
    "import matplotlib.pyplot as plt\n",
    "import functools\n",
    "import netCDF4 as nc4\n",
    "import importlib\n",
    "import esm_tools\n",
    "import esm_viz\n",
    "importlib.reload(esm_tools)"
   ]
  },
  {
   "cell_type": "markdown",
   "id": "fd33c036-c080-4dac-95dd-831313c262e0",
   "metadata": {},
   "source": [
    "## Define paths and script parameters"
   ]
  },
  {
   "cell_type": "code",
   "execution_count": null,
   "id": "63b5914f-86eb-4d3c-b1b5-44e7cd24a581",
   "metadata": {},
   "outputs": [],
   "source": [
    "# Benchmarking metrics\n",
    "my_metrics = [\"BA\",\"AGB\",\"TreeStemD\",\"ShannonE\",\"NPP\",\"FailedPFTs\"]\n",
    "\n",
    "# Optional\n",
    "case_path = None\n",
    "\n",
    "# Path where case output lives\n",
    "case_output_root = '/glade/scratch/adamhb/archive'\n",
    "\n",
    "# Path to ensemble params\n",
    "params_root = '/glade/u/home/adamhb/ahb_params/fates_api_25/ensembles'\n",
    "\n",
    "# Path to put any processed output\n",
    "processed_output_root = '/glade/scratch/adamhb/processed_output'\n",
    "\n",
    "# Path to param range files\n",
    "param_range_root = '/glade/u/home/adamhb/california-fates/parameter_ranges/param_range_archive'"
   ]
  },
  {
   "cell_type": "markdown",
   "id": "95d544df-ca1e-4557-bb1a-65f92ea096b6",
   "metadata": {},
   "source": [
    "## Variables to import"
   ]
  },
  {
   "cell_type": "code",
   "execution_count": null,
   "id": "3d772d3f-227a-476f-a725-676fd16068b6",
   "metadata": {},
   "outputs": [],
   "source": [
    "# Keep first two no matter what. They are needed to unravel multi-plexed dimensions\n",
    "fields = ['FATES_SEED_PROD_USTORY_SZ','FATES_VEGC_AP','FATES_BURNFRAC',\n",
    "          'FATES_NPLANT_PF','FATES_NPLANT_SZPF','FATES_FIRE_INTENSITY_BURNFRAC','FATES_IGNITIONS',\n",
    "          'FATES_MORTALITY_FIRE_SZPF','FATES_BASALAREA_SZPF','FATES_CANOPYCROWNAREA_APPF',\n",
    "          'FATES_CROWNAREA_APPF','FATES_FUEL_AMOUNT_APFC','FATES_NPLANT_SZPF',\n",
    "          'FATES_PATCHAREA_AP','FATES_CROWNAREA_PF','FATES_VEGC_ABOVEGROUND','FATES_NPP_PF']"
   ]
  },
  {
   "cell_type": "markdown",
   "id": "3911a4dd-d88a-41d0-ba89-e19aae9073cf",
   "metadata": {
    "tags": []
   },
   "source": [
    "## Benchmarking functions"
   ]
  },
  {
   "cell_type": "code",
   "execution_count": null,
   "id": "34267b85-8ada-49ce-a587-2870208d966d",
   "metadata": {},
   "outputs": [],
   "source": [
    "def setup_benchmarking_data_structure(metrics,parameters,pft_names):\n",
    "    \n",
    "    metrics_out = metrics.copy()\n",
    "    \n",
    "    # add pft-specific vars\n",
    "    pft_specific_ba_metrics = [\"BA_\" + pft for pft in pft_names]  \n",
    "    metrics_out.extend(pft_specific_ba_metrics)\n",
    "    \n",
    "    # add inst tag\n",
    "    metrics_out.append(\"inst\")    \n",
    "    metrics_out.extend(parameters)\n",
    "    \n",
    "    benchmarking_dict = {}\n",
    "    for i in metrics_out:\n",
    "        benchmarking_dict[i] = []\n",
    "    return benchmarking_dict\n",
    "\n",
    "def get_benchmarks(case_name,metrics,last_n_years,param_sub_dir,param_range_file_name,\n",
    "                   test = False, pft_names = np.array([\"pine\",\"cedar\",\"fir\",\"shrub\",\"oak\"]),\n",
    "                   pft_colors = ['gold','darkorange','darkolivegreen','brown','springgreen'],\n",
    "                   param_range_root = param_range_root,\n",
    "                   params_root = params_root,\n",
    "                   manual_case_path = None):\n",
    "      \n",
    "    print(\"Case:\",case_name)\n",
    "    \n",
    "    # 1. Get info about the case\n",
    "    if manual_case_path != None:\n",
    "        full_case_path = manual_case_path\n",
    "    \n",
    "    else:\n",
    "        full_case_path = esm_tools.get_path_to_sim(case_name,case_output_root)\n",
    "    \n",
    "    inst_tags = esm_tools.get_unique_inst_tags(full_case_path)\n",
    "    \n",
    "    if test == True:\n",
    "        inst_tags = inst_tags[:3]\n",
    "    \n",
    "    n_inst = len(inst_tags)\n",
    "    print(\"ninst:\",n_inst)\n",
    "    \n",
    "    # 2. Set up the benchmarking data structure\n",
    "    perturbed_params_df = pd.read_csv(os.path.join(param_range_root,param_range_file_name))\n",
    "    perturbed_params = []\n",
    "    for i in range(len(perturbed_params_df)):\n",
    "        perturbed_params.append(perturbed_params_df['param'][i] + \"_\" + str(perturbed_params_df['pft'][i]))\n",
    "    \n",
    "    bench_dict = setup_benchmarking_data_structure(metrics,perturbed_params,pft_names)  \n",
    "                                 \n",
    "    # 3. Add param values to the data structure\n",
    "    for inst in inst_tags:\n",
    "        param_file_path = esm_tools.get_parameter_file_of_inst(params_root,param_sub_dir,inst)\n",
    "        \n",
    "        i = 0                      \n",
    "        for param,pf in zip(perturbed_params_df['param'], perturbed_params_df['pft']):\n",
    "            i = i + 1\n",
    "            bench_dict[perturbed_params[i-1]].append(esm_tools.extract_variable_from_netcdf(\n",
    "                                                           param_file_path,param,(pf-1)))\n",
    "    \n",
    "    # 4. Add the model output to the data structure\n",
    "    for inst in inst_tags:\n",
    "        \n",
    "        print(\"Working on ensemble memeber\",inst,\"of\",len(inst_tags),\"members\")\n",
    "        \n",
    "        # Import the model output data for one ensemble member\n",
    "        inst_files = esm_tools.get_files_of_inst(full_case_path,\n",
    "                                                 inst,\n",
    "                                                 last_n_years)\n",
    "        \n",
    "        ds = esm_tools.multiple_netcdf_to_xarray(inst_files,fields)\n",
    "        \n",
    "        bench_dict['inst'].append(inst)\n",
    "        \n",
    "        ## Basal area [m2 ha-1] ##\n",
    "        if \"BA\" in bench_dict.keys():\n",
    "            \n",
    "            ## Pft-specific BA\n",
    "            pft_level_ba = esm_tools.get_pft_level_basal_area(ds)\n",
    "            \n",
    "            for i in range(len(pft_names)):\n",
    "                pft_name = pft_names[i]\n",
    "                bench_dict['BA_' + pft_name].append(pft_level_ba[i])\n",
    "            \n",
    "            ## Shannon equitability index (wrt BA) ##\n",
    "            bench_dict['ShannonE'].append(esm_tools.shannon_equitability(pft_level_ba))\n",
    "            \n",
    "            ## Number of failed pfts ##\n",
    "            bench_dict['FailedPFTs'].append(esm_tools.get_n_failed_pfts(pft_level_ba,ba_thresh=0.1))\n",
    "            \n",
    "            ## Total BA\n",
    "            bench_dict['BA'].append(pft_level_ba.sum())\n",
    "                  \n",
    "        ## Stem density [N ha-1] ##\n",
    "        if \"TreeStemD\" in bench_dict.keys():\n",
    "            \n",
    "            ## Total tree stem density\n",
    "            bench_dict[\"TreeStemD\"].append(esm_tools.get_total_stem_den(ds,trees_only=False,dbh_min=10))\n",
    "        \n",
    "        ## AGB [kg C m-2]\n",
    "        if \"AGB\" in bench_dict.keys():\n",
    "            bench_dict[\"AGB\"].append(esm_tools.get_AGB(ds))\n",
    "        \n",
    "        ## Total NPP [kg C m-2]\n",
    "        if \"NPP\" in bench_dict.keys():\n",
    "            bench_dict[\"NPP\"].append(esm_tools.get_total_npp(ds))        \n",
    "            \n",
    "        \n",
    "    return bench_dict"
   ]
  },
  {
   "cell_type": "markdown",
   "id": "0f5e3542-debf-4a43-a670-f6bbbdb92d71",
   "metadata": {},
   "source": [
    "## Apply to case"
   ]
  },
  {
   "cell_type": "code",
   "execution_count": null,
   "id": "5560375d-3f31-40c1-9a0e-b23ddd20f556",
   "metadata": {},
   "outputs": [],
   "source": [
    "importlib.reload(esm_tools)"
   ]
  },
  {
   "cell_type": "code",
   "execution_count": null,
   "id": "d00493ef-523a-4bec-bc97-d57736c7f778",
   "metadata": {},
   "outputs": [],
   "source": [
    "bench_dict_a = get_benchmarks(case_name='conifer-allom-090123_5pfts_-17e2acb6a_FATES-55794e61',\n",
    "                              metrics = my_metrics,\n",
    "                              last_n_years=1,\n",
    "                              param_sub_dir=\"conifer_allom_090123_5pfts\",\n",
    "                              param_range_file_name = 'param_ranges_conifer_allom_test_090123_5pfts.csv',\n",
    "                              pft_names = [\"pine\",\"cedar\",\"fir\",\"shrub\",\"oak\"],\n",
    "                              test=False,\n",
    "                              manual_case_path = '/glade/scratch/adamhb/archive/conifer-allom-090123_5pfts_-17e2acb6a_FATES-55794e61/run/')\n",
    "bench_df_a = pd.DataFrame(bench_dict_a)\n",
    "esm_viz.plot_multi_panel(df = bench_df_a, x_col = \"fates_allom_d2ca_coefficient_min_1\",\n",
    "                 y_cols = my_metrics, figsize=(6, 8))\n",
    "esm_tools.store_output('conifer-allom-090123_5pfts_-17e2acb6a_FATES-55794e61',bench_df_a,processed_output_root = processed_output_root)"
   ]
  },
  {
   "cell_type": "code",
   "execution_count": null,
   "id": "7d2ef814-06d8-4a60-a610-25a12a7ed561",
   "metadata": {},
   "outputs": [],
   "source": []
  }
 ],
 "metadata": {
  "kernelspec": {
   "display_name": "env4_work",
   "language": "python",
   "name": "env4_work"
  },
  "language_info": {
   "codemirror_mode": {
    "name": "ipython",
    "version": 3
   },
   "file_extension": ".py",
   "mimetype": "text/x-python",
   "name": "python",
   "nbconvert_exporter": "python",
   "pygments_lexer": "ipython3",
   "version": "3.8.13"
  }
 },
 "nbformat": 4,
 "nbformat_minor": 5
}
