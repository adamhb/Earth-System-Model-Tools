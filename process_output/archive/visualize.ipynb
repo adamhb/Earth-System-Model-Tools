{
 "cells": [
  {
   "cell_type": "markdown",
   "metadata": {},
   "source": [
    "# CZ2 Simualtion with a montane shrub 081122\n"
   ]
  },
  {
   "cell_type": "code",
   "execution_count": 1,
   "metadata": {},
   "outputs": [],
   "source": [
    "import os\n",
    "\n",
    "import xarray as xr\n",
    "import functools\n",
    "import numpy as np\n",
    "import matplotlib.pyplot as plt\n",
    "import pandas as pd\n",
    "from matplotlib.dates import DateFormatter\n",
    "\n",
    "%matplotlib inline"
   ]
  },
  {
   "cell_type": "code",
   "execution_count": null,
   "metadata": {},
   "outputs": [],
   "source": [
    "# path = '/glade/u/home/adamhb/misc/CZ2-dispersal-test'\n",
    "# files = os.listdir(path)\n",
    "# full_paths = [os.path.join(path,f) for f in files]\n",
    "# sorted(full_paths)"
   ]
  },
  {
   "cell_type": "code",
   "execution_count": 2,
   "metadata": {},
   "outputs": [
    {
     "name": "stdout",
     "output_type": "stream",
     "text": [
      "/glade/scratch/adamhb/archive/CZ2_sup_070723_ca_allom_test_CLM-17e2acb6a_FATES-ad67d1fe/lnd/hist/CZ2_sup_070723_ca_allom_test_CLM-17e2acb6a_FATES-ad67d1fe.clm2.h0.1900-01.nc\n",
      "/glade/scratch/adamhb/archive/CZ2_sup_070723_ca_allom_test_CLM-17e2acb6a_FATES-ad67d1fe/lnd/hist/CZ2_sup_070723_ca_allom_test_CLM-17e2acb6a_FATES-ad67d1fe.clm2.h0.2089-12.nc\n"
     ]
    }
   ],
   "source": [
    "n_pfts = 3\n",
    "pft_names = [\"pine\",\"cedar\",\"fir\"]#,\"shrub\",\"oak\"]\n",
    "pft_colors = ['gold','darkorange','darkolivegreen','brown','springgreen']\n",
    "path = '/glade/scratch/adamhb/archive/'\n",
    "sim_root = path\n",
    "case = 'CZ2_sup_070723_ca_allom_test_CLM-17e2acb6a_FATES-ad67d1fe'\n",
    "case_2 = 'bci_main_branch'\n",
    "years_1 = list(range(1900, 2090))\n",
    "years_2 = list(range(2050, 2054)) \n",
    "two_case_timeseries = False\n",
    "output_path = '/glade/u/home/adamhb/misc'\n",
    "\n",
    "\n",
    "months = list(range(1, 13, 1))     #python will go up to, but not including month 13)\n",
    "# build a list of file names based on the year and month\n",
    "file_names = [f\"{case}.clm2.h0.{str(year)}-{str(month).rjust(2, '0')}.nc\"\n",
    "              for year in years_1 for month in months]\n",
    "# create their full path\n",
    "full_paths = [os.path.join(path, case, 'lnd/hist', fname) for fname in file_names]\n",
    "\n",
    "\n",
    "if two_case_timeseries == True:\n",
    "    file_names_1 = [f\"{case}.clm2.h0.{str(year)}-{str(month).rjust(2, '0')}.nc\"\n",
    "                    for year in years_1 for month in months]\n",
    "    \n",
    "    full_paths_1 = [os.path.join(path, case, 'lnd/hist', fname) for fname in file_names_1]\n",
    "    \n",
    "    file_names_2 = [f\"{case_2}.clm2.h0.{str(year)}-{str(month).rjust(2, '0')}.nc\"\n",
    "                  for year in years_2 for month in months]\n",
    "    full_paths_2 = [os.path.join(path, case_2, 'lnd/hist', fname) for fname in file_names_2]\n",
    "    \n",
    "    \n",
    "    file_names = file_names_1 + file_names_2\n",
    "    full_paths = full_paths_1 + full_paths_2\n",
    "\n",
    "# print the last file in our list\n",
    "#print(file_names[0])\n",
    "#print(full_paths[-1])\n",
    "print(full_paths[0])\n",
    "print(full_paths[-1])"
   ]
  },
  {
   "cell_type": "markdown",
   "metadata": {},
   "source": [
    "### Choose variables to import"
   ]
  },
  {
   "cell_type": "code",
   "execution_count": null,
   "metadata": {},
   "outputs": [],
   "source": [
    "fields = ['FATES_BASALAREA_SZPF','FATES_SEED_PROD_USTORY_SZ','FATES_VEGC_AP','FATES_CANOPYCROWNAREA_PF']"
   ]
  },
  {
   "cell_type": "code",
   "execution_count": 3,
   "metadata": {},
   "outputs": [],
   "source": [
    "# define the history variables to read in\n",
    "fields = [\n",
    "          #have on to import these dimensions\n",
    "          'FATES_SEED_PROD_USTORY_SZ',\n",
    "          'FATES_VEGC_AP',\n",
    "          #patches and cohorts\n",
    "          'FATES_NPATCHES',\n",
    "          'FATES_PATCHAREA_AP','FATES_CANOPYAREA_AP',\n",
    "          'FATES_NCOHORTS','FATES_NPATCH_AP',\n",
    "          #structure\n",
    "          #'FATES_LAI_AP',\n",
    "          #density\n",
    "          'FATES_NPLANT_PF',\n",
    "          'FATES_NPLANT_SZAPPF',\n",
    "          'FATES_NPLANT_SZPF',\n",
    "          'FATES_NPLANT_ACPF',\n",
    "          'FATES_NPLANT_CANOPY_SZPF',\n",
    "          'FATES_NPLANT_USTORY_SZPF',\n",
    "          #basal area\n",
    "          'FATES_BASALAREA_SZPF',\n",
    "          #crown_area\n",
    "          'FATES_CANOPYCROWNAREA_PF',\n",
    "          'FATES_CANOPYCROWNAREA_APPF',\n",
    "          #'FATES_CANOPYAREA_HT',\n",
    "          #'FATES_CROWNAREA_CLLL',\n",
    "          'FATES_CROWNAREA_PF',\n",
    "          #biomass\n",
    "          'FATES_VEGC_PF','FATES_VEGC_AP','FATES_VEGC_ABOVEGROUND','FATES_VEGC_ABOVEGROUND_SZPF',\n",
    "          #growth\n",
    "          #'FATES_DDBH_SZPF',\n",
    "          #'FATES_DDBH_CANOPY_SZAP','FATES_DDBH_USTORY_SZAP',\n",
    "          #mortality\n",
    "          'FATES_MORTALITY_PF',\n",
    "          #'FATES_MORTALITY_CANOPY_SZAP','FATES_MORTALITY_USTORY_SZAP',\n",
    "          'FATES_MORTALITY_BACKGROUND_SZPF','FATES_MORTALITY_HYDRAULIC_SZPF','FATES_MORTALITY_CSTARV_SZPF',\n",
    "          #'FATES_MORTALITY_IMPACT_SZPF',\n",
    "          'FATES_MORTALITY_FIRE_SZPF','FATES_MORTALITY_CROWNSCORCH_SZPF',\n",
    "          #'FATES_MORTALITY_CANOPY_SZ','FATES_MORTALITY_USTORY_SZ',\n",
    "          'FATES_MORTALITY_SENESCENCE_SZPF',\n",
    "          #seed production and recruitment\n",
    "          #'FATES_SEED_PROD_USTORY_SZ','FATES_SEED_PROD_CANOPY_SZ',\n",
    "          #'FATES_SEEDS_IN',\n",
    "          'FATES_SEED_BANK',\n",
    "          'FATES_SEEDBANK_PF',\n",
    "          'FATES_SEED_ALLOC_SZPF',\n",
    "          'FATES_RECRUITMENT_PF',\n",
    "          #GPP and NPP\n",
    "          #'FATES_GPP','FATES_GPP_SZPF',\n",
    "          'FATES_NPP_PF','FATES_NPP_SZPF',\n",
    "          'FATES_AUTORESP_SZPF','FATES_MAINTAR_SZPF',\n",
    "          #physical environment\n",
    "          #Light\n",
    "          'FATES_LAISUN_Z_CLLL','FATES_LAISHA_Z_CLLL',\n",
    "          'FATES_LAISUN_Z_CLLLPF','FATES_LAISHA_Z_CLLLPF',\n",
    "          'FATES_PARSUN_Z_CLLLPF','FATES_PARSHA_Z_CLLLPF',\n",
    "          'FATES_PARPROF_DIR_CLLL','FATES_PARPROF_DIF_CLLL',\n",
    "          'FATES_PARPROF_DIF_CLLLPF','FATES_PARPROF_DIR_CLLLPF',\n",
    "          #Litter\n",
    "          'FATES_CWD_ABOVEGROUND_DC',\n",
    "          'FATES_FUEL_AMOUNT',\n",
    "          #CLM\n",
    "          'QVEGT','QVEGE','QSOIL','TLAI','TBOT','RAIN','QBOT','Q2M',\n",
    "          #'BTRAN',\n",
    "          #H20\n",
    "          'SMP',\n",
    "          #allocation\n",
    "          #'FATES_STOREC_CANOPY_SZPF','FATES_STOREC_USTORY_SZPF',\n",
    "          #fire\n",
    "          'FATES_BURNFRAC','FATES_IGNITIONS','FATES_FIRE_INTENSITY_BURNFRAC',\n",
    "          'FATES_FUEL_BULKD','FATES_FUEL_SAV',\n",
    "           'FATES_DISTURBANCE_RATE_FIRE',\n",
    "          # 'FATES_FUEL_AMOUNT_AP',\n",
    "          # 'FATES_FIRE_INTENSITY_BURNFRAC_AP',\n",
    "          # 'FATES_BURNFRAC_AP',\n",
    "           'FATES_FUEL_AMOUNT_APFC',\n",
    "           'FATES_FUEL_AMOUNT',\n",
    "           'FATES_FDI',\n",
    "           'FATES_FIRE_INTENSITY',\n",
    "           'FATES_FUELCONSUMED',\n",
    "           'FATES_NESTEROV_INDEX',\n",
    "           'FATES_MORTALITY_CROWNSCORCH_SZPF',\n",
    "          # 'FATES_SCORCH_HEIGHT_APPF','FATES_FUEL_MEF',\n",
    "           'FATES_FUEL_EFF_MOIST','FATES_FUEL_MOISTURE_FC','FATES_ROS'\n",
    "          # 'FATES_MORTALITY_FIRE_CFLUX_PF'\n",
    "          ]"
   ]
  },
  {
   "cell_type": "code",
   "execution_count": null,
   "metadata": {},
   "outputs": [],
   "source": [
    "# define the history variables to read in\n",
    "fields = [\n",
    "          # #have on to import these dimensions\n",
    "           'FATES_SEED_PROD_USTORY_SZ',\n",
    "           'FATES_VEGC_AP',\n",
    "          # #patches and cohorts\n",
    "           'FATES_NPATCHES',\n",
    "          # 'FATES_PATCHAREA_AP','FATES_CANOPYAREA_AP',\n",
    "           'FATES_NCOHORTS','FATES_NPATCH_AP',\n",
    "          # #structure\n",
    "          # #'FATES_LAI_AP',\n",
    "          # #density\n",
    "           'FATES_NPLANT_PF',\n",
    "           'FATES_NPLANT_SZAPPF',\n",
    "           'FATES_NPLANT_SZPF',\n",
    "           'FATES_NPLANT_ACPF',\n",
    "          # 'FATES_NPLANT_CANOPY_SZPF',\n",
    "          # 'FATES_NPLANT_USTORY_SZPF',\n",
    "          # #basal area\n",
    "          # 'FATES_BASALAREA_SZPF',\n",
    "          # #crown_area\n",
    "          # 'FATES_CANOPYCROWNAREA_PF',\n",
    "          # #'FATES_CANOPYAREA_HT',\n",
    "          # #'FATES_CROWNAREA_CLLL',\n",
    "          # 'FATES_CROWNAREA_PF',\n",
    "          # #biomass\n",
    "          # 'FATES_NPP_PF','FATES_RECRUITMENT_PF','FATES_NPLANT_PF','FATES_PATCHAREA_AP',\n",
    "          # 'FATES_MORTALITY_PF','FATES_NPATCHES','FATES_NCOHORTS','FATES_VEGC_PF',\n",
    "          # 'FATES_MORTALITY_CANOPY_SZAP','FATES_MORTALITY_USTORY_SZAP','FATES_SEED_BANK_TRS',\n",
    "          # 'FATES_SEEDLING_POOL_TRS','FATES_PARPROF_DIR_CLLL','FATES_PARPROF_DIF_CLLL',\n",
    "          # 'FATES_LAISUN_Z_CLLL','FATES_LAISHA_Z_CLLL','FATES_DDBH_CANOPY_SZAP',\n",
    "          # 'FATES_DDBH_USTORY_SZAP','FATES_SEED_PROD_USTORY_SZ','FATES_SEED_PROD_CANOPY_SZ',\n",
    "          # 'FATES_SEEDS_IN','FATES_SEEDS_IN_LOCAL'\n",
    "          # #growth\n",
    "          # #'FATES_DDBH_SZPF',\n",
    "          # #'FATES_DDBH_CANOPY_SZAP','FATES_DDBH_USTORY_SZAP',\n",
    "          # #mortality\n",
    "          # 'FATES_MORTALITY_PF',\n",
    "          # #'FATES_MORTALITY_CANOPY_SZAP','FATES_MORTALITY_USTORY_SZAP',\n",
    "          # 'FATES_MORTALITY_BACKGROUND_SZPF','FATES_MORTALITY_HYDRAULIC_SZPF','FATES_MORTALITY_CSTARV_SZPF',\n",
    "          # #'FATES_MORTALITY_IMPACT_SZPF',\n",
    "           'FATES_MORTALITY_FIRE_SZPF','FATES_MORTALITY_CROWNSCORCH_SZPF',\n",
    "          # #'FATES_MORTALITY_CANOPY_SZ','FATES_MORTALITY_USTORY_SZ',\n",
    "          # 'FATES_MORTALITY_SENESCENCE_SZPF',\n",
    "          # #seed production and recruitment\n",
    "          # #'FATES_SEED_PROD_USTORY_SZ','FATES_SEED_PROD_CANOPY_SZ',\n",
    "          # #'FATES_SEEDS_IN',\n",
    "          # 'FATES_SEED_BANK','FATES_SEED_ALLOC_SZPF',\n",
    "          # 'FATES_RECRUITMENT_PF',\n",
    "          # #GPP and NPP\n",
    "          # #'FATES_GPP','FATES_GPP_SZPF',\n",
    "          # 'FATES_NPP_PF','FATES_NPP_SZPF',\n",
    "          # 'FATES_AUTORESP_SZPF','FATES_MAINTAR_SZPF',\n",
    "          # #physical environment\n",
    "          # #Light\n",
    "          # #'FATES_LAISUN_Z_CLLL','FATES_LAISHA_Z_CLLL',\n",
    "          # #'FATES_LAISUN_Z_CLLLPF','FATES_LAISHA_Z_CLLLPF',\n",
    "          # #'FATES_PARSUN_Z_CLLLPF','FATES_PARSHA_Z_CLLLPF',\n",
    "          # #'FATES_PARPROF_DIR_CLLL','FATES_PARPROF_DIF_CLLL',\n",
    "          # #'FATES_PARPROF_DIF_CLLLPF','FATES_PARPROF_DIR_CLLLPF',\n",
    "          # #Litter\n",
    "          # 'FATES_CWD_ABOVEGROUND_DC',\n",
    "          # 'FATES_FUEL_AMOUNT',\n",
    "          # #CLM\n",
    "          #'QVEGT','QVEGE','QSOIL','TLAI','TBOT','RAIN','QBOT','Q2M',\n",
    "          #'BTRAN', 'SNOW','SOILPSI','H2OSOI','RH2M','Rnet','Rainf','TSA',\n",
    "          #H20\n",
    "          #'SMP'\n",
    "          # #allocation\n",
    "          # #'FATES_STOREC_CANOPY_SZPF','FATES_STOREC_USTORY_SZPF',\n",
    "          # #fire\n",
    "          'FATES_BURNFRAC','FATES_IGNITIONS','FATES_FIRE_INTENSITY_BURNFRAC',\n",
    "          'FATES_FUEL_BULKD','FATES_FUEL_SAV',\n",
    "          # 'FATES_DISTURBANCE_RATE_FIRE',\n",
    "          # 'FATES_FUEL_AMOUNT_AP',\n",
    "          # 'FATES_FIRE_INTENSITY_BURNFRAC_AP',\n",
    "           'FATES_BURNFRAC_AP',\n",
    "           'FATES_FUEL_AMOUNT_APFC',\n",
    "           'FATES_FUEL_AMOUNT',\n",
    "          # 'FATES_FDI',\n",
    "           'FATES_FIRE_INTENSITY',\n",
    "          # 'FATES_FUELCONSUMED',\n",
    "           'FATES_NESTEROV_INDEX',\n",
    "          # 'FATES_MORTALITY_CROWNSCORCH_SZPF',\n",
    "          # 'FATES_SCORCH_HEIGHT_APPF','FATES_FUEL_MEF',\n",
    "          # 'FATES_FUEL_EFF_MOIST','FATES_FUEL_MOISTURE_FC','FATES_ROS'\n",
    "          # 'FATES_MORTALITY_FIRE_CFLUX_PF'\n",
    "          ]"
   ]
  },
  {
   "cell_type": "code",
   "execution_count": null,
   "metadata": {},
   "outputs": [],
   "source": [
    "fields = ['FATES_NPLANT_PF','FATES_MORTALITY_PF','FATES_NPATCHES','FATES_VEGC_PF','FATES_MORTALITY_CANOPY_SZAP',\n",
    "'FATES_PATCHAREA_AP','FATES_CANOPYAREA_AP','FATES_VEGC_AP','FATES_CROWNAREA_CLLL','FATES_DDBH_CANOPY_SZAP',\n",
    "'FATES_DDBH_USTORY_SZAP','FATES_NPLANT_SZAPPF','FATES_NPLANT_SZPF','FATES_NPLANT_ACPF','FATES_NPLANT_CANOPY_SZPF',\n",
    "'FATES_CWD_ABOVEGROUND_DC','FATES_DDBH_SZPF','FATES_BASALAREA_SZPF','FATES_RECRUITMENT_PF',\n",
    "'FATES_GPP','FATES_GPP_SZPF','FATES_NPP_SZPF','FATES_NPP_PF','FATES_NCOHORTS','FATES_NPATCH_AP',\n",
    "'QSOIL','TLAI','TBOT','RAIN','QBOT','Q2M','FATES_SEED_PROD_USTORY_SZ','FATES_SEED_PROD_CANOPY_SZ',\n",
    "'FATES_SEEDS_IN','FATES_VEGC_ABOVEGROUND', 'FATES_VEGC_ABOVEGROUND_SZPF', 'FATES_CROWNAREA_PF',\n",
    "'FATES_CANOPYCROWNAREA_PF','FATES_CANOPYAREA_HT','FATES_BURNFRAC',\n",
    "'FATES_SEED_BANK','FATES_SEEDS_IN','FATES_SEED_ALLOC_SZPF','FATES_MORTALITY_SENESCENCE_SZPF',\n",
    "'FATES_AUTORESP_SZPF','FATES_MAINTAR_SZPF','SMP','FATES_CROWNAREA_PF','FATES_PARPROF_DIR_CLLL',\n",
    "'FATES_PARPROF_DIF_CLLL','FATES_PARPROF_DIR_CLLLPF','FATES_PARPROF_DIF_CLLLPF','FATES_FUEL_AMOUNT_AP',\n",
    "'FATES_FIRE_INTENSITY_BURNFRAC_AP', 'FATES_BURNFRAC_AP', 'FATES_FUEL_AMOUNT_APFC', 'FATES_FUEL_AMOUNT',\n",
    "'FATES_FDI','FATES_FIRE_INTENSITY','FATES_FUELCONSUMED','FATES_SCORCH_HEIGHT_APPF',\n",
    "'FATES_FUEL_MEF','FATES_FUEL_EFF_MOIST','FATES_FUEL_MOISTURE_FC','FATES_ROS','FATES_NESTEROV_INDEX',\n",
    "'FATES_FUEL_BULKD','FATES_FUEL_SAV','FATES_VEGC_APPF','FATES_NPP_APPF']\n"
   ]
  },
  {
   "cell_type": "markdown",
   "metadata": {},
   "source": [
    "### Define constants"
   ]
  },
  {
   "cell_type": "code",
   "execution_count": 4,
   "metadata": {},
   "outputs": [],
   "source": [
    "#Define constants\n",
    "s_per_yr = 31536000\n",
    "s_per_day = 3600 * 24\n",
    "m2_per_ha = 1e4\n",
    "g_per_kg = 1000\n",
    "mm_per_m = 1000\n",
    "months_per_yr = 12\n",
    "s_per_month = 3600 * 24 * 30.4\n",
    "\n",
    "Jan1_final_year = \"{}-01-01\".format(years_1[-1])\n",
    "Dec31_final_year = \"{}-12-31\".format(years_1[-1])"
   ]
  },
  {
   "cell_type": "markdown",
   "metadata": {},
   "source": [
    "<div class=\"alert alert-block alert-info\">\n",
    "These are the raw history files that CTSM writes out.  \n",
    "By default, they include grid cell averaged monthly means for different state and flux variables.\n",
    "<br><br>\n",
    "Typically we post-process these data to generate single variable time series for an experiment. \n",
    "This means that the full time series of model output for each variable, like rain, air temperature, or latent heat flux, are each in their own file.\n",
    "A post-processing tutorial will be available at a later date, but for now we'll just read in the monthly history files described above.\n",
    "\n",
    "</div>"
   ]
  },
  {
   "cell_type": "markdown",
   "metadata": {
    "tags": []
   },
   "source": [
    "### Define functions"
   ]
  },
  {
   "cell_type": "code",
   "execution_count": 5,
   "metadata": {},
   "outputs": [],
   "source": [
    "def pftLevelVarOverTime(n_pfts,var_name):\n",
    "    \"\"\"Function to plot a pft-level variable over time in facetted by pft\"\"\"\n",
    "    fig, axes = plt.subplots(4,figsize=(10,10),sharey = True)\n",
    "    for p in range(n_pfts):\n",
    "        ds[var_name].isel(fates_levpft=p).plot(ax = axes[p], color = pft_colors[p])\n",
    "    plt.tight_layout(pad=0.4, w_pad=0.5, h_pad=1.0)\n",
    "    plt.subplots_adjust(left=1, bottom=1, right=2, top=2, wspace=1, hspace=2)\n",
    "    \n",
    "    \n",
    "def scpf_to_scls_by_pft(scpf_var, dataset):\n",
    "    \"\"\"function to reshape a fates multiplexed size and pft-indexed variable to one indexed by size class and pft\n",
    "    first argument should be an xarray DataArray that has the FATES SCPF dimension\n",
    "    second argument should be an xarray Dataset that has the FATES SCLS dimension \n",
    "    (possibly the dataset encompassing the dataarray being transformed)\n",
    "    returns an Xarray DataArray with the size and pft dimensions disentangled\"\"\"\n",
    "    n_scls = len(dataset.fates_levscls)\n",
    "    ds_out = (scpf_var.rolling(fates_levscpf=n_scls, center=False)\n",
    "            .construct(\"fates_levscls\")\n",
    "            .isel(fates_levscpf=slice(n_scls-1, None, n_scls))\n",
    "            .rename({'fates_levscpf':'fates_levpft'})\n",
    "            .assign_coords({'fates_levscls':dataset.fates_levscls})\n",
    "            .assign_coords({'fates_levpft':dataset.fates_levpft}))\n",
    "    ds_out.attrs['long_name'] = scpf_var.attrs['long_name']\n",
    "    ds_out.attrs['units'] = scpf_var.attrs['units']\n",
    "    return(ds_out)\n",
    "\n",
    "def agefuel_to_age_by_fuel(agefuel_var, dataset): \n",
    "    n_age = len(dataset.fates_levage)\n",
    "    ds_out = (agefuel_var.rolling(fates_levagefuel = n_age, center=False).construct(\"fates_levage\")\n",
    "          .isel(fates_levagefuel=slice(n_age-1, None, n_age))\n",
    "          .rename({'fates_levagefuel':'fates_levfuel'})\n",
    "          .assign_coords({'fates_levage':dataset.fates_levage})\n",
    "          .assign_coords({'fates_levfuel':np.array([1,2,3,4,5,6])}))\n",
    "    return ds_out\n",
    "    #ds_out.attrs['long_name'] = agefuel_var['long_name']\n",
    "    #ds_out.attrs['units'] = agefuel_var['units']\n",
    "\n",
    "\n",
    "def SZPF_to_facetted_plot(var, axis_name, s_to_yr = False):\n",
    "    \n",
    "    var2 = scpf_to_scls_by_pft(var, ds)\n",
    "\n",
    "    #sum across size classes to get pft-level mort from hyd. failure.\n",
    "    var3 = var2.sum(axis=2)\n",
    "    \n",
    "    if s_to_yr == True:\n",
    "        var3 = var3 * s_per_yr\n",
    "\n",
    "    fig, axes = plt.subplots(ncols=2,nrows=2,figsize=(7,7), sharey = True)\n",
    "\n",
    "    for p,ax in zip(range(n_pfts),axes.ravel()):\n",
    "        var3.isel(fates_levpft=p).plot(x = \"time\", color = pft_colors[p],lw = 1, ax = ax)\n",
    "        ax.set_ylabel(axis_name)\n",
    "        ax.set_title(axis_name)\n",
    "\n",
    "    plt.tight_layout()\n",
    "    \n",
    "\n",
    "\n",
    "\n",
    "def xarray_to_csv(dataset, variable_name, output_csv_file):\n",
    "    \"\"\"\n",
    "    Extract a one-dimensional variable from an xarray dataset and write it to a CSV file.\n",
    "\n",
    "    Args:\n",
    "        dataset (xarray.Dataset): The input xarray dataset.\n",
    "        variable_name (str): The name of the variable to extract.\n",
    "        output_csv_file (str): The name of the output CSV file.\n",
    "    \"\"\"\n",
    "    # Ensure the variable exists in the dataset and is one-dimensional\n",
    "    if variable_name not in dataset.variables:\n",
    "        raise ValueError(f\"{variable_name} not found in the dataset\")\n",
    "    variable = dataset[variable_name]\n",
    "    if len(variable.dims) != 1 or variable.dims[0] != \"time\":\n",
    "        raise ValueError(f\"{variable_name} must be a one-dimensional variable with the 'time' dimension\")\n",
    "\n",
    "    # Convert the xarray DataArray to a pandas DataFrame\n",
    "    df = variable.to_dataframe().reset_index()\n",
    "\n",
    "    # Write the DataFrame to a CSV file\n",
    "    df.to_csv(output_csv_file, index=False, columns=[\"time\", variable_name])\n",
    "\n",
    "\n",
    "\n",
    "    \n",
    "#ds.FATES_PARSUN_Z_CLLLPF\n",
    "\n",
    "\n",
    "#n_age = len(ds.fates_levage)\n",
    "\n",
    "#ds.FATES_FUEL_AMOUNT_APFC.rolling(fates_levagefuel = n_age, center=False).construct(\"fates_levage\").isel(fates_levagefuel=slice(n_age-1, None, n_age))\n",
    "          # .rename({'fates_levagefuel':'fates_levfuel'})\n",
    "          # .assign_coords({'fates_levage':dataset.fates_levage})\n",
    "          # .assign_coords({'fates_levfuel':np.array([1,2,3,4,5,6])}))\n",
    "    #return ds_out\n",
    "    #ds_out.attrs['long_name'] = agefuel_var['long_name']\n",
    "    #ds_out.attrs['units'] = agefuel_var['units']\n",
    "\n",
    "# def clllpf_to_cl_ll_pf(clllpf_var, dataset):\n",
    "#     n_cl = 2\n",
    "#     cl_llpf = (clllpf_var.rolling(fates_levcnlfpf = n_cl, center=False).construct(\"fates_levcl\")\n",
    "#         .isel(fates_levcnlfpf=slice(n_cl-1, None, n_cl))\n",
    "#         .rename({'fates_levcnlfpf':'fates_levllpf'})\n",
    "#         .assign_coords({'fates_levcl':np.array([1,2])})\n",
    "#         .assign_coords({'fates_levllpf':np.arange(0,120)}))\n",
    "    \n",
    "#     cl_ll_pf = (cl_llpf.rolling(fates_levllpf = n_pfts, center=False).construct(\"fates_levpft\")\n",
    "#                 .isel(fates_levllpf=slice(n_pfts-1, None, n_pfts))\n",
    "#                 .rename({\"fates_levllpf\":\"fates_levll\"})\n",
    "#                 .assign_coords({\"fates_levll\":np.arange(0,30)})\n",
    "#                 .assign_coords({\"fates_levpft\":dataset.fates_levpft}))\n",
    "    \n",
    "#     return cl_ll_pf \n",
    "\n",
    "# test = clllpf_to_cl_ll_pf(ds.FATES_LAISUN_Z_CLLLPF,ds)\n",
    "# test\n",
    "\n",
    "\n",
    "def appf_to_ap_by_pft(appf_var, dataset):\n",
    "    \"\"\"function to reshape a fates multiplexed size and pft-indexed variable to one indexed by size class and pft\n",
    "    first argument should be an xarray DataArray that has the FATES SCPF dimension\n",
    "    second argument should be an xarray Dataset that has the FATES SCLS dimension \n",
    "    (possibly the dataset encompassing the dataarray being transformed)\n",
    "    returns an Xarray DataArray with the size and pft dimensions disentangled\"\"\"\n",
    "    n_ap = len(dataset.fates_levage)\n",
    "    ds_out = (appf_var.rolling(fates_levagepft=n_ap, center=False)\n",
    "            .construct(\"fates_levage\")\n",
    "            .isel(fates_levagepft=slice(n_ap-1, None, n_ap))\n",
    "            .rename({'fates_levagepft':'fates_levpft'})\n",
    "            .assign_coords({'fates_levage':dataset.fates_levage})\n",
    "            .assign_coords({'fates_levpft':dataset.fates_levpft}))\n",
    "    #ds_out.attrs['long_name'] = scpf_var.attrs['long_name']\n",
    "    #ds_out.attrs['units'] = scpf_var.attrs['units']\n",
    "    return(ds_out)\n",
    "\n",
    "def xarray_to_csv(dataset, variable_name, output_csv_file):\n",
    "    \"\"\"\n",
    "    Extract a one-dimensional variable from an xarray dataset and write it to a CSV file.\n",
    "\n",
    "    Args:\n",
    "        dataset (xarray.Dataset): The input xarray dataset.\n",
    "        variable_name (str): The name of the variable to extract.\n",
    "        output_csv_file (str): The name of the output CSV file.\n",
    "    \"\"\"\n",
    "    # Ensure the variable exists in the dataset and is one-dimensional\n",
    "    if variable_name not in dataset.variables:\n",
    "        raise ValueError(f\"{variable_name} not found in the dataset\")\n",
    "    variable = dataset[variable_name]\n",
    "    if len(variable.dims) != 1 or variable.dims[0] != \"time\":\n",
    "        raise ValueError(f\"{variable_name} must be a one-dimensional variable with the 'time' dimension\")\n",
    "\n",
    "    # Convert the xarray DataArray to a pandas DataFrame\n",
    "    df = variable.to_dataframe().reset_index()\n",
    "\n",
    "    # Write the DataFrame to a CSV file\n",
    "    df.to_csv(output_csv_file, index=False, columns=[\"time\", variable_name])\n",
    "    \n",
    "    \n",
    "def plot_appf(xarr, xds, n_pfts, sup_title, ylabel, output_path):\n",
    "\n",
    "    xarr = appf_to_ap_by_pft(xarr, xds)\n",
    "\n",
    "    n_age = len(xds.fates_levage)\n",
    "\n",
    "    ncol,nrow = get_n_subplots(n_age)\n",
    "\n",
    "    nbase = getNBase(xarr) * 2\n",
    "\n",
    "    fig, axes = plt.subplots(ncols=ncol,nrows=nrow,figsize=(12,10))\n",
    "\n",
    "    for age,ax in zip(range(n_age),axes.ravel()):\n",
    "\n",
    "         cca = xarr.isel(fates_levage = age) / xds.FATES_PATCHAREA_AP.isel(fates_levage = age)\n",
    "\n",
    "         for p in range(n_pfts):\n",
    "             cca.isel(fates_levpft=p).plot(x = \"time\",\n",
    "                      color = pft_colors[p],lw = int(line_width/0.75),add_legend = True,\n",
    "                      label = pft_names[p], ax = ax)\n",
    "\n",
    "             #plt.legend()\n",
    "         ax.set_title('{} yr old patches'.format(xds.fates_levage.values[age]))\n",
    "         ax.set_ylabel(ylabel,fontsize = int(fontsize * 0.75))\n",
    "         ax.xaxis.set_major_formatter(DateFormatter('%Y'))\n",
    "         ax.xaxis.set_major_locator(mdates.YearLocator(base=nbase))\n",
    "\n",
    "    plt.tight_layout()\n",
    "    plt.subplots_adjust(hspace=1,wspace=0.2)\n",
    "    fig.suptitle(sup_title, fontsize=fontsize,y=0.99)\n",
    "\n",
    "    #plt.savefig(output_path + \"/\" + sup_title.replace(\" \",\"\") + \".pdf\")\n",
    "    #plt.savefig(output_path + \"/\" + sup_title.replace(\" \",\"\") + \".png\")\n",
    "    \n",
    "    \n",
    "def appf_to_ap_by_pft(appf_var, dataset):\n",
    "    \"\"\"function to reshape a fates multiplexed size and pft-indexed variable to one indexed by size class and pft\n",
    "    first argument should be an xarray DataArray that has the FATES SCPF dimension\n",
    "    second argument should be an xarray Dataset that has the FATES SCLS dimension \n",
    "    (possibly the dataset encompassing the dataarray being transformed)\n",
    "    returns an Xarray DataArray with the size and pft dimensions disentangled\"\"\"\n",
    "    n_ap = len(dataset.fates_levage)\n",
    "    ds_out = (appf_var.rolling(fates_levagepft=n_ap, center=False)\n",
    "            .construct(\"fates_levage\")\n",
    "            .isel(fates_levagepft=slice(n_ap-1, None, n_ap))\n",
    "            .rename({'fates_levagepft':'fates_levpft'})\n",
    "            .assign_coords({'fates_levage':dataset.fates_levage})\n",
    "            .assign_coords({'fates_levpft':dataset.fates_levpft}))\n",
    "    #ds_out.attrs['long_name'] = scpf_var.attrs['long_name']\n",
    "    #ds_out.attrs['units'] = scpf_var.attrs['units']\n",
    "    return(ds_out)\n",
    "\n",
    "\n",
    "def get_n_subplots(n_pfts):\n",
    "\n",
    "    if (n_pfts % 2 == 0) | (n_pfts == 1):\n",
    "        n_subplots = n_pfts\n",
    "    else:\n",
    "        n_subplots = n_pfts + 1\n",
    "\n",
    "    if n_subplots == 1:\n",
    "        ncol = 1\n",
    "        nrow = 1\n",
    "\n",
    "    else:\n",
    "        ncol = 2\n",
    "        nrow = n_subplots / ncol\n",
    "\n",
    "    return (ncol,int(nrow))\n",
    "\n",
    "def getNBase(xarr):\n",
    "    nyears = len(np.unique(pd.to_datetime(xarr.time).year))\n",
    "    nbase = max(nyears // n_ticks, 1)\n",
    "    return(nbase)\n",
    "\n",
    "def cca_by_patch_age(ds):\n",
    "\n",
    "    canopy_crown_area_by_patch_age = appf_to_ap_by_pft(ds.FATES_CANOPYCROWNAREA_APPF, ds)\n",
    "\n",
    "    canopy_crown_area_by_patch_age = canopy_crown_area_by_patch_age / ds.FATES_PATCHAREA_AP\n",
    "\n",
    "    for p in range(n_pfts):\n",
    "        canopy_crown_area_by_patch_age.isel(fates_levpft = p).mean(axis = 0).plot(x = \"fates_levage\",color = pft_colors[p], linewidth = 3)\n",
    "\n",
    "    plt.title(\"Canopy Crown Area [m2 m-2\")\n",
    "    plt.xlabel(\"Patch age\")\n",
    "    \n",
    "    \n",
    "def plot_appf(xarr, xds, n_pfts, sup_title, ylabel, output_path):\n",
    "\n",
    "    xarr = appf_to_ap_by_pft(xarr, xds)\n",
    "\n",
    "    n_age = len(xds.fates_levage)\n",
    "\n",
    "    ncol,nrow = get_n_subplots(n_age)\n",
    "\n",
    "    #nbase = getNBase(xarr) * 2\n",
    "\n",
    "    fig, axes = plt.subplots(ncols=ncol,nrows=nrow,figsize=(12,10))\n",
    "\n",
    "    for age,ax in zip(range(n_age),axes.ravel()):\n",
    "\n",
    "         cca = xarr.isel(fates_levage = age) / xds.FATES_PATCHAREA_AP.isel(fates_levage = age)\n",
    "\n",
    "         for p in range(n_pfts):\n",
    "             cca.isel(fates_levpft=p).plot(x = \"time\",\n",
    "                      color = pft_colors[p],lw = 3,add_legend = True,\n",
    "                      label = pft_names[p], ax = ax)\n",
    "\n",
    "             #plt.legend()\n",
    "         ax.set_title('{} yr old patches'.format(xds.fates_levage.values[age]))\n",
    "         ax.set_ylabel(ylabel,fontsize = int(12 * 0.75))\n",
    "         ax.xaxis.set_major_formatter(DateFormatter('%Y'))\n",
    "         #ax.xaxis.set_major_locator(mdates.YearLocator(base=nbase))\n",
    "\n",
    "    plt.tight_layout()\n",
    "    plt.subplots_adjust(hspace=1,wspace=0.2)\n",
    "    fig.suptitle(sup_title, fontsize=12,y=0.99)\n",
    "    \n",
    "    \n",
    "    \n",
    "def get_mean_annual_burn_frac(ds,start_date,end_date):\n",
    "    burnfrac = ds.FATES_BURNFRAC.sel(time = slice(start_date,end_date)).values.mean()  * s_per_yr\n",
    "    return np.round(burnfrac,3)\n",
    "\n",
    "\n",
    "def multiple_netcdf_to_xarray(path, case, years, fields, inst = None, manual_path = None):\n",
    "    \n",
    "    if case == None:\n",
    "        return None\n",
    "    \n",
    "    months = list(range(1, 13, 1))\n",
    "\n",
    "    # build a list of file names based on the year and month\n",
    "    \n",
    "    if inst == None:\n",
    "    \n",
    "        file_names = [f\"{case}.clm2.h0.{str(year)}-{str(month).rjust(2, '0')}.nc\"\n",
    "                  for year in years for month in months]\n",
    "    else:\n",
    "        file_names = [f\"{case}.clm2_{inst}.h0.{str(year)}-{str(month).rjust(2, '0')}.nc\"\n",
    "                  for year in years for month in months]\n",
    "\n",
    "    if manual_path != None:\n",
    "        full_paths = [os.path.join(manual_path, fname) for fname in file_names]\n",
    "    \n",
    "    else:\n",
    "    # create their full path\n",
    "        full_paths = [os.path.join(path, case, 'lnd/hist', fname) for fname in file_names]\n",
    "\n",
    "    # open the dataset -- this may take a bit of time\n",
    "    ds = fix_time(xr.open_mfdataset(full_paths, decode_times=True,\n",
    "                                    preprocess=functools.partial(preprocess, fields=fields)))\n",
    "\n",
    "    print('-- your data have been read in -- ')\n",
    "    \n",
    "    return(ds)"
   ]
  },
  {
   "cell_type": "markdown",
   "metadata": {},
   "source": [
    "### Open files & load variables\n",
    "\n",
    "This is done with the xarray function `open_mfdataset`\n",
    "\n",
    "To make this go faster, we're going to preprocess the data so we're just reading the variables we want to look at."
   ]
  },
  {
   "cell_type": "code",
   "execution_count": 6,
   "metadata": {},
   "outputs": [
    {
     "name": "stdout",
     "output_type": "stream",
     "text": [
      "-- your data have been read in -- \n",
      "['FATES_SEED_PROD_USTORY_SZ', 'FATES_VEGC_AP', 'FATES_NPATCHES', 'FATES_PATCHAREA_AP', 'FATES_CANOPYAREA_AP', 'FATES_NCOHORTS', 'FATES_NPATCH_AP', 'FATES_NPLANT_PF', 'FATES_NPLANT_SZAPPF', 'FATES_NPLANT_SZPF', 'FATES_NPLANT_ACPF', 'FATES_NPLANT_CANOPY_SZPF', 'FATES_NPLANT_USTORY_SZPF', 'FATES_BASALAREA_SZPF', 'FATES_CANOPYCROWNAREA_PF', 'FATES_CANOPYCROWNAREA_APPF', 'FATES_CROWNAREA_PF', 'FATES_VEGC_PF', 'FATES_VEGC_AP', 'FATES_VEGC_ABOVEGROUND', 'FATES_VEGC_ABOVEGROUND_SZPF', 'FATES_MORTALITY_PF', 'FATES_MORTALITY_BACKGROUND_SZPF', 'FATES_MORTALITY_HYDRAULIC_SZPF', 'FATES_MORTALITY_CSTARV_SZPF', 'FATES_MORTALITY_FIRE_SZPF', 'FATES_MORTALITY_CROWNSCORCH_SZPF', 'FATES_MORTALITY_SENESCENCE_SZPF', 'FATES_SEED_BANK', 'FATES_SEEDBANK_PF', 'FATES_SEED_ALLOC_SZPF', 'FATES_RECRUITMENT_PF', 'FATES_NPP_PF', 'FATES_NPP_SZPF', 'FATES_AUTORESP_SZPF', 'FATES_MAINTAR_SZPF', 'FATES_LAISUN_Z_CLLL', 'FATES_LAISHA_Z_CLLL', 'FATES_LAISUN_Z_CLLLPF', 'FATES_LAISHA_Z_CLLLPF', 'FATES_PARSUN_Z_CLLLPF', 'FATES_PARSHA_Z_CLLLPF', 'FATES_PARPROF_DIR_CLLL', 'FATES_PARPROF_DIF_CLLL', 'FATES_PARPROF_DIF_CLLLPF', 'FATES_PARPROF_DIR_CLLLPF', 'FATES_CWD_ABOVEGROUND_DC', 'FATES_FUEL_AMOUNT', 'QVEGT', 'QVEGE', 'QSOIL', 'TLAI', 'TBOT', 'RAIN', 'QBOT', 'Q2M', 'SMP', 'FATES_BURNFRAC', 'FATES_IGNITIONS', 'FATES_FIRE_INTENSITY_BURNFRAC', 'FATES_FUEL_BULKD', 'FATES_FUEL_SAV', 'FATES_DISTURBANCE_RATE_FIRE', 'FATES_FUEL_AMOUNT_APFC', 'FATES_FUEL_AMOUNT', 'FATES_FDI', 'FATES_FIRE_INTENSITY', 'FATES_FUELCONSUMED', 'FATES_NESTEROV_INDEX', 'FATES_MORTALITY_CROWNSCORCH_SZPF', 'FATES_FUEL_EFF_MOIST', 'FATES_FUEL_MOISTURE_FC', 'FATES_ROS']\n"
     ]
    }
   ],
   "source": [
    "def preprocess(ds, fields):\n",
    "    '''Selects the variables we want to read in \n",
    "       Drops lndgrid because we are on a single point'''\n",
    "    \n",
    "    return ds[fields].sel(lndgrid=0)\n",
    "\n",
    "\n",
    "def fix_time(ds):\n",
    "    '''Does a quick fix to adjust time vector for monthly data'''\n",
    "    nmonths = len(ds.time)\n",
    "    yr0 = ds['time.year'][0].values\n",
    "    ds['time'] = xr.cftime_range(str(yr0), periods=nmonths, freq='MS')\n",
    "\n",
    "    return ds\n",
    "\n",
    "\n",
    "# open the dataset -- this may take a bit of time \n",
    "# ds = fix_time(xr.open_mfdataset(full_paths, decode_times=True,\n",
    "#                                 preprocess=functools.partial(preprocess, fields=fields)))\n",
    "\n",
    "print('-- your data have been read in -- ')\n",
    "print(fields)"
   ]
  },
  {
   "cell_type": "code",
   "execution_count": 8,
   "metadata": {},
   "outputs": [
    {
     "name": "stdout",
     "output_type": "stream",
     "text": [
      "-- your data have been read in -- \n"
     ]
    }
   ],
   "source": [
    "years = list(range(2040, 2049))\n",
    "ds = multiple_netcdf_to_xarray(sim_root, \"conifer-allom-090123_5pfts_-17e2acb6a_FATES-55794e61\", years, fields, inst = \"0007\",manual_path='/glade/scratch/adamhb/archive/conifer-allom-090123_5pfts_-17e2acb6a_FATES-55794e61/run')"
   ]
  },
  {
   "cell_type": "markdown",
   "metadata": {},
   "source": [
    "### Temp: get vars out of bci simulations"
   ]
  },
  {
   "cell_type": "code",
   "execution_count": null,
   "metadata": {},
   "outputs": [],
   "source": [
    "#xarray_to_csv(ds.isel(fates_levpft = 0), variable_name=\"FATES_RECRUITMENT_PF\",output_csv_file=\"/glade/u/home/adamhb/bci_test_output/rec_fates_main.csv\")\n",
    "#xarray_to_csv(ds.isel(fates_levpft = 0), variable_name=\"FATES_NPP_PF\",output_csv_file=\"/glade/u/home/adamhb/bci_test_output/npp_fates_main.csv\")"
   ]
  },
  {
   "cell_type": "markdown",
   "metadata": {},
   "source": [
    "## Patch and cohort dynamics"
   ]
  },
  {
   "cell_type": "code",
   "execution_count": null,
   "metadata": {},
   "outputs": [],
   "source": [
    "ds.FATES_NPATCHES.plot()"
   ]
  },
  {
   "cell_type": "code",
   "execution_count": null,
   "metadata": {},
   "outputs": [],
   "source": [
    "ds.FATES_PATCHAREA_AP.sel(fates_levage = 1.0).plot()"
   ]
  },
  {
   "cell_type": "code",
   "execution_count": null,
   "metadata": {},
   "outputs": [],
   "source": [
    "ds.FATES_PATCHAREA_AP.plot(x = \"time\")"
   ]
  },
  {
   "cell_type": "code",
   "execution_count": null,
   "metadata": {},
   "outputs": [],
   "source": [
    "ds.FATES_NCOHORTS.plot(x = \"time\")"
   ]
  },
  {
   "cell_type": "markdown",
   "metadata": {},
   "source": [
    "## Biomass\n",
    "### Total biomass over time"
   ]
  },
  {
   "cell_type": "code",
   "execution_count": null,
   "metadata": {},
   "outputs": [],
   "source": [
    "for p in range(n_pfts):\n",
    "    ds.FATES_VEGC_PF.isel(fates_levpft=p).plot(color = pft_colors[p], linewidth = 5)\n",
    "    \n",
    "plt.title(\"Total Live Biomass [kg m-2]\")"
   ]
  },
  {
   "cell_type": "markdown",
   "metadata": {},
   "source": [
    "## Basal area"
   ]
  },
  {
   "cell_type": "markdown",
   "metadata": {},
   "source": [
    "### PFT-level basal area over time"
   ]
  },
  {
   "cell_type": "code",
   "execution_count": null,
   "metadata": {},
   "outputs": [],
   "source": [
    "#disentangle the multiplexed size class X pft dimension\n",
    "basal_area = scpf_to_scls_by_pft(ds.FATES_BASALAREA_SZPF, ds)\n",
    "\n",
    "#sum across size classes to get pft-level ba\n",
    "basal_area_pf = basal_area.sum(axis=2)\n",
    "\n",
    "#plot pft-level basal area over time\n",
    "for p in range(n_pfts):\n",
    "    ba_per_ha = basal_area_pf.isel(fates_levpft=p) * m2_per_ha\n",
    "    ba_per_ha.plot(x = \"time\", color = pft_colors[p],lw = 5, add_legend = True, marker = \"o\")\n",
    "\n",
    "plt.ylabel('BA [m-2 ha-1]', fontsize=12)\n",
    "plt.title('Basal Area')"
   ]
  },
  {
   "cell_type": "code",
   "execution_count": null,
   "metadata": {},
   "outputs": [],
   "source": [
    "def get_frac_pft_level_basal_area(ds,pft_i,date,dbh_min = 0):\n",
    "    basal_area = scpf_to_scls_by_pft(ds.FATES_BASALAREA_SZPF, ds)\n",
    "    basal_area = basal_area.sel(fates_levscls = slice(dbh_min,None)).sel(time = date)\n",
    "    total_basal_area = basal_area.sum(axis=2).sum(axis = 1)\n",
    "    basal_area_pf = basal_area.isel(fates_levpft = pft_i).sum(axis = 1)\n",
    "    frac_ba = basal_area_pf.values[0] / total_basal_area.values[0]\n",
    "    return frac_ba\n"
   ]
  },
  {
   "cell_type": "code",
   "execution_count": null,
   "metadata": {},
   "outputs": [],
   "source": [
    "get_frac_pft_level_basal_area(ds,3,\"2047-01-01\",None)"
   ]
  },
  {
   "cell_type": "markdown",
   "metadata": {},
   "source": [
    "### Mean size class distribution for time slice"
   ]
  },
  {
   "cell_type": "code",
   "execution_count": null,
   "metadata": {},
   "outputs": [],
   "source": [
    "#disentangle the multiplexed size class X pft dimension\n",
    "basal_area = scpf_to_scls_by_pft(ds.FATES_BASALAREA_SZPF, ds)\n",
    "\n",
    "#get basal area in final time step\n",
    "basal_area = basal_area.sel(time = \"2049-07-01\")\n",
    "\n",
    "fig, axes = plt.subplots(ncols=2,nrows=3,figsize=(7,7))\n",
    "\n",
    "for p,ax in zip(range(n_pfts),axes.ravel()):\n",
    "    ba_m2_ha = basal_area.isel(fates_levpft=p) * m2_per_ha\n",
    "    ba_m2_ha.plot(ax=ax, x = \"fates_levscls\", marker = \"o\", lw = 0, \n",
    "                                                        color = pft_colors[p], markersize = 7)\n",
    "    ax.title.set_text('{}'.format(pft_names[p]))\n",
    "    ax.set_ylabel('BA [m-2 ha-1]')\n",
    "    \n",
    "\n",
    "plt.tight_layout()\n",
    "plt.subplots_adjust(hspace=0.7,wspace=0.4)"
   ]
  },
  {
   "cell_type": "code",
   "execution_count": null,
   "metadata": {},
   "outputs": [],
   "source": [
    "ds.fates_levscls"
   ]
  },
  {
   "cell_type": "code",
   "execution_count": null,
   "metadata": {},
   "outputs": [],
   "source": [
    "#disentangle the multiplexed size class X pft dimension\n",
    "basal_area = scpf_to_scls_by_pft(ds.FATES_BASALAREA_SZPF, ds)\n",
    "basal_area_final_timestep = basal_area.sel(time = \"2051-04-01\")\n",
    "basal_area_final_timestep = basal_area_final_timestep  * m2_per_ha\n",
    "print(basal_area_final_timestep.isel(fates_levpft = 1).values)"
   ]
  },
  {
   "cell_type": "code",
   "execution_count": null,
   "metadata": {},
   "outputs": [],
   "source": [
    "#disentangle the multiplexed size class X pft dimension\n",
    "basal_area = scpf_to_scls_by_pft(ds.FATES_BASALAREA_SZPF, ds)\n",
    "basal_area_final_timestep = basal_area.sel(time = \"2051-07-01\")\n",
    "basal_area_final_timestep = basal_area_final_timestep  * m2_per_ha\n",
    "print(basal_area_final_timestep.isel(fates_levpft = 1).values)"
   ]
  },
  {
   "cell_type": "markdown",
   "metadata": {},
   "source": [
    "## Crown area"
   ]
  },
  {
   "cell_type": "code",
   "execution_count": null,
   "metadata": {},
   "outputs": [],
   "source": [
    "plt.rcParams.update({'axes.titlesize': 'large', 'axes.labelsize':'large'})\n",
    "\n",
    "for p in range(n_pfts):\n",
    "    ds.FATES_CANOPYCROWNAREA_PF.isel(fates_levpft=p).sel(time = slice(\"1900-01-01\",\"1926-01-01\")).plot(color = pft_colors[p], linewidth = 5)\n",
    "    \n",
    "plt.title(\"Canopy Crown Area [m2 m-2\")\n",
    "plt.xlabel(\"year\")"
   ]
  },
  {
   "cell_type": "markdown",
   "metadata": {},
   "source": [
    "### Canopy crown area by patch age"
   ]
  },
  {
   "cell_type": "code",
   "execution_count": null,
   "metadata": {},
   "outputs": [],
   "source": [
    "cca_by_patch_age(ds)"
   ]
  },
  {
   "cell_type": "code",
   "execution_count": null,
   "metadata": {},
   "outputs": [],
   "source": [
    "def cca_by_patch_age(ds):\n",
    "\n",
    "    canopy_crown_area_by_patch_age = appf_to_ap_by_pft(ds.FATES_CANOPYCROWNAREA_APPF, ds)\n",
    "\n",
    "    canopy_crown_area_by_patch_age = canopy_crown_area_by_patch_age / ds.FATES_PATCHAREA_AP\n",
    "\n",
    "    for p in range(n_pfts):\n",
    "        canopy_crown_area_by_patch_age.isel(fates_levpft = p).mean(axis = 0).plot(x = \"fates_levage\",color = pft_colors[p], linewidth = 3)\n",
    "\n",
    "    plt.title(\"Canopy Crown Area [m2 m-2\")\n",
    "    plt.xlabel(\"Patch age\")"
   ]
  },
  {
   "cell_type": "code",
   "execution_count": null,
   "metadata": {},
   "outputs": [],
   "source": [
    "canopy_crown_area_by_patch_age = appf_to_ap_by_pft(ds.FATES_CANOPYCROWNAREA_APPF, ds)\n",
    "\n",
    "canopy_crown_area_by_patch_age = canopy_crown_area_by_patch_age.isel(fates_levage = 0).isel(fates_levpft = 3) / ds.FATES_PATCHAREA_AP.isel(fates_levage = 0)\n",
    "\n",
    "canopy_crown_area_by_patch_age.mean(axis = 0).values"
   ]
  },
  {
   "cell_type": "code",
   "execution_count": null,
   "metadata": {},
   "outputs": [],
   "source": [
    "cca_by_patch_age(ds)"
   ]
  },
  {
   "cell_type": "code",
   "execution_count": null,
   "metadata": {},
   "outputs": [],
   "source": [
    "canopy_crown_area_by_patch_age = appf_to_ap_by_pft(ds.FATES_CANOPYCROWNAREA_APPF, ds)\n",
    "\n",
    "canopy_crown_area_by_patch_age = canopy_crown_area_by_patch_age / ds.FATES_PATCHAREA_AP\n",
    "\n",
    "canopy_crown_area_by_patch_age.isel(fates_levpft = 3).mean(axis = 0).plot(x = \"fates_levage\")"
   ]
  },
  {
   "cell_type": "markdown",
   "metadata": {},
   "source": [
    "### Canopy crown area by patch age over time"
   ]
  },
  {
   "cell_type": "code",
   "execution_count": null,
   "metadata": {},
   "outputs": [],
   "source": [
    "plot_appf(ds.FATES_CANOPYCROWNAREA_APPF,\n",
    "          ds,n_pfts,\n",
    "          sup_title=\"Canopy crown area\",\n",
    "          ylabel=\"Canopy crown area [m2 m-2]\",\n",
    "          output_path=\"/glade/u/home/adamhb/misc\")"
   ]
  },
  {
   "cell_type": "code",
   "execution_count": null,
   "metadata": {},
   "outputs": [],
   "source": [
    "canopy_crown_area_by_patch_age.sel(fates_levage = 0).sel(fates_levpft = 3).plot(x = \"time\")"
   ]
  },
  {
   "cell_type": "markdown",
   "metadata": {},
   "source": [
    "## Canopy area height"
   ]
  },
  {
   "cell_type": "code",
   "execution_count": null,
   "metadata": {},
   "outputs": [],
   "source": [
    "ds.FATES_CANOPYAREA_HT"
   ]
  },
  {
   "cell_type": "code",
   "execution_count": null,
   "metadata": {},
   "outputs": [],
   "source": [
    "ds.FATES_CANOPYAREA_HT.plot(x = \"time\")"
   ]
  },
  {
   "cell_type": "markdown",
   "metadata": {},
   "source": [
    "## Stem density"
   ]
  },
  {
   "cell_type": "markdown",
   "metadata": {},
   "source": [
    "### Change in stem density over time"
   ]
  },
  {
   "cell_type": "code",
   "execution_count": null,
   "metadata": {},
   "outputs": [],
   "source": [
    "ds.FATES_NPLANT_PF"
   ]
  },
  {
   "cell_type": "code",
   "execution_count": null,
   "metadata": {},
   "outputs": [],
   "source": [
    "index_to_exclude = 3  # Replace this with the index you want to exclude\n",
    "dim = 'fates_levpft'             # Replace this with the dimension from which you want to exclude the index\n",
    "\n",
    "# Get all indices except the one to exclude\n",
    "all_except_one = [i for i in range(ds.FATES_NPLANT_PF.sizes[dim]) if i != index_to_exclude]\n",
    "\n",
    "# Use isel to select the remaining indices\n",
    "selected_data = ds.FATES_NPLANT_PF.isel({dim: all_except_one})\n",
    "total_stem_density = selected_data.sum(axis = 1) * m2_per_ha\n",
    "\n",
    "\n",
    "#total_stem_density = ds.FATES_NPLANT_PF.isel(fates_levpft .sum(axis = 1) * m2_per_ha\n",
    "total_stem_density.plot()"
   ]
  },
  {
   "cell_type": "code",
   "execution_count": null,
   "metadata": {},
   "outputs": [],
   "source": [
    "#pftLevelVarOverTime(4,\"FATES_NPLANT_PF\")\n",
    "stem_den = ds.FATES_NPLANT_PF * m2_per_ha\n",
    "\n",
    "\n",
    "#plot pft-level basal area over time\n",
    "for p in range(n_pfts):\n",
    "    stem_den.isel(fates_levpft=p).plot(x = \"time\", color = pft_colors[p],lw = 5)\n",
    "\n",
    "plt.ylabel('Stem density [N ha-1]', fontsize=12)\n",
    "plt.title('Stem density')\n",
    "plt.show()"
   ]
  },
  {
   "cell_type": "markdown",
   "metadata": {},
   "source": [
    "### Stem density by size class"
   ]
  },
  {
   "cell_type": "code",
   "execution_count": null,
   "metadata": {},
   "outputs": [],
   "source": [
    "stem_den_scls"
   ]
  },
  {
   "cell_type": "code",
   "execution_count": null,
   "metadata": {},
   "outputs": [],
   "source": [
    "fig, ax = plt.subplots()\n",
    "\n",
    "stem_den_scls_pf = scpf_to_scls_by_pft(ds.FATES_NPLANT_SZPF,ds) * m2_per_ha\n",
    "stem_den_scls_pre = stem_den_scls_pf.isel(fates_levpft = 0).sel(time = \"2070-01-01\")\n",
    "\n",
    "stem_den_scls_pre.plot(marker = \"o\", lw = 0.0001, ax = ax)\n",
    "\n",
    "\n",
    "#stem_den_scls_pf = scpf_to_scls_by_pft(ds.FATES_NPLANT_SZPF,ds) * m2_per_ha\n",
    "#stem_den_scls = stem_den_scls_pf.sum(axis = 1).sel(time = \"1998-01-01\")\n",
    "#print(stem_den_scls.values.sum(axis = 1))\n",
    "#stem_den_scls.plot(marker = \"o\", lw = 0.0001, ax = ax, color = \"red\")\n",
    "\n",
    "plt.ylabel(\"stem density [N ha-1]\")\n",
    "plt.title(\"Stem size distribution\")\n",
    "\n",
    "\n",
    "#fig, ax = plt.subplots()\n",
    "\n",
    "# Plot the data\n",
    "#ax.plot(x, y)\n",
    "\n",
    "# Set the y-axis limits\n",
    "#ax.set_ylim(0, 60)\n",
    "\n",
    "# Show the plot\n",
    "#plt.show()"
   ]
  },
  {
   "cell_type": "code",
   "execution_count": null,
   "metadata": {},
   "outputs": [],
   "source": [
    "stem_den_scls_pf = scpf_to_scls_by_pft(ds.FATES_NPLANT_SZPF,ds) * m2_per_ha\n",
    "stem_den_scls = stem_den_scls_pf.sum(axis = 1).sel(time = \"2051-07-01\")\n",
    "\n",
    "stem_den_scls.plot(marker = \"o\", lw = 0.0001)\n",
    "plt.ylabel(\"stem density [N ha-1]\")\n",
    "plt.title(\"Stem size distribution after thinning\")"
   ]
  },
  {
   "cell_type": "markdown",
   "metadata": {},
   "source": [
    "### On separate axes"
   ]
  },
  {
   "cell_type": "code",
   "execution_count": null,
   "metadata": {},
   "outputs": [],
   "source": [
    "fig, axes = plt.subplots(ncols=2,nrows=3,figsize=(7,7))\n",
    "\n",
    "for p,ax in zip(range(n_pfts),axes.ravel()):\n",
    "    \n",
    "    density = ds.FATES_NPLANT_PF * m2_per_ha\n",
    "    \n",
    "    density.isel(fates_levpft=p).plot(ax = ax, \n",
    "                                                 x = \"time\", \n",
    "                                                 color = pft_colors[p],\n",
    "                                                 lw = 5)\n",
    "    ax.set_title('{}'.format(pft_names[p]))\n",
    "    ax.set_ylabel('Density [N ha-1]')\n",
    "    \n",
    "    if p == 3:\n",
    "        ax.set_yscale(\"log\")\n",
    "    \n",
    "plt.tight_layout()\n",
    "plt.subplots_adjust(hspace=0.6,wspace=0.6)"
   ]
  },
  {
   "cell_type": "markdown",
   "metadata": {},
   "source": [
    "### Stem density of smallest size class"
   ]
  },
  {
   "cell_type": "code",
   "execution_count": null,
   "metadata": {},
   "outputs": [],
   "source": [
    "density_by_pft_and_scls = scpf_to_scls_by_pft(ds.FATES_NPLANT_SZPF,ds)\n",
    "density_in_smallest_size_class = density_by_pft_and_scls.isel(fates_levscls = 1)\n",
    "\n",
    "fig, axes = plt.subplots(ncols=2,nrows=3,figsize=(7,7))\n",
    "\n",
    "for p,ax in zip(range(n_pfts),axes.ravel()):\n",
    "    \n",
    "    density = density_in_smallest_size_class * m2_per_ha\n",
    "    \n",
    "    density.isel(fates_levpft=p).plot(ax = ax, \n",
    "                                                 x = \"time\", \n",
    "                                                 color = pft_colors[p],\n",
    "                                                 lw = 2)\n",
    "    ax.set_title('{}'.format(pft_names[p]))\n",
    "    ax.set_ylabel('Density [N ha-1]')\n",
    "    \n",
    "    if p == 3:\n",
    "        ax.set_yscale(\"log\")\n",
    "    \n",
    "plt.tight_layout()\n",
    "plt.subplots_adjust(hspace=0.6,wspace=0.6)"
   ]
  },
  {
   "cell_type": "markdown",
   "metadata": {},
   "source": [
    "## NPP"
   ]
  },
  {
   "cell_type": "markdown",
   "metadata": {},
   "source": [
    "### NPP over time"
   ]
  },
  {
   "cell_type": "code",
   "execution_count": null,
   "metadata": {},
   "outputs": [],
   "source": [
    "#ds.GPP.rolling(time=6, center=True).mean()\n",
    "for p in range(n_pfts):\n",
    "    mv_avg = ds.FATES_NPP_PF.isel(fates_levpft=p).rolling(time=12, center=True).mean()\\\n",
    "    * s_per_yr\n",
    "    mv_avg.plot(x = \"time\", color = pft_colors[p],lw = 3)\n",
    "\n",
    "plt.ylabel(\"NPP [kg m-2 yr-1]\")\n",
    "plt.title(\"NPP [kg m-2 yr-1]\")\n",
    "plt.show()"
   ]
  },
  {
   "cell_type": "markdown",
   "metadata": {},
   "source": [
    "### Shrub NPP per individual in the smallest size class"
   ]
  },
  {
   "cell_type": "code",
   "execution_count": null,
   "metadata": {},
   "outputs": [],
   "source": [
    "size_class = 0\n",
    "\n",
    "NPP_by_pft_and_scls = scpf_to_scls_by_pft(ds.FATES_NPP_SZPF, ds)\n",
    "\n",
    "#Shrub NPP in smallest size class\n",
    "shrub_NPP_smallest_scls = NPP_by_pft_and_scls[:,(n_pfts - 1),size_class]\n",
    "\n",
    "#Shrub nunmber density in size class x\n",
    "density_by_pft_and_scls = scpf_to_scls_by_pft(ds.FATES_NPLANT_SZPF,ds)\n",
    "shrub_density_smallest_scls = density_by_pft_and_scls.isel(fates_levpft = 3).data[:,size_class]\n",
    "\n",
    "\n",
    "#NPP per individual in smallest size class (0-5 cm)\n",
    "shrub_NPP_per_ind_smallest_size_class = (shrub_NPP_smallest_scls / shrub_density_smallest_scls) * s_per_yr\n",
    "\n",
    "plt.plot(shrub_NPP_per_ind_smallest_size_class, linewidth = 1, color = \"black\")\n",
    "plt.title(\"Mean NPP per individual in smallest scls [kg C ind. yr-1]\")\n",
    "plt.show()"
   ]
  },
  {
   "cell_type": "markdown",
   "metadata": {},
   "source": [
    "### Autotrophic respiration"
   ]
  },
  {
   "cell_type": "code",
   "execution_count": null,
   "metadata": {},
   "outputs": [],
   "source": [
    "respiration = scpf_to_scls_by_pft(ds.FATES_AUTORESP_SZPF, ds) * s_per_yr\n",
    "\n",
    "respiration = respiration.rolling(time=12, center=True).mean()\n",
    "\n",
    "for p in range(n_pfts):\n",
    "    respiration.sum(axis = 2).isel(fates_levpft=p).plot(x = \"time\", color = pft_colors[p],lw = 2) \n",
    "\n",
    "plt.ylabel(\"Respiration [kg m-2 yr-1]\")\n",
    "plt.title(\"Respiration [kg m-2 yr-1]\")"
   ]
  },
  {
   "cell_type": "markdown",
   "metadata": {},
   "source": [
    "## Seed Production and Recruitment"
   ]
  },
  {
   "cell_type": "markdown",
   "metadata": {},
   "source": [
    "### Allocation to Seed"
   ]
  },
  {
   "cell_type": "code",
   "execution_count": null,
   "metadata": {},
   "outputs": [],
   "source": [
    "alloc_to_seed = scpf_to_scls_by_pft(ds.FATES_SEED_ALLOC_SZPF,ds).sum(axis = 2)\n",
    "\n",
    "for p in range(n_pfts):\n",
    "    seed_alloc = alloc_to_seed.isel(fates_levpft=p) * s_per_yr\n",
    "    seed_alloc.rolling(time = 12, center = True).mean().plot(x = \"time\", color = pft_colors[p],lw = 3)\n",
    "\n",
    "plt.ylabel(\"Allocation to seed [Kg m-2 yr-1]\")\n",
    "plt.title(\"Allocation to seed\")"
   ]
  },
  {
   "cell_type": "markdown",
   "metadata": {},
   "source": [
    "### Seed production (all PFTs)"
   ]
  },
  {
   "cell_type": "markdown",
   "metadata": {},
   "source": [
    "This is local and external (i.e. seed rain)"
   ]
  },
  {
   "cell_type": "code",
   "execution_count": null,
   "metadata": {},
   "outputs": [],
   "source": [
    "seed_production_m2_yr = ds.FATES_SEEDS_IN * s_per_yr\n",
    "seed_production_m2_yr.rolling(time = 12, center = True).mean().plot()\n",
    "plt.ylabel(\"Seed Production [kg m-2 yr-1]\")"
   ]
  },
  {
   "cell_type": "markdown",
   "metadata": {},
   "source": [
    "### Seed Bank Size"
   ]
  },
  {
   "cell_type": "code",
   "execution_count": null,
   "metadata": {},
   "outputs": [],
   "source": [
    "seed_bank = ds.FATES_SEED_BANK #s per day fixes issue in fates code (issue # 900)\n",
    "seed_bank.plot(linewidth = 3, color = \"black\")\n",
    "plt.ylabel(\"Seed Bank [Kg m-2]\")\n",
    "plt.title(\"Seed Bank\")"
   ]
  },
  {
   "cell_type": "code",
   "execution_count": null,
   "metadata": {},
   "outputs": [],
   "source": [
    "ds.FATES_SEEDBANK_PF.plot()"
   ]
  },
  {
   "cell_type": "code",
   "execution_count": null,
   "metadata": {},
   "outputs": [],
   "source": [
    "fig, axes = plt.subplots(ncols=2,nrows=3,figsize=(7,7))\n",
    "\n",
    "for p,ax in zip(range(n_pfts),axes.ravel()):\n",
    "    seed = ds.FATES_SEEDBANK_PF.isel(fates_levpft=p)\n",
    "    seed.plot(x = \"time\", color = pft_colors[p], ax=ax)\n",
    "    ax.set_ylabel(\"[Kg m-2]\")\n",
    "    ax.set_title('{} Seed Bank'.format(pft_names[p]))\n",
    "    \n",
    "plt.tight_layout()"
   ]
  },
  {
   "cell_type": "markdown",
   "metadata": {},
   "source": [
    "### Per area recruitment"
   ]
  },
  {
   "cell_type": "code",
   "execution_count": null,
   "metadata": {},
   "outputs": [],
   "source": [
    "rec = ds.FATES_RECRUITMENT_PF * m2_per_ha\n",
    "rec.plot()"
   ]
  },
  {
   "cell_type": "code",
   "execution_count": null,
   "metadata": {},
   "outputs": [],
   "source": [
    "fig, axes = plt.subplots(ncols=2,nrows=3,figsize=(7,7))\n",
    "\n",
    "for p,ax in zip(range(n_pfts),axes.ravel()):\n",
    "    rec = ds.FATES_RECRUITMENT_PF.isel(fates_levpft=p) * m2_per_ha\n",
    "    rec.plot(x = \"time\", color = pft_colors[p], ax=ax)\n",
    "    ax.set_ylabel(\"[N ha-1 yr-1]\")\n",
    "    ax.set_title('{} recruitment'.format(pft_names[p]))\n",
    "    \n",
    "plt.tight_layout()"
   ]
  },
  {
   "cell_type": "code",
   "execution_count": null,
   "metadata": {},
   "outputs": [],
   "source": [
    "rec_per_cap = ds.FATES_RECRUITMENT_PF / ds.FATES_NPLANT_PF\n",
    "\n",
    "fig, axes = plt.subplots(ncols=2,nrows=3,figsize=(7,7))\n",
    "\n",
    "for p,ax in zip(range(n_pfts),axes.ravel()):\n",
    "    rec = rec_per_cap.isel(fates_levpft=p).rolling(time=24, center=True).mean()\n",
    "    rec.plot(x = \"time\", color = pft_colors[p], ax=ax)\n",
    "    ax.set_ylabel(\"[N ind-1 yr-1]\")\n",
    "    ax.set_title('{} recruitment'.format(pft_names[p]))\n",
    "    \n",
    "plt.tight_layout()"
   ]
  },
  {
   "cell_type": "markdown",
   "metadata": {},
   "source": [
    "### mean rec per capita"
   ]
  },
  {
   "cell_type": "code",
   "execution_count": null,
   "metadata": {},
   "outputs": [],
   "source": [
    "for p in range(n_pfts):\n",
    "    print(pft_names[p],\":\", rec_per_cap.isel(fates_levpft=p).values.mean())"
   ]
  },
  {
   "cell_type": "markdown",
   "metadata": {},
   "source": [
    "## Growth"
   ]
  },
  {
   "cell_type": "markdown",
   "metadata": {},
   "source": [
    "### Growth rates by size class (snapshot of timestep X)"
   ]
  },
  {
   "cell_type": "code",
   "execution_count": null,
   "metadata": {},
   "outputs": [],
   "source": [
    "ds.fates_levscls"
   ]
  },
  {
   "cell_type": "code",
   "execution_count": null,
   "metadata": {},
   "outputs": [],
   "source": [
    "growth = scpf_to_scls_by_pft(ds.FATES_DDBH_SZPF,ds)\n",
    "\n",
    "fig, axes = plt.subplots(ncols=2,nrows=3,figsize=(7,7))\n",
    "\n",
    "for p,ax in zip(range(n_pfts),axes.ravel()):\n",
    "    rec = growth.isel(fates_levpft=p).sel(time = \"1910-07-01\")\n",
    "    rec.plot(x = \"fates_levscls\", color = pft_colors[p], ax=ax, marker = \"o\")\n",
    "    ax.set_ylabel(\"Growth [m m-2 yr-1]\")\n",
    "    ax.set_title(\" \")\n",
    "\n",
    "plt.tight_layout()"
   ]
  },
  {
   "cell_type": "markdown",
   "metadata": {},
   "source": [
    "## Shrub growth over time in the smallest size class\n",
    "\n",
    "This is an area-based measure?"
   ]
  },
  {
   "cell_type": "code",
   "execution_count": null,
   "metadata": {},
   "outputs": [],
   "source": [
    "#growth.isel(fates_levpft=3).isel(fates_levscls=0).plot()\n",
    "#plt.title(\"Shrub relative growth rate\")"
   ]
  },
  {
   "cell_type": "markdown",
   "metadata": {},
   "source": [
    "## Mortality"
   ]
  },
  {
   "cell_type": "markdown",
   "metadata": {},
   "source": [
    "### Total area-based mortality"
   ]
  },
  {
   "cell_type": "code",
   "execution_count": null,
   "metadata": {},
   "outputs": [],
   "source": [
    "ds.FATES_MOR"
   ]
  },
  {
   "cell_type": "code",
   "execution_count": null,
   "metadata": {},
   "outputs": [],
   "source": [
    "fig, axes = plt.subplots(ncols=2,nrows=3,figsize=(7,7),sharey=False)\n",
    "\n",
    "for p,ax in zip(range(n_pfts),axes.ravel()):\n",
    "    mort = ds.FATES_MORTALITY_PF.isel(fates_levpft=p).rolling(time=12, center=True).mean() * m2_per_ha\n",
    "    mort.plot(x = \"time\", color = pft_colors[p],lw = 3, ax = ax)\n",
    "    ax.set_ylabel(\"Mortality [N ha-1 yr-1]\")\n",
    "    ax.set_title('{}'.format(pft_names[p]))\n",
    "\n",
    "plt.tight_layout()"
   ]
  },
  {
   "cell_type": "markdown",
   "metadata": {},
   "source": [
    "### Total per capita mortality"
   ]
  },
  {
   "cell_type": "code",
   "execution_count": null,
   "metadata": {},
   "outputs": [],
   "source": [
    "mort_per_cap = ds.FATES_MORTALITY_PF / ds.FATES_NPLANT_PF / months_per_yr\n",
    "\n",
    "fig, axes = plt.subplots(ncols=2,nrows=3,figsize=(7,7),sharey=False)\n",
    "\n",
    "for p,ax in zip(range(n_pfts),axes.ravel()):\n",
    "    mort_per_cap.isel(fates_levpft=p).plot(x = \"time\", color = pft_colors[p],lw = 1, ax = ax)\n",
    "    ax.set_ylabel(\"Mortality [N per capita]\")\n",
    "    ax.set_title('{}'.format(pft_names[p]))\n",
    "\n",
    "plt.tight_layout()"
   ]
  },
  {
   "cell_type": "code",
   "execution_count": null,
   "metadata": {},
   "outputs": [],
   "source": [
    "for p in range(n_pfts):\n",
    "    print(pft_names[p], \":\", mort_per_cap.isel(fates_levpft=p).values.mean())"
   ]
  },
  {
   "cell_type": "markdown",
   "metadata": {},
   "source": [
    "### Background mortality rate"
   ]
  },
  {
   "cell_type": "code",
   "execution_count": null,
   "metadata": {},
   "outputs": [],
   "source": [
    "ds.FATES_MORTALITY_BACKGROUND_SZPF"
   ]
  },
  {
   "cell_type": "code",
   "execution_count": null,
   "metadata": {},
   "outputs": [],
   "source": [
    "#disentangle the multiplexed size class X pft dimension\n",
    "mort_back = scpf_to_scls_by_pft(ds.FATES_MORTALITY_BACKGROUND_SZPF, ds)\n",
    "#mort_hydr\n",
    "\n",
    "#sum across size classes to get pft-level mort from hyd. failure.\n",
    "mort_back_pf = mort_back.sum(axis=2) * m2_per_ha\n",
    "\n",
    "fig, axes = plt.subplots(ncols=2,nrows=3,figsize=(7,7), sharey = False)\n",
    "\n",
    "for p,ax in zip(range(n_pfts),axes.ravel()):\n",
    "    mort_back_pf.isel(fates_levpft=p).sel(time = slice(\"2000-01-01\",\"2049-01-01\")).plot(x = \"time\", color = pft_colors[p],lw = 1, ax = ax)\n",
    "    ax.set_ylabel(\"[N ha-1 yr-1]\")\n",
    "    ax.set_title(\"Background Mortality\")\n",
    "\n",
    "plt.tight_layout()"
   ]
  },
  {
   "cell_type": "markdown",
   "metadata": {},
   "source": [
    "### Background mort rate per capita"
   ]
  },
  {
   "cell_type": "code",
   "execution_count": null,
   "metadata": {},
   "outputs": [],
   "source": [
    "background_mort_per_capita = mort_back.sum(axis=2) / ds.FATES_NPLANT_PF / months_per_yr\n",
    "background_mort_per_capita\n",
    "\n",
    "fig, axes = plt.subplots(ncols=2,nrows=3,figsize=(7,7), sharey = False)\n",
    "\n",
    "for p,ax in zip(range(n_pfts),axes.ravel()):\n",
    "    background_mort_per_capita.isel(fates_levpft=p).plot(x = \"time\", color = pft_colors[p],lw = 1, ax = ax)\n",
    "    ax.set_ylabel(\"[N per capita yr-1]\")\n",
    "    ax.set_title(\"Background Mortality [{}]\".format(pft_names[p]))\n",
    "\n",
    "plt.tight_layout()"
   ]
  },
  {
   "cell_type": "code",
   "execution_count": null,
   "metadata": {},
   "outputs": [],
   "source": [
    "bmort = ds.FATES_NPLANT_PF.sel(time = slice(\"1970-01-01\",\"1972-01-01\")).isel(fates_levpft = 0) * m2_per_ha\n",
    "bmort.plot()"
   ]
  },
  {
   "cell_type": "markdown",
   "metadata": {},
   "source": [
    "### Mortality from hydraulic failure"
   ]
  },
  {
   "cell_type": "code",
   "execution_count": null,
   "metadata": {},
   "outputs": [],
   "source": [
    "#disentangle the multiplexed size class X pft dimension\n",
    "import matplotlib.dates as mdates\n",
    "\n",
    "mort_hydr = scpf_to_scls_by_pft(ds.FATES_MORTALITY_HYDRAULIC_SZPF, ds)\n",
    "#mort_hydr\n",
    "\n",
    "#sum across size classes to get pft-level mort from hyd. failure.\n",
    "mort_hydr_pf = mort_hydr.sum(axis=2) * m2_per_ha\n",
    "\n",
    "fig, axes = plt.subplots(ncols=2,nrows=3,figsize=(7,7), sharey = False)\n",
    "\n",
    "for p,ax in zip(range(n_pfts),axes.ravel()):\n",
    "    mort_hydr_pf.isel(fates_levpft=p).sel(time = slice(\"2000-01-01\",\"2049-01-01\")).plot(x = \"time\", color = pft_colors[p],lw = 1, ax = ax)\n",
    "    ax.set_ylabel(\"[N ha-1 yr-1]\")\n",
    "    ax.title.set_text('{} Mort Hyd. Fail. '.format(pft_names[p]))\n",
    "    #ax.xaxis.set_major_formatter(DateFormatter('%Y'))\n",
    "    #ax.xaxis.set_major_locator(mdates.YearLocator(base=nbase))\n",
    "    #ax.xaxis.set_major_locator(mdates.MonthLocator(interval = 120))\n",
    "    #ax.xaxis.set_major_formatter(mdates.DateFormatter('%Y'))\n",
    "\n",
    "plt.tight_layout()"
   ]
  },
  {
   "cell_type": "markdown",
   "metadata": {},
   "source": [
    "### Mortality from hydraulic failure (per capita)"
   ]
  },
  {
   "cell_type": "code",
   "execution_count": null,
   "metadata": {},
   "outputs": [],
   "source": [
    "mort_hydr_per_capita = mort_hydr.sum(axis=2) / ds.FATES_NPLANT_PF / months_per_yr\n",
    "\n",
    "fig, axes = plt.subplots(ncols=2,nrows=3,figsize=(7,7), sharey = False)\n",
    "\n",
    "for p,ax in zip(range(n_pfts),axes.ravel()):\n",
    "    mort_hydr_per_capita.isel(fates_levpft=p).plot(x = \"time\", color = pft_colors[p],lw = 1, ax = ax)\n",
    "    ax.set_ylabel(\"[N per capita month-1]\")\n",
    "    ax.title.set_text('{} Mort Hyd. Fail. '.format(pft_names[p]))\n",
    "\n",
    "plt.tight_layout()"
   ]
  },
  {
   "cell_type": "code",
   "execution_count": null,
   "metadata": {},
   "outputs": [],
   "source": [
    "for p in range(n_pfts):\n",
    "    print(pft_names[p], \":\", mort_hydr_per_capita.isel(fates_levpft=p).values.mean())"
   ]
  },
  {
   "cell_type": "markdown",
   "metadata": {},
   "source": [
    "### Mortality from Carbon Starvation"
   ]
  },
  {
   "cell_type": "code",
   "execution_count": null,
   "metadata": {},
   "outputs": [],
   "source": [
    "#disentangle the multiplexed size class X pft dimension\n",
    "mort_c = scpf_to_scls_by_pft(ds.FATES_MORTALITY_CSTARV_SZPF, ds)\n",
    "\n",
    "#sum across size classes to get pft-level mort from hyd. failure.\n",
    "mort_c_pf = mort_c.sum(axis=2) * m2_per_ha\n",
    "\n",
    "fig, axes = plt.subplots(ncols=2,nrows=3,figsize=(7,7), sharey = False)\n",
    "\n",
    "for p,ax in zip(range(n_pfts),axes.ravel()):\n",
    "    mort_c_pf.isel(fates_levpft=p).plot(x = \"time\", color = pft_colors[p],lw = 1, ax = ax)\n",
    "    ax.set_ylabel(\"[N ha-1 yr-1]\")\n",
    "    ax.title.set_text('{} Mort Carb Starv. '.format(pft_names[p]))\n",
    "\n",
    "plt.tight_layout()"
   ]
  },
  {
   "cell_type": "markdown",
   "metadata": {},
   "source": [
    "### Mortality from carbon starvation in the smallest size class (area-based)"
   ]
  },
  {
   "cell_type": "code",
   "execution_count": null,
   "metadata": {},
   "outputs": [],
   "source": [
    "#disentangle the multiplexed size class X pft dimension\n",
    "mort_c = scpf_to_scls_by_pft(ds.FATES_MORTALITY_CSTARV_SZPF, ds)\n",
    "\n",
    "#sum across size classes to get pft-level mort from hyd. failure.\n",
    "mort_c_smallest_scls = mort_c.sel(fates_levscls = slice(None,11)).sel(time = \"1970-01-01\") * m2_per_ha\n",
    "\n",
    "fig, axes = plt.subplots(ncols=2,nrows=3,figsize=(7,7), sharey = False)\n",
    "\n",
    "for p,ax in zip(range(n_pfts),axes.ravel()):\n",
    "    mort_c_smallest_scls.isel(fates_levpft=p).plot(x = \"fates_levscls\", color = pft_colors[p],lw = 1, ax = ax)\n",
    "    ax.set_ylabel(\"[N ha-1 yr-1]\")\n",
    "    ax.title.set_text('{} Mort Carb Starv. smallest size class'.format(pft_names[p]))\n",
    "\n",
    "plt.tight_layout()"
   ]
  },
  {
   "cell_type": "markdown",
   "metadata": {
    "tags": []
   },
   "source": [
    "### Mortality from Carbon Starvation (per capita)"
   ]
  },
  {
   "cell_type": "code",
   "execution_count": null,
   "metadata": {},
   "outputs": [],
   "source": [
    "#disentangle the multiplexed size class X pft dimension\n",
    "mort_c = scpf_to_scls_by_pft(ds.FATES_MORTALITY_CSTARV_SZPF, ds)\n",
    "\n",
    "#sum across size classes to get pft-level mort from hyd. failure.\n",
    "mort_c_pf = mort_c.sum(axis=2)\n",
    "\n",
    "\n",
    "\n",
    "#Mort per capita\n",
    "mort_c_pf = mort_c_pf / ds.FATES_NPLANT_PF / months_per_yr\n",
    "\n",
    "fig, axes = plt.subplots(ncols=2,nrows=3,figsize=(7,7), sharey = False)\n",
    "\n",
    "for p,ax in zip(range(n_pfts),axes.ravel()):\n",
    "    mort_c_pf.isel(fates_levpft=p).plot(x = \"time\", color = pft_colors[p],lw = 1, ax = ax)\n",
    "    ax.set_ylabel(\"[N per capita month-1]\")\n",
    "    ax.set_title(\"{} Carb. Starv.\".format(pft_names[p]))\n",
    "\n",
    "plt.tight_layout()"
   ]
  },
  {
   "cell_type": "markdown",
   "metadata": {},
   "source": [
    "#### Pft-level mean"
   ]
  },
  {
   "cell_type": "code",
   "execution_count": null,
   "metadata": {},
   "outputs": [],
   "source": [
    "for p in range(n_pfts):\n",
    "    print(pft_names[p], \":\", mort_c_pf.isel(fates_levpft=p).values.mean())"
   ]
  },
  {
   "cell_type": "markdown",
   "metadata": {},
   "source": [
    "### PFT-level mean carbon starvation normalized by hydraulic failure mort"
   ]
  },
  {
   "cell_type": "code",
   "execution_count": null,
   "metadata": {},
   "outputs": [],
   "source": [
    "output = {}\n",
    "for i in range(n_pfts):\n",
    "    output[pft_names[i]] = None\n",
    "\n",
    "for p in range(n_pfts):\n",
    "    cstarv = mort_c_pf.isel(fates_levpft=p).values.mean()\n",
    "    hyrd_f = mort_hydr_per_capita.isel(fates_levpft=p).values.mean()\n",
    "    output[pft_names[p]] = cstarv / hyrd_f\n",
    "\n",
    "print(output)"
   ]
  },
  {
   "cell_type": "code",
   "execution_count": null,
   "metadata": {},
   "outputs": [],
   "source": [
    "pd.DataFrame.from_dict(output,orient='index',columns=['cstarv_per_hydr_f']).sort_values(by = 'cstarv_per_hydr_f',ascending=False)"
   ]
  },
  {
   "cell_type": "markdown",
   "metadata": {},
   "source": [
    "### Mortality from fire"
   ]
  },
  {
   "cell_type": "code",
   "execution_count": null,
   "metadata": {},
   "outputs": [],
   "source": [
    "ds.FATES_MORTALITY_FIRE_SZPF"
   ]
  },
  {
   "cell_type": "code",
   "execution_count": null,
   "metadata": {},
   "outputs": [],
   "source": [
    "#disentangle the multiplexed size class X pft dimension\n",
    "mort_fire_by_pft_and_scls = scpf_to_scls_by_pft(ds.FATES_MORTALITY_FIRE_SZPF, ds) * m2_per_ha\n",
    "\n",
    "#sum across size classes to get pft-level mort from fire\n",
    "mort_fire_by_pft = mort_fire_by_pft_and_scls.sum(axis=2)\n",
    "\n",
    "fig, axes = plt.subplots(ncols=2,nrows=3,figsize=(7,7), sharey = False)\n",
    "\n",
    "for p,ax in zip(range(n_pfts),axes.ravel()):\n",
    "    mort_fire_pft_x = mort_fire_by_pft.isel(fates_levpft=p).plot(x = \"time\",lw = 1, ax = ax, color = pft_colors[p])\n",
    "    ax.title.set_text('{} Mort Fire '.format(pft_names[p]))\n",
    "    ax.set_ylabel(\"[N per ha-1 yr-1]\")\n",
    "\n",
    "plt.tight_layout()"
   ]
  },
  {
   "cell_type": "markdown",
   "metadata": {},
   "source": [
    "### Mortality from fire (per capita)"
   ]
  },
  {
   "cell_type": "code",
   "execution_count": null,
   "metadata": {},
   "outputs": [],
   "source": [
    "#disentangle the multiplexed size class X pft dimension\n",
    "mort_fire_by_pft_and_scls = scpf_to_scls_by_pft(ds.FATES_MORTALITY_FIRE_SZPF, ds)\n",
    "\n",
    "#sum across size classes to get pft-level mort from fire\n",
    "mort_fire_by_pft = mort_fire_by_pft_and_scls.sum(axis=2)\n",
    "                                                \n",
    "mort_fire_per_capita = mort_fire_by_pft / ds.FATES_NPLANT_PF\n",
    "\n",
    "fig, axes = plt.subplots(ncols=2,nrows=3,figsize=(7,7), sharey = True)\n",
    "\n",
    "for p,ax in zip(range(n_pfts),axes.ravel()):\n",
    "    mort_fire_per_capita.isel(fates_levpft = p).plot(x = \"time\",lw = 1, ax = ax, color = pft_colors[p])\n",
    "    ax.set_ylabel(\"[N per capita yr -1]\")\n",
    "    ax.set_title(\"{} fire mort.\".format(pft_names[p]))\n",
    "\n",
    "plt.tight_layout()"
   ]
  },
  {
   "cell_type": "markdown",
   "metadata": {},
   "source": [
    "#### PFT-level mean"
   ]
  },
  {
   "cell_type": "code",
   "execution_count": null,
   "metadata": {},
   "outputs": [],
   "source": [
    "for p in range(n_pfts):\n",
    "    print(pft_names[p], \":\", mort_fire_per_capita.isel(fates_levpft=p).values.mean())"
   ]
  },
  {
   "cell_type": "markdown",
   "metadata": {},
   "source": [
    "### Fire mort from crown scorch for pft x in size class x"
   ]
  },
  {
   "cell_type": "code",
   "execution_count": null,
   "metadata": {},
   "outputs": [],
   "source": [
    "#fire mortality from crown scorch by pft/size in number of plants per m2 per year\n",
    "crown_scorch_pf_sc = scpf_to_scls_by_pft(ds.FATES_MORTALITY_CROWNSCORCH_SZPF, ds)\n",
    "crown_scorch_pf_sc.isel(fates_levpft = 0).isel(fates_levscls = 7).plot(x = \"time\")"
   ]
  },
  {
   "cell_type": "markdown",
   "metadata": {},
   "source": [
    "### Mortality from senescence "
   ]
  },
  {
   "cell_type": "code",
   "execution_count": null,
   "metadata": {},
   "outputs": [],
   "source": [
    "#SZPF_to_facetted_plot(ds.FATES_MORTALITY_SENESCENCE_SZPF, \" \")\n",
    "#'FATES_AUTORESP_SZPF','FATES_MAINTAR_SZPF','SMP','FATES_CROWNAREA_PF'\n",
    "\n",
    "#disentangle the multiplexed size class X pft dimension\n",
    "mort_senescence = scpf_to_scls_by_pft(ds.FATES_MORTALITY_SENESCENCE_SZPF, ds)\n",
    "#mort_fire\n",
    "\n",
    "#sum across size classes to get pft-level mort from hyd. failure.\n",
    "mort_senescence_pf = mort_senescence.sum(axis=2) * m2_per_ha\n",
    "\n",
    "fig, axes = plt.subplots(ncols=2,nrows=3,figsize=(7,7), sharey = True)\n",
    "\n",
    "for p,ax in zip(range(n_pfts),axes.ravel()):\n",
    "    mort_senescence_pf.isel(fates_levpft=p).plot(x = \"time\", color = pft_colors[p],lw = 1, ax = ax)\n",
    "    ax.set_ylabel(\"Mort. Senescence [N ha-2 yr-1]\")\n",
    "    ax.set_title(\"Mort. Senescence\")\n",
    "\n",
    "plt.tight_layout()"
   ]
  },
  {
   "cell_type": "markdown",
   "metadata": {},
   "source": [
    "### Shrub mortality from senescence (per capita)"
   ]
  },
  {
   "cell_type": "code",
   "execution_count": null,
   "metadata": {},
   "outputs": [],
   "source": [
    "n_per_area = ds.FATES_NPLANT_PF.isel(fates_levpft = 3)* m2_per_ha\n",
    "\n",
    "mort_sen_per_capita = mort_senescence_pf.isel(fates_levpft=3) / n_per_area\n",
    "mort_sen_per_capita.plot()\n",
    "\n",
    "plt.title(\"Shrub Mortality From Senescence\")\n",
    "plt.ylabel(\"Mortality rate [per capita]\")\n",
    "plt.xlabel(\"Year\")"
   ]
  },
  {
   "cell_type": "markdown",
   "metadata": {},
   "source": [
    "## Disturbance"
   ]
  },
  {
   "cell_type": "markdown",
   "metadata": {},
   "source": [
    "### Fire"
   ]
  },
  {
   "cell_type": "markdown",
   "metadata": {},
   "source": [
    "#### Number of ignitions"
   ]
  },
  {
   "cell_type": "code",
   "execution_count": null,
   "metadata": {},
   "outputs": [],
   "source": [
    "ds.FATES_IGNITIONS"
   ]
  },
  {
   "cell_type": "code",
   "execution_count": null,
   "metadata": {
    "tags": []
   },
   "outputs": [],
   "source": [
    "ignitions_per_ha_per_yr = ds.FATES_IGNITIONS * s_per_yr * m2_per_ha\n",
    "ignitions_per_ha_per_yr.plot()\n",
    "plt.ylabel(\"N ignitions [ha-1 yr-1]\")\n",
    "\n",
    "plt.show()\n",
    "print(\"mean successful ignitions\",ignitions_per_ha_per_yr.values.mean())\n",
    "print(\"mean ignition success rate\", ignitions_per_ha_per_yr.values.mean() / 0.0008)"
   ]
  },
  {
   "cell_type": "markdown",
   "metadata": {},
   "source": [
    "#### Monthly burned fraction"
   ]
  },
  {
   "cell_type": "code",
   "execution_count": null,
   "metadata": {},
   "outputs": [],
   "source": [
    "plt.rcParams.update({'axes.titlesize': 'large', 'axes.labelsize':'large'})\n",
    "\n",
    "burnfrac = ds.FATES_BURNFRAC  * s_per_yr\n",
    "burnfrac.plot(marker = \"o\",linewidth = 0.5)\n",
    "plt.ylabel(\"Monthly burned fraction\")\n",
    "plt.xlabel(\"Year\")\n",
    "plt.show()\n",
    "\n",
    "print(burnfrac.values.mean())"
   ]
  },
  {
   "cell_type": "code",
   "execution_count": null,
   "metadata": {},
   "outputs": [],
   "source": [
    "ds.FATES_DISTURBANCE_RATE_FIRE.mean(axis = 0).values"
   ]
  },
  {
   "cell_type": "markdown",
   "metadata": {},
   "source": [
    "#### Mean annual burn fraction"
   ]
  },
  {
   "cell_type": "code",
   "execution_count": null,
   "metadata": {},
   "outputs": [],
   "source": [
    "ds.FATES_BURNFRAC.plot()"
   ]
  },
  {
   "cell_type": "code",
   "execution_count": null,
   "metadata": {},
   "outputs": [],
   "source": [
    "burnfrac = ds.FATES_BURNFRAC  * s_per_yr\n",
    "\n",
    "print(\"Mean annual burn fraction\",burnfrac.values.mean())\n",
    "\n",
    "\n",
    "# Load your DataArray here if it's not already loaded\n",
    "# da = xr.open_dataarray('path_to_your_data.nc')\n",
    "\n",
    "# Ensure that the 'time' coordinate has a datetime64 dtype\n",
    "#burnfrac['time'] = xr.to_datetime(burnfrac['time'])\n",
    "\n",
    "# Group the data by year and calculate the annual mean\n",
    "annual_mean = burnfrac.groupby('time.year').mean(dim='time')\n",
    "\n",
    "# Extract the annual mean values as a NumPy array\n",
    "annual_mean_values = annual_mean.values\n",
    "\n",
    "# Create a histogram of the distribution of annual means\n",
    "plt.hist(annual_mean_values, bins=20, edgecolor='black')\n",
    "plt.xlabel('Annual Mean')\n",
    "plt.ylabel('Frequency')\n",
    "plt.title('Distribution of annual burn fraction')\n",
    "plt.show()"
   ]
  },
  {
   "cell_type": "code",
   "execution_count": null,
   "metadata": {},
   "outputs": [],
   "source": [
    "plot_mean_annu(ds,\"2160-01-01\",\"2200-01-01\")"
   ]
  },
  {
   "cell_type": "code",
   "execution_count": null,
   "metadata": {},
   "outputs": [],
   "source": [
    "#ds.FATES_PATCHAREA_AP.isel(fates_levage = 0).sel(time = slice(\"1995-01-01\",\"1998-01-01\")).plot()\n",
    "ds.FATES_PATCHAREA_AP.isel(fates_levage = 0).groupby('time.year').max(dim='time').mean(axis = 0).values"
   ]
  },
  {
   "cell_type": "markdown",
   "metadata": {},
   "source": [
    "#### Fire return interval"
   ]
  },
  {
   "cell_type": "code",
   "execution_count": null,
   "metadata": {},
   "outputs": [],
   "source": [
    "fri = 1 / (ds.FATES_BURNFRAC.values.mean() * s_per_yr)\n",
    "print(\"Mean fire return interval (yrs):\",fri)\n",
    "#','FATES_IGNITIONS','FATES_FIRE_INTENSITY_BURNFRAC',"
   ]
  },
  {
   "cell_type": "markdown",
   "metadata": {},
   "source": [
    "#### Area-weighted fire intensity"
   ]
  },
  {
   "cell_type": "code",
   "execution_count": null,
   "metadata": {},
   "outputs": [],
   "source": [
    "aw_fi = ds.FATES_FIRE_INTENSITY_BURNFRAC / (ds.FATES_BURNFRAC * s_per_day) / 1000\n",
    "#aw_fi = aw_fi.where(~np.isnan(aw_fi), 0)\n",
    "aw_fi.plot(marker = \"o\",linewidth = 0.5)\n",
    "plt.ylabel(\"Fire line intensity [kW m-1]\")"
   ]
  },
  {
   "cell_type": "markdown",
   "metadata": {},
   "source": [
    "#### Fraction of fire months burning hotter than 3500 [kw m-1]\n",
    "\n",
    "\n",
    "Benchmarks"
   ]
  },
  {
   "cell_type": "code",
   "execution_count": null,
   "metadata": {},
   "outputs": [],
   "source": [
    "FLI_threshold = 3500\n",
    "\n",
    "burnfrac = ds.FATES_BURNFRAC  * s_per_yr\n",
    "print(\"Mean annual burn fraction\",burnfrac.values.mean())\n",
    "fri = 1 / (ds.FATES_BURNFRAC.values.mean() * s_per_yr)\n",
    "print(\"Mean fire return interval (yrs):\",fri)\n",
    "\n",
    "aw_fi = ds.FATES_FIRE_INTENSITY_BURNFRAC / (ds.FATES_BURNFRAC * s_per_day) / 1000\n",
    "n_months = len(aw_fi.values)\n",
    "print(\"n months\",n_months)\n",
    "aw_fi = aw_fi.where(~np.isnan(aw_fi), 0)\n",
    "n_fire_months_boolean = aw_fi > 0\n",
    "n_fire_months = np.sum(n_fire_months_boolean.values)\n",
    "print(\"n fire months\", n_fire_months)\n",
    "n_months_greater_than_thresh_boolean = aw_fi > FLI_threshold\n",
    "n_months_greater_than_thresh = np.sum(n_months_greater_than_thresh_boolean.values)\n",
    "print(\"n months > threshold\",n_months_greater_than_thresh)\n",
    "\n",
    "print(\"Fraction of fire months that burned hotter than X\",n_months_greater_than_thresh / n_fire_months)"
   ]
  },
  {
   "cell_type": "markdown",
   "metadata": {},
   "source": [
    "#### Number of fire months where mean fire-based mortality rates where > 0.95"
   ]
  },
  {
   "cell_type": "code",
   "execution_count": null,
   "metadata": {},
   "outputs": [],
   "source": [
    "#disentangle the multiplexed size class X pft dimension\n",
    "mort_fire_by_pft_and_scls = scpf_to_scls_by_pft(ds.FATES_MORTALITY_FIRE_SZPF, ds)\n",
    "\n",
    "#get the monthly burned area to calculate mortality rates just on the burned area\n",
    "monthly_burnfrac = ds.FATES_BURNFRAC  * s_per_month\n",
    "\n",
    "#sum across size classes to get pft-level mort from fire\n",
    "mort_fire_by_pft = mort_fire_by_pft_and_scls.sum(axis=2)\n",
    "\n",
    "#per capita mort per month per unit area that burned\n",
    "mort_fire_per_capita_per_month_per_burned_area = mort_fire_by_pft / ds.FATES_NPLANT_PF / months_per_yr / monthly_burnfrac\n",
    "greater_than_95_mort_bool = mort_fire_per_capita_per_month_per_burned_area.sel(fates_levpft = slice(1,3)).mean(axis = 1) > 0.95\n",
    "greater_than_95_mort = np.sum(greater_than_95_mort_bool.values)\n",
    "print(\"conifer mort greater_than_95_mort\",greater_than_95_mort)\n",
    "\n",
    "greater_than_95_mort_bool_all_pfts = mort_fire_per_capita_per_month_per_burned_area.mean(axis = 1) > 0.95\n",
    "greater_than_95_mort_all_pfts = np.sum(greater_than_95_mort_bool_all_pfts.values)\n",
    "\n",
    "\n",
    "frac_greater_than_95_mort = greater_than_95_mort / n_fire_months\n",
    "print(\"frac_greater_than_95_mort\",frac_greater_than_95_mort)\n",
    "\n",
    "frac_greater_than_95_mort_all_pfts = greater_than_95_mort_all_pfts / n_fire_months\n",
    "print(\"frac_greater_than_95_mort_all_pfts\",frac_greater_than_95_mort_all_pfts)"
   ]
  },
  {
   "cell_type": "markdown",
   "metadata": {},
   "source": [
    "#### Look at pft-level fire mortality"
   ]
  },
  {
   "cell_type": "code",
   "execution_count": null,
   "metadata": {},
   "outputs": [],
   "source": []
  },
  {
   "cell_type": "code",
   "execution_count": null,
   "metadata": {},
   "outputs": [],
   "source": []
  },
  {
   "cell_type": "code",
   "execution_count": null,
   "metadata": {},
   "outputs": [],
   "source": [
    "#disentangle the multiplexed size class X pft dimension\n",
    "mort_fire_by_pft_and_scls = scpf_to_scls_by_pft(ds.FATES_MORTALITY_FIRE_SZPF, ds)\n",
    "\n",
    "#get the monthly burned area to calculate mortality rates just on the burned area\n",
    "monthly_burnfrac = ds.FATES_BURNFRAC  * s_per_month\n",
    "\n",
    "#sum across size classes to get pft-level mort from fire\n",
    "mort_fire_by_pft = mort_fire_by_pft_and_scls.sum(axis=2)\n",
    "\n",
    "#per capita mort per month per unit area that burned\n",
    "mort_fire_per_capita_per_month_per_burned_area = mort_fire_by_pft / ds.FATES_NPLANT_PF / months_per_yr / monthly_burnfrac\n",
    "\n",
    "fig, axes = plt.subplots(ncols=2,nrows=3,figsize=(7,7), sharey = True)\n",
    "\n",
    "for p,ax in zip(range(n_pfts),axes.ravel()):\n",
    "    mort_fire_per_capita_per_month_per_burned_area.isel(fates_levpft = p).plot(x = \"time\",lw = 1, ax = ax, color = pft_colors[p])\n",
    "    ax.set_ylabel(\"Fire mort rate\")\n",
    "    ax.set_title(\"{} fire mort.\".format(pft_names[p]))\n",
    "    ax.set_ylim(0, 2)\n",
    "    y_ticks = np.arange(-2, 2, 0.5)  # You can customize this according to your needs\n",
    "    ax.set_yticks(y_ticks)\n",
    "\n",
    "plt.tight_layout()"
   ]
  },
  {
   "cell_type": "markdown",
   "metadata": {},
   "source": [
    "#### Seasonal pattern of area-weighted fire intensity"
   ]
  },
  {
   "cell_type": "code",
   "execution_count": null,
   "metadata": {},
   "outputs": [],
   "source": [
    "aw_fi = ds.FATES_FIRE_INTENSITY_BURNFRAC / (ds.FATES_BURNFRAC * s_per_day) / 1000\n",
    "aw_fi = aw_fi.where(~np.isnan(aw_fi), 0)\n",
    "aw_fi.sel(time = slice(\"1900-01-01\",\"1902-12-31\")).plot(marker = \"o\",linewidth = 0.5)\n",
    "plt.ylabel(\"Fire line intensity [kW m-1]\")"
   ]
  },
  {
   "cell_type": "markdown",
   "metadata": {},
   "source": [
    "#### Seasonal pattern of burned area"
   ]
  },
  {
   "cell_type": "code",
   "execution_count": null,
   "metadata": {},
   "outputs": [],
   "source": [
    "plt.rcParams.update({'axes.titlesize': 'large', 'axes.labelsize':'large'})\n",
    "\n",
    "burnfrac = ds.FATES_BURNFRAC  * s_per_month\n",
    "burnfrac.sel(time = slice(\"1900-01-01\",\"1902-12-31\")).plot(marker = \"o\",linewidth = 0.5)\n",
    "plt.ylabel(\"Monthly burned fraction\")\n",
    "plt.xlabel(\"Year\")\n",
    "plt.show()"
   ]
  },
  {
   "cell_type": "markdown",
   "metadata": {},
   "source": [
    "#### Fuel amount"
   ]
  },
  {
   "cell_type": "code",
   "execution_count": null,
   "metadata": {},
   "outputs": [],
   "source": [
    "age_by_fuel = agefuel_to_age_by_fuel(ds.FATES_FUEL_AMOUNT_APFC,ds)\n",
    "fates_fuel_amount_by_class = age_by_fuel.sum(axis = 2)\n",
    "\n",
    "plt.rcParams.update({'axes.titlesize': 'large', 'axes.labelsize':'large'})\n",
    "\n",
    "fig, axes = plt.subplots(ncols=2,nrows=3,figsize=(10,10), sharey = False)\n",
    "\n",
    "fuel_class_names = ['twig','small branch','large branch','trunk','dead leaves','live grass']\n",
    "\n",
    "fuel_class_vec = []\n",
    "\n",
    "for p,ax in zip(range(6),axes.ravel()):\n",
    "    fates_fuel_amount_by_class.isel(fates_levfuel=p).plot(x = \"time\",lw = 1, ax = ax)\n",
    "    ax.set_ylabel(\"Fuel amount [Kg C m-2]\")\n",
    "    ax.set_title(fuel_class_names[p])\n",
    "    \n",
    "plt.tight_layout()"
   ]
  },
  {
   "cell_type": "markdown",
   "metadata": {},
   "source": [
    "### Combustible fuel amount"
   ]
  },
  {
   "cell_type": "code",
   "execution_count": null,
   "metadata": {},
   "outputs": [],
   "source": [
    "age_by_fuel = agefuel_to_age_by_fuel(ds.FATES_FUEL_AMOUNT_APFC,ds)\n",
    "fates_fuel_amount_by_class = age_by_fuel.sum(axis = 2)\n",
    "fates_trunk_fuel_amount = fates_fuel_amount_by_class.isel(fates_levfuel = 3)\n",
    "fates_combustible_fuel_amount = fates_fuel_amount_by_class.sum(axis = 1) - fates_trunk_fuel_amount\n",
    "fates_combustible_fuel_amount.plot()"
   ]
  },
  {
   "cell_type": "markdown",
   "metadata": {},
   "source": [
    "#### Fuel Consumed"
   ]
  },
  {
   "cell_type": "code",
   "execution_count": null,
   "metadata": {},
   "outputs": [],
   "source": [
    "ds.FATES_FUELCONSUMED.plot(lw = 1, marker = \"o\")"
   ]
  },
  {
   "cell_type": "code",
   "execution_count": null,
   "metadata": {},
   "outputs": [],
   "source": [
    "fuel_class_names = ['twig','small branch','large branch','trunk','dead leaves']\n",
    "#plot pft-level basal area over time\n",
    "for fc in range(len(fuel_class_names)):\n",
    "    fmc = ds.FATES_FUEL_MOISTURE_FC.isel(fates_levfuel=fc)\n",
    "    fmc.plot(x = \"time\", label = fuel_class_names[fc],lw = 3, add_legend = True, marker = \"o\")\n",
    "\n",
    "plt.legend()\n",
    "plt.ylabel('FMC', fontsize=12)\n",
    "plt.title('FMC')"
   ]
  },
  {
   "cell_type": "code",
   "execution_count": null,
   "metadata": {},
   "outputs": [],
   "source": [
    "fuel_class_names = ['twig','small branch','large branch','trunk','dead leaves','live grass']\n",
    "#plot pft-level basal area over time\n",
    "for fc in range(range(len(fuel_class_names)):\n",
    "    fmc = ds.FATES_FUEL_MOISTURE_FC.isel(fates_levfuel=p)\n",
    "    fmc.plot(x = \"time\", label = fuel_class_names[p],lw = 3, add_legend = True, marker = \"o\")\n",
    "\n",
    "plt.legend()\n",
    "plt.ylabel('BA [m-2 ha-1]', fontsize=12)\n",
    "plt.title('Basal Area')\n",
    "\n",
    "\n",
    "age_by_fuel = agefuel_to_age_by_fuel(ds.FATES_FUEL_AMOUNT_APFC,ds)\n",
    "fates_fuel_amount_by_class = age_by_fuel.sum(axis = 2)\n",
    "\n",
    "plt.rcParams.update({'axes.titlesize': 'large', 'axes.labelsize':'large'})\n",
    "\n",
    "fig, axes = plt.subplots(ncols=2,nrows=3,figsize=(10,10), sharey = False)\n",
    "\n",
    "fuel_class_names = ['twig','small branch','large branch','trunk','dead leaves','live grass']\n",
    "\n",
    "fuel_class_vec = []\n",
    "\n",
    "for p,ax in zip(range(6),axes.ravel()):\n",
    "    fates_fuel_amount_by_class.isel(fates_levfuel=p).plot(x = \"time\",lw = 1, ax = ax)\n",
    "    ax.set_ylabel(\"Fuel amount [Kg C m-2]\")\n",
    "    ax.set_title(fuel_class_names[p])\n",
    "    \n",
    "plt.tight_layout()"
   ]
  },
  {
   "cell_type": "markdown",
   "metadata": {},
   "source": [
    "### "
   ]
  },
  {
   "cell_type": "code",
   "execution_count": null,
   "metadata": {},
   "outputs": [],
   "source": [
    "aw_fi.values"
   ]
  },
  {
   "cell_type": "code",
   "execution_count": null,
   "metadata": {},
   "outputs": [],
   "source": [
    "plt.hist(aw_fi)"
   ]
  },
  {
   "cell_type": "code",
   "execution_count": null,
   "metadata": {},
   "outputs": [],
   "source": [
    "ds.FATES_FUEL_MOISTURE_FC"
   ]
  },
  {
   "cell_type": "code",
   "execution_count": null,
   "metadata": {},
   "outputs": [],
   "source": [
    "print(np.nanmean(aw_fi.values))"
   ]
  },
  {
   "cell_type": "code",
   "execution_count": null,
   "metadata": {},
   "outputs": [],
   "source": [
    "#area_weighted_mean_fireline_intensity = (ds.FATES_FIRE_INTENSITY_BURNFRAC / ds.FATES_BURNFRAC) / 1000\n",
    "area_weighted_mean_fireline_intensity.dims"
   ]
  },
  {
   "cell_type": "markdown",
   "metadata": {},
   "source": [
    "#### Fire return interval"
   ]
  },
  {
   "cell_type": "markdown",
   "metadata": {},
   "source": [
    "#### Nesterov Index"
   ]
  },
  {
   "cell_type": "code",
   "execution_count": null,
   "metadata": {},
   "outputs": [],
   "source": [
    "ds.FATES_NESTEROV_INDEX.plot()"
   ]
  },
  {
   "cell_type": "markdown",
   "metadata": {},
   "source": [
    "## Physical Environment"
   ]
  },
  {
   "cell_type": "markdown",
   "metadata": {},
   "source": [
    "### Rain"
   ]
  },
  {
   "cell_type": "code",
   "execution_count": null,
   "metadata": {},
   "outputs": [],
   "source": [
    "ds.RAIN"
   ]
  },
  {
   "cell_type": "code",
   "execution_count": null,
   "metadata": {},
   "outputs": [],
   "source": [
    "monthly_rain = ds.RAIN * s_per_month\n",
    "annual_rain = monthly_rain.groupby(ds.time.dt.year).sum()\n",
    "annual_rain.plot(marker = \"o\")\n",
    "plt.ylabel(\"Annual Rain [mm]\")"
   ]
  },
  {
   "cell_type": "code",
   "execution_count": null,
   "metadata": {},
   "outputs": [],
   "source": [
    "monthly_rain.plot()"
   ]
  },
  {
   "cell_type": "markdown",
   "metadata": {},
   "source": [
    "### Snow"
   ]
  },
  {
   "cell_type": "code",
   "execution_count": null,
   "metadata": {},
   "outputs": [],
   "source": [
    "ds.RAIN"
   ]
  },
  {
   "cell_type": "code",
   "execution_count": null,
   "metadata": {},
   "outputs": [],
   "source": [
    "monthly_snow = ds.SNOW * s_per_month\n",
    "annual_snow = monthly_snow.groupby(ds.time.dt.year).sum()\n",
    "annual_snow.plot(marker = \"o\")\n",
    "plt.ylabel(\"Annual SNOW [mm]\")"
   ]
  },
  {
   "cell_type": "code",
   "execution_count": null,
   "metadata": {},
   "outputs": [],
   "source": [
    "#'QVEGT','QVEGE','QSOIL','TLAI','TBOT','RAIN','QBOT','Q2M',\n",
    "#'BTRAN', 'SNOW','SOILPSI','H2OSOI','RH2M','Rnet','Rainf','TSA',"
   ]
  },
  {
   "cell_type": "markdown",
   "metadata": {},
   "source": [
    "### Temperature Timeseries"
   ]
  },
  {
   "cell_type": "code",
   "execution_count": null,
   "metadata": {},
   "outputs": [],
   "source": [
    "t_celcius = ds.TBOT - 273.15\n",
    "t_celcius.plot()"
   ]
  },
  {
   "cell_type": "markdown",
   "metadata": {},
   "source": [
    "### Mean temperature of each month"
   ]
  },
  {
   "cell_type": "code",
   "execution_count": null,
   "metadata": {},
   "outputs": [],
   "source": [
    "t_clim = t_celcius.groupby(ds.time.dt.month).mean()\n",
    "t_clim.plot(marker = \"o\")\n",
    "plt.ylabel(\"[TBOT] Mean Monthly Temp [Celcius]\")"
   ]
  },
  {
   "cell_type": "markdown",
   "metadata": {},
   "source": [
    "### Min temp of each month"
   ]
  },
  {
   "cell_type": "code",
   "execution_count": null,
   "metadata": {},
   "outputs": [],
   "source": [
    "t_clim_low = t_celcius.groupby(ds.time.dt.month).min()\n",
    "t_clim_low.plot(marker = \"o\")\n",
    "plt.ylabel(\"[TBOT] Monthly Min Temp [Celcius]\")"
   ]
  },
  {
   "cell_type": "markdown",
   "metadata": {},
   "source": [
    "### Fuel Load"
   ]
  },
  {
   "cell_type": "code",
   "execution_count": null,
   "metadata": {},
   "outputs": [],
   "source": [
    "ds.FATES_FUEL_AMOUNT.plot()"
   ]
  },
  {
   "cell_type": "code",
   "execution_count": null,
   "metadata": {},
   "outputs": [],
   "source": [
    "age_by_fuel = agefuel_to_age_by_fuel(ds.FATES_FUEL_AMOUNT_APFC,ds)\n",
    "age_by_fuel"
   ]
  },
  {
   "cell_type": "code",
   "execution_count": null,
   "metadata": {},
   "outputs": [],
   "source": [
    "age_by_fuel = agefuel_to_age_by_fuel(ds.FATES_FUEL_AMOUNT_APFC,ds)"
   ]
  },
  {
   "cell_type": "code",
   "execution_count": null,
   "metadata": {},
   "outputs": [],
   "source": [
    "age_by_fuel"
   ]
  },
  {
   "cell_type": "code",
   "execution_count": null,
   "metadata": {},
   "outputs": [],
   "source": [
    "twig_1yro_patch = age_by_fuel.isel(fates_levfuel = 0).isel(fates_levage = 1)\n",
    "one_yro_patch_area = ds.FATES_PATCHAREA_AP.sel(fates_levage = 1.0)\n",
    "twig_1yro_patch = twig_1yro_patch / one_yro_patch_area\n",
    "twig_1yro_patch.plot()\n",
    "\n",
    "\n",
    "\n",
    "\n",
    "\n"
   ]
  },
  {
   "cell_type": "code",
   "execution_count": null,
   "metadata": {},
   "outputs": [],
   "source": [
    "twig_5yro_patch = age_by_fuel.isel(fates_levfuel = 0).sel(fates_levage = 5)\n",
    "five_yro_patch_area = ds.FATES_PATCHAREA_AP.sel(fates_levage = 5)\n",
    "twig_5yro_patch = twig_5yro_patch / five_yro_patch_area\n",
    "twig_5yro_patch.plot()"
   ]
  },
  {
   "cell_type": "code",
   "execution_count": null,
   "metadata": {},
   "outputs": [],
   "source": [
    "twig_5yro_patch = age_by_fuel.isel(fates_levfuel = 2).sel(fates_levage = 1)\n",
    "five_yro_patch_area = ds.FATES_PATCHAREA_AP.sel(fates_levage = 1)\n",
    "twig_5yro_patch = twig_5yro_patch / five_yro_patch_area\n",
    "twig_5yro_patch.plot()"
   ]
  },
  {
   "cell_type": "code",
   "execution_count": null,
   "metadata": {},
   "outputs": [],
   "source": [
    "age_by_fuel = agefuel_to_age_by_fuel(ds.FATES_FUEL_AMOUNT_APFC,ds)\n",
    "fates_fuel_amount_by_class = age_by_fuel.sum(axis = 2)\n",
    "\n",
    "plt.rcParams.update({'axes.titlesize': 'large', 'axes.labelsize':'large'})\n",
    "\n",
    "fig, axes = plt.subplots(ncols=2,nrows=3,figsize=(10,10), sharey = False)\n",
    "\n",
    "fuel_class_names = ['twig','small branch','large branch','trunk','dead leaves','live grass']\n",
    "\n",
    "fuel_class_vec = []\n",
    "\n",
    "for p,ax in zip(range(6),axes.ravel()):\n",
    "    fates_fuel_amount_by_class.isel(fates_levfuel=p).sel(time = slice(\"2040-01-01\",\"2049-12-01\")).plot(x = \"time\",\n",
    "                                                                                                       lw = 1, ax = ax)\n",
    "    load_1919_12 = fates_fuel_amount_by_class.isel(fates_levfuel=p).sel(time = \"2045-01-01\").values[0]\n",
    "    fuel_class_vec.append(load_1919_12)\n",
    "    ax.set_ylabel(\"Fuel amount [Kg C m-2]\")\n",
    "    ax.set_title(fuel_class_names[p])\n",
    "    print(fuel_class_names[p],\";\",load_1919_12)\n",
    "    \n",
    "plt.tight_layout()\n",
    "print(fuel_class_vec)"
   ]
  },
  {
   "cell_type": "code",
   "execution_count": null,
   "metadata": {},
   "outputs": [],
   "source": [
    "s = age_by_fuel.isel(fates_levage = 3).sel(time = \"1919-01-01\").values[0,:3]\n",
    "\n",
    "\n",
    "s_sum = s.sum()\n",
    "\n",
    "s_frac = s/s_sum\n",
    "\n",
    "print(s_frac)"
   ]
  },
  {
   "cell_type": "markdown",
   "metadata": {},
   "source": [
    "### Fuel Moisture"
   ]
  },
  {
   "cell_type": "code",
   "execution_count": null,
   "metadata": {},
   "outputs": [],
   "source": [
    "ds.FATES_FUEL_MOISTURE_FC"
   ]
  },
  {
   "cell_type": "markdown",
   "metadata": {},
   "source": [
    "### Fuel Bulk Density"
   ]
  },
  {
   "cell_type": "code",
   "execution_count": null,
   "metadata": {},
   "outputs": [],
   "source": [
    "ds.FATES_FUEL_BULKD.sel(time = slice(\"1901-01-01\",\"1919-12-01\")).plot()\n",
    "\n",
    "#print(ds.FATES_FUEL_BULKD.sel(time = \"1919-12-01\").values)\n",
    "#print(ds.FATES_FUEL_BULKD.values[-1])"
   ]
  },
  {
   "cell_type": "markdown",
   "metadata": {},
   "source": [
    "### Fuel SAV"
   ]
  },
  {
   "cell_type": "code",
   "execution_count": null,
   "metadata": {},
   "outputs": [],
   "source": [
    "ds.FATES_FUEL_SAV.plot()"
   ]
  },
  {
   "cell_type": "code",
   "execution_count": null,
   "metadata": {},
   "outputs": [],
   "source": [
    "ds.FATES_FUEL_SAV\n",
    "print(ds.FATES_FUEL_SAV.sel(time = \"1919-12-01\").values)"
   ]
  },
  {
   "cell_type": "code",
   "execution_count": null,
   "metadata": {},
   "outputs": [],
   "source": [
    "x = fates_fuel_amount_by_class.isel(fates_levfuel = 3).values\n",
    "plt.plot(range(len(x)),x)"
   ]
  },
  {
   "cell_type": "markdown",
   "metadata": {},
   "source": [
    "### Soil moisture"
   ]
  },
  {
   "cell_type": "code",
   "execution_count": 10,
   "metadata": {},
   "outputs": [
    {
     "data": {
      "image/png": "[encoded data removed]",
      "text/plain": [
       "<Figure size 640x480 with 1 Axes>"
      ]
     },
     "metadata": {},
     "output_type": "display_data"
    }
   ],
   "source": [
    "smp_at_half_meter_mpa = ds.SMP.isel(levgrnd = 5) / 1e5\n",
    "smp_at_half_meter_mpa.plot(marker = \"o\")\n",
    "plt.show()"
   ]
  },
  {
   "cell_type": "code",
   "execution_count": null,
   "metadata": {},
   "outputs": [],
   "source": [
    "smp_at_half_meter_mpa.groupby(ds.time.dt.month).mean().plot()"
   ]
  },
  {
   "cell_type": "markdown",
   "metadata": {},
   "source": [
    "### Light"
   ]
  },
  {
   "cell_type": "markdown",
   "metadata": {},
   "source": [
    "#### Direct PAR profile for timestep x"
   ]
  },
  {
   "cell_type": "code",
   "execution_count": null,
   "metadata": {},
   "outputs": [],
   "source": [
    "ds.FATES_PARPROF_DIR_CLLL.sel(time=\"1910-07-01\").plot(marker = \"o\")"
   ]
  },
  {
   "cell_type": "markdown",
   "metadata": {},
   "source": [
    "#### Diffuse PAR profile for timestep x"
   ]
  },
  {
   "cell_type": "code",
   "execution_count": null,
   "metadata": {},
   "outputs": [],
   "source": [
    "ds.FATES_PARPROF_DIF_CLLL.sel(time=\"1910-07-01\").plot(marker = \"o\")"
   ]
  },
  {
   "cell_type": "markdown",
   "metadata": {},
   "source": [
    "#### Shrub PAR absorbtion per unit of LAI"
   ]
  },
  {
   "cell_type": "code",
   "execution_count": null,
   "metadata": {},
   "outputs": [],
   "source": [
    "shrubLAI_shade = ds.FATES_LAISHA_Z_CLLLPF.sel(fates_levcnlfpf = slice(180,240)).sum(axis = 1)\n",
    "shrubPARZ_shade = ds.FATES_PARSHA_Z_CLLLPF.sel(fates_levcnlfpf = slice(180,240)).sum(axis = 1)\n",
    "shrubPARZ_shade_per_m2_leaf_area = shrubPARZ_shade / shrubLAI_shade\n",
    "\n",
    "shrubLAI_sun = ds.FATES_LAISUN_Z_CLLLPF.sel(fates_levcnlfpf = slice(180,240)).sum(axis = 1)\n",
    "shrubPARZ_sun = ds.FATES_PARSUN_Z_CLLLPF.sel(fates_levcnlfpf = slice(180,240)).sum(axis = 1)\n",
    "shrubPARZ_sun_per_m2_leaf_area = shrubPARZ_sun / shrubLAI_sun\n",
    "\n",
    "shrubPARZ_per_m2_leaf_area = shrubPARZ_shade_per_m2_leaf_area + shrubPARZ_sun_per_m2_leaf_area\n",
    "\n",
    "shrubPARZ_per_m2_leaf_area.plot(marker = \"o\")\n",
    "\n",
    "plt.ylabel(\"PAR absorbed by shrubs [W m-2 leaf area]\")"
   ]
  },
  {
   "cell_type": "markdown",
   "metadata": {},
   "source": [
    "#### PAR absorbed"
   ]
  },
  {
   "cell_type": "code",
   "execution_count": null,
   "metadata": {},
   "outputs": [],
   "source": [
    "ds.FATES_PARSUN_Z_CLLLPF.isel(time = 25*6).plot()"
   ]
  },
  {
   "cell_type": "code",
   "execution_count": null,
   "metadata": {},
   "outputs": [],
   "source": [
    "shrubLAI_shade = ds.FATES_LAISHA_Z_CLLLPF.sel(fates_levcnlfpf = slice(180,240)).sum(axis = 1)\n",
    "shrubPARZ_shade = ds.FATES_PARSHA_Z_CLLLPF.sel(fates_levcnlfpf = slice(180,240)).sum(axis = 1)\n",
    "shrubPARZ_shade_per_m2_leaf_area = shrubPARZ_shade / shrubLAI_shade\n",
    "\n",
    "shrubLAI_sun = ds.FATES_LAISUN_Z_CLLLPF.sel(fates_levcnlfpf = slice(180,240)).sum(axis = 1)\n",
    "shrubPARZ_sun = ds.FATES_PARSUN_Z_CLLLPF.sel(fates_levcnlfpf = slice(180,240)).sum(axis = 1)\n",
    "shrubPARZ_sun_per_m2_leaf_area = shrubPARZ_sun / shrubLAI_sun\n",
    "\n",
    "shrubPARZ_per_m2_leaf_area = shrubPARZ_shade_per_m2_leaf_area + shrubPARZ_sun_per_m2_leaf_area\n",
    "\n",
    "shrubPARZ_per_m2_leaf_area.plot(marker = \"o\")\n",
    "\n",
    "plt.ylabel(\"PAR absorbed by shrubs [W m-2 leaf area]\")"
   ]
  },
  {
   "cell_type": "markdown",
   "metadata": {},
   "source": [
    "#### Total PAR absorbed by shrubs"
   ]
  },
  {
   "cell_type": "code",
   "execution_count": null,
   "metadata": {},
   "outputs": [],
   "source": [
    "PAR_Z_total = shrubPARZ_shade + shrubPARZ_sun\n",
    "PAR_Z_total.plot()\n",
    "plt.ylabel(\"Shrub PAR absorbed [W m-2]\")"
   ]
  },
  {
   "cell_type": "code",
   "execution_count": null,
   "metadata": {},
   "outputs": [],
   "source": [
    "# def clllpf_to_cl_ll_pf(clllpf_var, dataset):\n",
    "#     n_cl = 2\n",
    "#     cl_llpf = (clllpf_var.rolling(fates_levcnlfpf = n_cl, center=False).construct(\"fates_levcl\")\n",
    "#         .isel(fates_levcnlfpf=slice(n_cl-1, None, n_cl))\n",
    "#         .rename({'fates_levcnlfpf':'fates_levllpf'})\n",
    "#         .assign_coords({'fates_levcl':np.array([1,2])})\n",
    "#         .assign_coords({'fates_levllpf':np.arange(0,120)}))\n",
    "    \n",
    "#     cl_ll_pf = (cl_llpf.rolling(fates_levllpf = n_pfts, center=False).construct(\"fates_levpft\")\n",
    "#                 .isel(fates_levllpf=slice(n_pfts-1, None, n_pfts))\n",
    "#                 .rename({\"fates_levllpf\":\"fates_levll\"})\n",
    "#                 .assign_coords({\"fates_levll\":np.arange(0,30)})\n",
    "#                 .assign_coords({\"fates_levpft\":dataset.fates_levpft}))\n",
    "    \n",
    "#     return cl_ll_pf"
   ]
  }
 ],
 "metadata": {
  "kernelspec": {
   "display_name": "env4_work",
   "language": "python",
   "name": "env4_work"
  },
  "language_info": {
   "codemirror_mode": {
    "name": "ipython",
    "version": 3
   },
   "file_extension": ".py",
   "mimetype": "text/x-python",
   "name": "python",
   "nbconvert_exporter": "python",
   "pygments_lexer": "ipython3",
   "version": "3.8.13"
  },
  "toc-autonumbering": true
 },
 "nbformat": 4,
 "nbformat_minor": 4
}
