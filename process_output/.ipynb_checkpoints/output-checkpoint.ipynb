{
 "cells": [
  {
   "cell_type": "code",
   "execution_count": 1,
   "id": "409e5466",
   "metadata": {},
   "outputs": [],
   "source": [
    "import sys\n",
    "import getopt\n",
    "import os\n",
    "import xarray as xr\n",
    "import functools\n",
    "import numpy as np\n",
    "import matplotlib.pyplot as plt\n",
    "import pandas as pd\n",
    "import matplotlib.pyplot as plt\n",
    "import matplotlib.dates as mdates\n",
    "import datetime as datetime\n",
    "from matplotlib.dates import DateFormatter\n",
    "import viz\n",
    "import hist\n",
    "import myfuncs\n",
    "import importlib\n",
    "import myparams\n",
    "from tabulate import tabulate\n",
    "importlib.reload(myfuncs)\n",
    "importlib.reload(hist)\n",
    "importlib.reload(myparams)\n",
    "importlib.reload(viz)\n",
    "from myparams import *"
   ]
  },
  {
   "cell_type": "markdown",
   "id": "49a56127",
   "metadata": {},
   "source": [
    "### Import"
   ]
  },
  {
   "cell_type": "code",
   "execution_count": 2,
   "id": "6d5c24b6",
   "metadata": {},
   "outputs": [
    {
     "name": "stdout",
     "output_type": "stream",
     "text": [
      "Importing data from netcdf....\n",
      "DONE!\n"
     ]
    }
   ],
   "source": [
    "#archive_path = '/home/adam/cloud/gdrive/postdoc/simulation_output'\n",
    "arg_case_name,arg_start_year,arg_end_year = ('CZ2_I2000Clm51Fates_api25_ca-ahb-branch.C17e2acb6a-F55579fec.2023-02-06',\n",
    "                                            '1901','1920')\n",
    "\n",
    "#define paths to netcdf files\n",
    "full_paths = myfuncs.getFullFilePaths(arg_case_name,arg_start_year,arg_end_year)\n",
    "\n",
    "#Import the data into an xarray\n",
    "print(\"Importing data from netcdf....\")\n",
    "ds = myfuncs.fix_time(xr.open_mfdataset(full_paths, decode_times=True,\n",
    "                                preprocess=functools.partial(myfuncs.preprocess, fields=hist.fields)))\n",
    "\n",
    "#get number of pfts\n",
    "n_pfts = len(ds.fates_levpft)\n",
    "\n",
    "print(\"DONE!\")\n",
    "\n",
    "#make output dir for saving other figures\n",
    "output_path = archive_path + \"/\" + \"additional_processed_output_\" + arg_case_name\n",
    "isExist = os.path.exists(output_path)\n",
    "if not isExist:\n",
    "        os.makedirs(output_path)"
   ]
  },
  {
   "cell_type": "markdown",
   "id": "39a156a6",
   "metadata": {},
   "source": [
    "### View other figures"
   ]
  },
  {
   "cell_type": "code",
   "execution_count": null,
   "id": "0218ebf8",
   "metadata": {},
   "outputs": [],
   "source": []
  }
 ],
 "metadata": {
  "kernelspec": {
   "display_name": "env4",
   "language": "python",
   "name": "env4"
  },
  "language_info": {
   "codemirror_mode": {
    "name": "ipython",
    "version": 3
   },
   "file_extension": ".py",
   "mimetype": "text/x-python",
   "name": "python",
   "nbconvert_exporter": "python",
   "pygments_lexer": "ipython3",
   "version": "3.8.13"
  },
  "toc": {
   "base_numbering": 1,
   "nav_menu": {},
   "number_sections": true,
   "sideBar": true,
   "skip_h1_title": false,
   "title_cell": "Table of Contents",
   "title_sidebar": "Contents",
   "toc_cell": false,
   "toc_position": {},
   "toc_section_display": true,
   "toc_window_display": false
  }
 },
 "nbformat": 4,
 "nbformat_minor": 5
}
